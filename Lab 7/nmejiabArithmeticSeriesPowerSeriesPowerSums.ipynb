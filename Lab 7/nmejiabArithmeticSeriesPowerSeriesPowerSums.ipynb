{
  "nbformat": 4,
  "nbformat_minor": 0,
  "metadata": {
    "colab": {
      "name": "ArithmeticSeriesPowerSeriesPowerSums.ipynb",
      "provenance": [],
      "collapsed_sections": []
    },
    "kernelspec": {
      "name": "python3",
      "display_name": "Python 3"
    }
  },
  "cells": [
    {
      "cell_type": "markdown",
      "metadata": {
        "id": "r4rXWI4gCN5B"
      },
      "source": [
        "# Arithmetic Series\n",
        "\n",
        "## Modified from Arithmetic Series -  [Wolfram MathWorld](https://mathworld.wolfram.com/ArithmeticSeries.html)\n",
        "\n",
        "\n",
        "An arithmetic sequence $\\{a_k\\}$ for $k=1, 2, ..., $ in which each term is computed from the previous one by adding (or subtracting) a constant $d$. \n",
        "\n",
        "\\begin{align*}\n",
        "a_1 & \\\\\n",
        "a_2 &\\ \\ =\\ \\ a_1 + d  \\\\\n",
        "a_3 &\\ \\ =\\ \\ a_2 + d \\ \\ =\\ \\ a_1 + 2d   \\\\\n",
        "a_4 &\\ \\ =\\ \\ a_3 + d \\ \\ =\\ \\ a_2 + 2d \\ \\ =\\ \\ a_1 + 3d  \\\\\n",
        "\\vdots\\\\\n",
        "a_k &\\ \\ =\\ \\ a_{(k-1)}+d \\ =\\  a_{(k-2)}+2d \\ =\\  \\ldots \\ =\\  \\ a_1+(k-1)d\n",
        "\\end{align*}\n",
        "\n",
        "Therefore, for $k>=1$,\n",
        "\n",
        "$$ a_k = a_1 + (k-1)d$$\n",
        "\n",
        "With $a_1$ and $d$ given.\n",
        "\n",
        "<br /> \n",
        "\n",
        "The sequence of the partial sum of the first $n$ terms of a sequence is called a series, in the case of an arithemetic sequence the series is called an arithmetic series.\n",
        "\n",
        "If  $a_1= 1$ and $d=1$ we have, the simplest arithmnetic sequence,  the natural numbers sequence $\\{a_k = k \\}$ for  $k=1, 2, ..., $  i.e. the seuqnece\n",
        "$$1, 2, ...,$$\n",
        "The  corresponmding series is \n",
        "$$ \n",
        "S_n = 1 + 2+ \\ldots + (n-1)+ n = \\sum_{k=1}^n k\n",
        "$$\n",
        "can be calculated as a function of $n$.\n",
        "\n",
        "Assume that we allign one $S_{n-1}$ with a second  $S_{n-1}$ that have the terms adden reverse order and you add term to term, we have\n",
        "\\begin{array}{llclclclclc}\n",
        "  S_{n-1} &=& 1 &+& 2 &+& \\ldots &+& (n-2) &+& (n-1) \\\\\n",
        "  S_{n-1} &=& (n-1)  &+& (n-2)  &+& \\ldots   &+& 2   &+& 1 \\\\\n",
        "   \\hline \\\\\n",
        "   2S_{n-1} &=& n  &+& n  &+& \\ldots   &+& n   &+& n \\\\\n",
        "\\end{array}\n",
        "so\n",
        "$$  2S_{n-1} = (n-1)n $$\n",
        "then\n",
        "$$  S_{n-1} = \\frac{1}{2} (n-1)n$$\n",
        "therefore \n",
        "$$  S_{n} = \\frac{1}{2} n(n+1)$$\n",
        "\n",
        "\n",
        "\\begin{align*}\n",
        "S_n &= \\sum_{k=1}^n a_k\t\\\\\n",
        "    &= \\sum_{k=1}^n[a_1+(k-1)d]\t\t\\\\\n",
        "    &= na_1 + d \\sum_{k=1}^n(k-1)\t\\\\\n",
        "    &= na_1 + d \\sum_{k=0}^{n-1} k\t\\\\\n",
        "    &= na_1 + d \\sum_{k=1}^{n-1} k\t\\\\\n",
        "    &= na_1 +  \\frac{1}{2} d(n-1)n\\\\\n",
        "\\end{align*}\n",
        "so \n",
        "$$ S_n =  \\frac{1}{2} n[2 a_1 +d(n-1)].$$\n",
        "\n",
        "Note, however, that\n",
        "$$a_1+a_n=a_1+[a_1+d(n-1)]=2a_1+d(n-1),$$ \t\n",
        "so\n",
        "$$S_n = \\frac{1}{2}n(a_1+a_n),$$\n",
        "\n",
        "\n",
        "or $n$ times the arithmetic mean of the first and last terms! This is the trick Gauss used as a schoolboy to solve the problem of summing the integers from $1$ to $100$ given as busy-work by his teacher. While his classmates toiled away doing the addition longhand, Gauss wrote a single number, the correct answer\n",
        "\n",
        "$$\\frac{1}{2}(100)(1+100)=50·101=5050$$ \t\n",
        "on his slate (Burton 1989, pp. 80-81; Hoffman 1998, p. 207). When the answers were examined, Gauss's proved to be the only correct one.\n",
        "\n",
        "<br /> \n",
        "\n",
        "If  the sequence starts at index $0$, $\\{a_k\\}$ for $ k=0, 1, 2, ..., $ we have\n",
        "\n",
        "\\begin{align*}\n",
        "a_0 & \\\\\n",
        "a_1 &\\ \\ =\\ \\ a_0 + d  \\\\\n",
        "a_2 &\\ \\ =\\ \\ a_1 + d \\ \\ =\\ \\ a_0 + 2d   \\\\\n",
        "a_3 &\\ \\ =\\ \\ a_2 + d \\ \\ =\\ \\ a_1 + 2d \\ \\ =\\ \\ a_0 + 3d  \\\\\n",
        "\\vdots\\\\\n",
        "a_k &\\ \\ =\\ \\ a_{(k-1)}+d \\ =\\  a_{(k-2)}+2d \\ =\\  \\ldots \\ = \\  \\ a_1+(k-1)d \\ \\ =\\ \\ a_0+kd\n",
        "\\end{align*}\n",
        "\n",
        "<br /> \n",
        "for given   $a_0$ and $d$.\n",
        "\n",
        "In this case the sum of the first $n$ terms  of  the arithemnetic sequence  is then given by\n",
        "\\begin{align*}\n",
        "S_n &= \\sum_{k=0}^{n-1} a_k\t\\\\\n",
        "    &= \\sum_{k=0}^{n-1}[a_0+kd]\t\t\\\\\n",
        "    &= n a_0 + d \\sum_{k=0}^{n-1} k\t\\\\\n",
        "    &= n a_0 + d \\sum_{k=1}^{n-1} k\t\\\\\n",
        "    &= n a_0+  \\frac{1}{2} d(n-1)n \\\\\n",
        "\\end{align*}\n",
        "so \n",
        "$$ S_n =  \\frac{1}{2} n[2 a_0 + d(n-1)].$$\n",
        "<br /> \n",
        "\n"
      ]
    },
    {
      "cell_type": "markdown",
      "metadata": {
        "id": "GfBh-QHRcods"
      },
      "source": [
        "### Code\n",
        "####  The simplest arithmetic sequence and series\n",
        "\n",
        "The simplest arithmnetic sequence is \n",
        "\n",
        "\n",
        "$$S_n = 1, 2, ...,$$"
      ]
    },
    {
      "cell_type": "markdown",
      "metadata": {
        "id": "n36eWqEXiktl"
      },
      "source": [
        "The following code plots the first $n = 15$ terms of the simplest arithmnetic sequence \n",
        "$$\\{a_n = n\\} \\text{ for } n =1,2,\\ldots  $$\n",
        "i.e\n",
        "$$\\{a_n = n\\} =1,2,\\ldots $$\n",
        "adn the corresponding terms of the simplest arithmnetic series \n",
        "$$  S_n = 1 + 2+ \\ldots + (n-1)+ n = \\sum_{k=1}^n =  \\frac{1}{2} n(n+1)$$\n"
      ]
    },
    {
      "cell_type": "markdown",
      "metadata": {
        "id": "_VyGiunIZknK"
      },
      "source": [
        "Plot"
      ]
    },
    {
      "cell_type": "code",
      "metadata": {
        "colab": {
          "base_uri": "https://localhost:8080/",
          "height": 537
        },
        "id": "gx3Q4uo-ONCi",
        "outputId": "0cf4b974-3a3c-445d-e2c5-df7cebb794f2"
      },
      "source": [
        "import matplotlib.pyplot as plt\n",
        "\n",
        "n = 15\n",
        "S_n = 0\n",
        "Serie_S_n=[]\n",
        "Sequence_a_n =[]\n",
        "for i in range(1,n+1):\n",
        "  S_n = S_n + i\n",
        "  Serie_S_n.append(S_n)\n",
        "  Sequence_a_n.append(i)\n",
        " \n",
        "plt.plot(Serie_S_n, color='black',label='Serie_S_n')\n",
        "plt.plot(Sequence_a_n, color='red',label='Sequence_a_n')\n",
        "plt.legend()\n",
        "\n",
        "\n"
      ],
      "execution_count": 2,
      "outputs": [
        {
          "output_type": "stream",
          "text": [
            "1\n",
            "3\n",
            "6\n",
            "10\n",
            "15\n",
            "21\n",
            "28\n",
            "36\n",
            "45\n",
            "55\n",
            "66\n",
            "78\n",
            "91\n",
            "105\n",
            "120\n"
          ],
          "name": "stdout"
        },
        {
          "output_type": "execute_result",
          "data": {
            "text/plain": [
              "<matplotlib.legend.Legend at 0x7f120c55b810>"
            ]
          },
          "metadata": {
            "tags": []
          },
          "execution_count": 2
        },
        {
          "output_type": "display_data",
          "data": {
            "image/png": "[encoded data removed]",
            "text/plain": [
              "<Figure size 432x288 with 1 Axes>"
            ]
          },
          "metadata": {
            "tags": [],
            "needs_background": "light"
          }
        }
      ]
    },
    {
      "cell_type": "markdown",
      "metadata": {
        "id": "0ybfJdHxZGvW"
      },
      "source": [
        "The following code computes the  $n=10000000$  term of the airthmetic series\n",
        "$$  S_n = 1 + 2+ \\ldots + (n-1)+ n = \\sum_{k=1}^n =  \\frac{1}{2} n(n+1)$$"
      ]
    },
    {
      "cell_type": "code",
      "metadata": {
        "colab": {
          "base_uri": "https://localhost:8080/"
        },
        "id": "99xYHDQycnol",
        "outputId": "f851ccdd-81a9-43ea-e487-9758cc23d0fd"
      },
      "source": [
        "n = 10000000\n",
        "S_n = 0\n",
        "for i in range(1,n+1):  # range(n+1) goes form 1 to n\n",
        "  S_n = S_n + i \n",
        "print(S_n)"
      ],
      "execution_count": 3,
      "outputs": [
        {
          "output_type": "stream",
          "text": [
            "50000005000000\n"
          ],
          "name": "stdout"
        }
      ]
    },
    {
      "cell_type": "code",
      "metadata": {
        "colab": {
          "base_uri": "https://localhost:8080/"
        },
        "id": "RGCSuDGHeFwH",
        "outputId": "22883cfd-4151-4692-8146-5783f20b1f44"
      },
      "source": [
        "(1/2)*n*(n+1)"
      ],
      "execution_count": 4,
      "outputs": [
        {
          "output_type": "execute_result",
          "data": {
            "text/plain": [
              "50000005000000.0"
            ]
          },
          "metadata": {
            "tags": []
          },
          "execution_count": 4
        }
      ]
    },
    {
      "cell_type": "markdown",
      "metadata": {
        "id": "bg8zxAhcecpk"
      },
      "source": [
        "The following code computes the $n=10000000$ term of the airthmetic series \n",
        "$$ S_n  = \\sum_{k=1}^n a_k$$\n",
        "\n",
        "<br /> \n",
        "for the airthmetic sequence $a_k = 10 + 3 (k-1) $ for $k=1,2,\\ldots$\n",
        "\n",
        "<br /> \n",
        "$$ 10,13,16,19,21,\\ldots$$\n"
      ]
    },
    {
      "cell_type": "markdown",
      "metadata": {
        "id": "hg3ixQ3bZiVh"
      },
      "source": [
        "Plot"
      ]
    },
    {
      "cell_type": "code",
      "metadata": {
        "colab": {
          "base_uri": "https://localhost:8080/"
        },
        "id": "w8FP1XqSgnie",
        "outputId": "4a34a476-b023-4ae0-e698-cf98110d57b5"
      },
      "source": [
        "n = 10000000\n",
        "a = 10\n",
        "d = 3\n",
        "S_n = 0\n",
        "for i in range(1,n+1):  # range(n+19 goes form 1 to n\n",
        "  S_n = S_n + a + d * (i-1) \n",
        "print(S_n)"
      ],
      "execution_count": 5,
      "outputs": [
        {
          "output_type": "stream",
          "text": [
            "150000085000000\n"
          ],
          "name": "stdout"
        }
      ]
    },
    {
      "cell_type": "code",
      "metadata": {
        "colab": {
          "base_uri": "https://localhost:8080/"
        },
        "id": "g_38RfB_hgg2",
        "outputId": "6131ce9e-e590-4647-9ddf-348fa33341e4"
      },
      "source": [
        "n*(2*a +d*(n-1))/2"
      ],
      "execution_count": 6,
      "outputs": [
        {
          "output_type": "execute_result",
          "data": {
            "text/plain": [
              "150000085000000.0"
            ]
          },
          "metadata": {
            "tags": []
          },
          "execution_count": 6
        }
      ]
    },
    {
      "cell_type": "markdown",
      "metadata": {
        "id": "r9qzONSlZq2q"
      },
      "source": [
        "## Your own example of arithmetic series "
      ]
    },
    {
      "cell_type": "markdown",
      "metadata": {
        "id": "OqqyNewFDRxg"
      },
      "source": [
        "Vamos a calcular una serie aritmética con un d igual a dos y un n igual a 100\n",
        ">$a_0 = 0$\\\n",
        ">$a_1 = a_0 + 2 = 2$\\\n",
        ">$a_2 = a_1 + 2 = a_0 + 2 + 2 = a_0 + 2·2 = 2 + 2 = 4$\\\n",
        ">$a_3 = a_2 + 2 = a_0 + 2 + 2 + 2 = a_0 + 2·3 = 2 + 2 + 2 = 6$\\\n",
        ">$a_i = a_{i-1} + 2 = a_0 + 2i = 0 + 2i = 2i$\\\n",
        "$$S_n = \\sum_{i = 0}^{n}a_i$$\n",
        ">$S_0 = a_0 = 0$\\\n",
        ">$S_1 = a_0 + a_1 = S_0 + a_1 = 0 + 2 = 2$\\\n",
        ">$S_2 = a_0 + a_1 + a_2 = S_1 + a_2 = 0 + 2 + 4 = 6$\\\n",
        ">$S_3 = a_0 + a_1 + a_2 + a_3 = S_2 + a_3 = 0 + 2 + 4 + 6 = 12$\\\n",
        ">$S_i = a_{0} + a_{1} + a_{2} + ... + a_{n-1} + a_{n} = S_{n-1} + a_n = S_{n-1} + 2n$\\\n",
        "$$S_n = \\sum_{i = 0}^{n}a_i = \\sum_{i = 0}^{n}2i$$\n",
        "$$S_n = 2·0 + \\sum_{i = 1}^{n}2i$$\n",
        "$$S_n = 2\\sum_{i = 1}^{n}i$$\n",
        "$$S_n = 2\\frac{n(n+1)}{2}$$\n",
        "$$S_n = n(n+1)$$\n",
        "para $n = 100$\\\n",
        "$$S_{100} = 2\\sum_{i = 1}^{n = 100}i$$\n",
        "$$S_{100} = 100(100 + 1)$$\n",
        "$$S_{100} = 10100$$"
      ]
    },
    {
      "cell_type": "code",
      "metadata": {
        "colab": {
          "base_uri": "https://localhost:8080/",
          "height": 282
        },
        "id": "in-basSlNovg",
        "outputId": "964c7bf2-4693-4e3e-e8c1-f2a371366850"
      },
      "source": [
        "import matplotlib.pyplot as plt\n",
        "\n",
        "n = 100\n",
        "S_n = 0\n",
        "Serie_S_n=[]\n",
        "Sequence_a_n =[]\n",
        "for i in range(0,n+1):\n",
        "  S_n = S_n + 2*i\n",
        "  Serie_S_n.append(S_n)\n",
        "  Sequence_a_n.append(i)\n",
        " \n",
        "plt.plot(Serie_S_n, color='black',label='Serie_S_n')\n",
        "plt.plot(Sequence_a_n, color='red',label='Sequence_a_n')\n",
        "plt.legend()\n"
      ],
      "execution_count": 3,
      "outputs": [
        {
          "output_type": "execute_result",
          "data": {
            "text/plain": [
              "<matplotlib.legend.Legend at 0x7f120bfe1490>"
            ]
          },
          "metadata": {
            "tags": []
          },
          "execution_count": 3
        },
        {
          "output_type": "display_data",
          "data": {
            "image/png": "[encoded data removed]",
            "text/plain": [
              "<Figure size 432x288 with 1 Axes>"
            ]
          },
          "metadata": {
            "tags": [],
            "needs_background": "light"
          }
        }
      ]
    },
    {
      "cell_type": "code",
      "metadata": {
        "id": "sJ1yhp4lNVw9",
        "colab": {
          "base_uri": "https://localhost:8080/"
        },
        "outputId": "49ed07d5-2e98-4f55-c3ea-06b549191c28"
      },
      "source": [
        "n = 100\n",
        "S_n = 0\n",
        "for i in range(0,n+1):\n",
        "  S_n = S_n + 2*i \n",
        "print(S_n)"
      ],
      "execution_count": 9,
      "outputs": [
        {
          "output_type": "stream",
          "text": [
            "10100\n"
          ],
          "name": "stdout"
        }
      ]
    },
    {
      "cell_type": "code",
      "metadata": {
        "colab": {
          "base_uri": "https://localhost:8080/"
        },
        "id": "6IrEx4SNOO-X",
        "outputId": "bbf47643-f1c6-42d5-fc74-adf01682d768"
      },
      "source": [
        "print(n*(n+1))"
      ],
      "execution_count": 13,
      "outputs": [
        {
          "output_type": "stream",
          "text": [
            "10100\n"
          ],
          "name": "stdout"
        }
      ]
    },
    {
      "cell_type": "markdown",
      "metadata": {
        "id": "yZTV4-MOO39g"
      },
      "source": [
        "Vamos a calcular una serie aritmética con un d igual a $\\frac{1}{2}$ y un n igual a 100\n",
        ">$a_0 = 0$\\\n",
        ">$a_1 = a_0 + \\frac{1}{2} = \\frac{1}{2}$\n",
        ">$a_2 = a_1 + \\frac{1}{2} = a_0 + \\frac{1}{2} + \\frac{1}{2} = a_0 + \\frac{1}{2}·2 = \\frac{1}{2} + \\frac{1}{2} = 1$\\\n",
        ">$a_3 = a_2 + \\frac{1}{2} = a_0 + \\frac{1}{2} + \\frac{1}{2} + \\frac{1}{2} = a_0 + \\frac{1}{2}·3 = \\frac{1}{2} + \\frac{1}{2} + \\frac{1}{2} = \\frac{3}{2}$\\\n",
        ">$a_i = a_{i-1} + \\frac{1}{2} = a_0 + \\frac{1}{2}i = 0 + \\frac{1}{2}i = \\frac{1}{2}i$\\\n",
        "$$S_n = \\sum_{i = 0}^{n}a_i$$\n",
        ">$S_0 = a_0 = 0$\\\n",
        ">$S_1 = a_0 + a_1 = S_0 + a_1 = 0 + \\frac{1}{2} = \\frac{1}{2}$\\\n",
        ">$S_2 = a_0 + a_1 + a_2 = a_1 + a_2 = 0 + \\frac{1}{2} + 1 = \\frac{3}{2}$\\\n",
        ">$S_3 = a_0 + a_1 + a_2 + a_3 = S_2 + a_3 = 0 + \\frac{1}{2} + 1 + \\frac{3}{2} = 3$\\\n",
        ">$S_n = a_{0} + a_{1} + a_{2} + ... + a_{n-1} + a_{n} = S_{n-1} + a_n = S_{n-1} + \\frac{1}{2}n$\\\n",
        "$$S_n = \\sum_{i = 0}^{n}a_i = \\sum_{i = 0}^{n}\\frac{1}{2}i$$\n",
        "$$S_n = \\frac{1}{2}·0 + \\sum_{i = 1}^{n}2i$$\n",
        "$$S_n = \\frac{1}{2}\\sum_{i = 1}^{n}i$$\n",
        "$$S_n = \\frac{1}{2}\\frac{n(n+1)}{2}$$\n",
        "$$S_n = \\frac{n(n+1)}{4}$$\n",
        "para $n = 100$\\\n",
        "$$S_{100} = \\frac{1}{2}\\sum_{i = 1}^{n = 100}i$$\n",
        "$$S_{100} = \\frac{100(100+1)}{4}$$\n",
        "$$S_{100} = 2525$$"
      ]
    },
    {
      "cell_type": "code",
      "metadata": {
        "colab": {
          "base_uri": "https://localhost:8080/",
          "height": 282
        },
        "id": "cMVl0PDzaidU",
        "outputId": "03f6d001-2424-45d1-fd4a-ce2ccd8e81bc"
      },
      "source": [
        "import matplotlib.pyplot as plt\n",
        "\n",
        "n = 100\n",
        "S_n = 0\n",
        "Serie_S_n=[]\n",
        "Sequence_a_n =[]\n",
        "for i in range(0,n+1):\n",
        "  S_n = S_n + i/2\n",
        "  Serie_S_n.append(S_n)\n",
        "  Sequence_a_n.append(i)\n",
        " \n",
        "plt.plot(Serie_S_n, color='black',label='Serie_S_n')\n",
        "plt.plot(Sequence_a_n, color='red',label='Sequence_a_n')\n",
        "plt.legend()"
      ],
      "execution_count": 14,
      "outputs": [
        {
          "output_type": "execute_result",
          "data": {
            "text/plain": [
              "<matplotlib.legend.Legend at 0x7f120bed3b90>"
            ]
          },
          "metadata": {
            "tags": []
          },
          "execution_count": 14
        },
        {
          "output_type": "display_data",
          "data": {
            "image/png": "[encoded data removed]",
            "text/plain": [
              "<Figure size 432x288 with 1 Axes>"
            ]
          },
          "metadata": {
            "tags": [],
            "needs_background": "light"
          }
        }
      ]
    },
    {
      "cell_type": "code",
      "metadata": {
        "colab": {
          "base_uri": "https://localhost:8080/"
        },
        "id": "i2STfStDau-C",
        "outputId": "d04646b4-3eba-45e4-bd85-de2a53c3accf"
      },
      "source": [
        "n = 100\n",
        "S_n = 0\n",
        "for i in range(0,n+1):\n",
        "  S_n = S_n + i/2 \n",
        "print(S_n)"
      ],
      "execution_count": 15,
      "outputs": [
        {
          "output_type": "stream",
          "text": [
            "2525.0\n"
          ],
          "name": "stdout"
        }
      ]
    },
    {
      "cell_type": "code",
      "metadata": {
        "colab": {
          "base_uri": "https://localhost:8080/"
        },
        "id": "6CB9nG11a2Ic",
        "outputId": "5f599813-38e8-4b5d-d421-73e5fbbfb7da"
      },
      "source": [
        "print(n*(n+1)/4)"
      ],
      "execution_count": 16,
      "outputs": [
        {
          "output_type": "stream",
          "text": [
            "2525.0\n"
          ],
          "name": "stdout"
        }
      ]
    },
    {
      "cell_type": "markdown",
      "metadata": {
        "id": "AKWJ1F7hac8T"
      },
      "source": [
        "# Geometric Series\n",
        "\n",
        "## Modified from Arithmetic Series -  [Wolfram MathWorld](https://mathworld.wolfram.com/GeometricSeries.html)\n"
      ]
    },
    {
      "cell_type": "markdown",
      "metadata": {
        "id": "W5zx_-nR81GI"
      },
      "source": [
        "An geometric series is the sum of a sequence $\\{a_k\\}$ for $k=1, 2, ..., $ in which each term is computed from the previous one by adding (or subtracting) a constant $d$. \n",
        "\n",
        "\\begin{align*}\n",
        "a_0 &\\ \\ =\\ \\ r^0 \\ \\ =\\ \\ 1\\\\\n",
        "a_1 &\\ \\ =\\ \\ a_0 *  r \\ \\ =\\ \\  r\\\\\n",
        "a_2 &\\ \\ =\\ \\ a_1 * r\\ \\ =\\ \\ a_0 * r^2  \\ \\ =\\ \\ r^2 \\\\\n",
        "a_3 &\\ \\ =\\ \\ a_2 * r \\ \\ =\\ \\ a_0 * r^3 \\ \\ =\\ \\  r^3  \\\\\n",
        "a_4 &\\ \\ =\\ \\ a_3 * r\\ \\  =\\ \\ a_0 * r^4 \\ \\  =\\ \\ r^4  \\\\\n",
        "\\vdots\\\\\n",
        "a_k &\\ \\ =\\ \\ a_{(k-1)}* r \\ =\\   a_0 * r^k \\ \\  =\\ \\  r^k\n",
        "\\end{align*}\n",
        "\n",
        "The sum of the first $n$ terms  of  the geometric sequence (called an geometric serie)  is then given by\n",
        "$$\n",
        "\\begin{array}{ll}\n",
        "S_n &=  1 + r + r^2 + \\cdots + r^{n-1} +r^n \\\\\n",
        " &=  (1 + r + r^2 + \\cdots + r^{n-1} ) +r^n \\\\\n",
        " &= S_{n-1}  +r^n \n",
        "\\end{array}\n",
        "$$\n",
        "\n",
        "$$\n",
        "\\begin{array}{ll}\n",
        "S_n &=  1 + r + r^2 + \\cdots + r^{n-1} +r^n \\\\\n",
        " &=  1 + (r + r^2 + \\cdots + r^{n-1}  +r^n)  \\\\\n",
        " &=   1 + r (1 +  r  + r^2 + \\cdots + r^{n-1} )  \\\\\n",
        "  &=   1 + r   S_{n-1} \n",
        "\\end{array}\n",
        "$$\n",
        "\n",
        "Then\n",
        "$$\n",
        " S_{n-1}  +r^n =   1 + r   S_{n-1} \n",
        "$$\n",
        "\n",
        "Therefore\n",
        "$$\n",
        " S_{n-1} (1 -r)   +r^n =   1 - r^n \n",
        "$$\n",
        "\n",
        "$$\n",
        " S_{n-1}   =   \\frac{1 - r^n }{1 -r}\n",
        "$$\n",
        "\n",
        "$$\n",
        " S_{n}   =   \\frac{1 - r^{n+1} }{1 -r}  = \\frac{ r^{n+1} - 1}{r -1}\n",
        "$$\n"
      ]
    },
    {
      "cell_type": "markdown",
      "metadata": {
        "id": "CDUYfT8k8crr"
      },
      "source": [
        "## Nodes in Complete Binary Tree with $L=0,1,2,\\cdots , L-1$ levels \n",
        "\n",
        "![](https://raw.githubusercontent.com/gjhernandezp/algorithms/master/Lab7/ComBinTree.png)\n",
        "\n",
        "In a complete binary tree you have in ecah level $k =0,1,2,\\cdots $  $ 2^k $\n",
        "\n",
        "$$\n",
        "\\begin{array}{ll}\n",
        "\\text {Level } 0 \\rightarrow 2^0 = 1 \\text { node (root)} \\\\\n",
        "\\text {Level } 1 \\rightarrow 2^1 = 2 \\text { nodes} \\\\\n",
        "\\text {Level } 2 \\rightarrow 2^2 = 4 \\text { nodes} \\\\\n",
        "\\text {Level } 3 \\rightarrow 2^3 = 8 \\text { nodes} \\\\\n",
        "\\vdots\\\\\n",
        "\\text {Level } k \\rightarrow 2^k  \\text { nodes} \\\\\n",
        "\\end{array}\n",
        "$$\n",
        "\n",
        "nodes, with $l = 0,1,2, ... $ the level\n",
        "\n",
        "Total number of the complte tree with $L=0,1,2,\\cdots , L-1$ levels\n",
        "\n",
        "$$ \n",
        "2^0 + 2^1 + 2^2 + \\cdots +2^{L-1}  = 1 + 2 + 4 + \\cdots +2^{L-1} = \\sum_{k=0}^{L-1} 2^k = \\frac{ 2^{L} - 1}{2 -1} = 2^{L} - 1\n",
        "$$"
      ]
    },
    {
      "cell_type": "markdown",
      "metadata": {
        "id": "YiWlrhLZNMX9"
      },
      "source": [
        "### Code"
      ]
    },
    {
      "cell_type": "code",
      "metadata": {
        "id": "YvMkYU8UNOll",
        "colab": {
          "base_uri": "https://localhost:8080/"
        },
        "outputId": "f6147d74-9712-4434-ab10-468e0e436ef6"
      },
      "source": [
        "L = 50\n",
        "r = 2\n",
        "S_n = 0\n",
        "for k in range(0,L): #desde 0 hasta L-1\n",
        "  S_n = S_n + r**k\n",
        "print(S_n)"
      ],
      "execution_count": 17,
      "outputs": [
        {
          "output_type": "stream",
          "text": [
            "1125899906842623\n"
          ],
          "name": "stdout"
        }
      ]
    },
    {
      "cell_type": "code",
      "metadata": {
        "colab": {
          "base_uri": "https://localhost:8080/"
        },
        "id": "Jjix8HiAfCpZ",
        "outputId": "f4d54721-712a-4ddd-8f34-703a2ff82b6b"
      },
      "source": [
        "print((r**L)-1)\n",
        "print((1-(r**L))/(1-r))"
      ],
      "execution_count": 21,
      "outputs": [
        {
          "output_type": "stream",
          "text": [
            "1125899906842623\n",
            "1125899906842623.0\n"
          ],
          "name": "stdout"
        }
      ]
    },
    {
      "cell_type": "markdown",
      "metadata": {
        "id": "Dd3RWDwJe2xD"
      },
      "source": [
        "## Zenon Arrow\n",
        "\n",
        "![](https://raw.githubusercontent.com/gjhernandezp/algorithms/master/Lab7/zeno-paradox-arrow.png)\n",
        "\n",
        "https://leseditionsdeschavonnes.com/2018/10/15/the-paradox-of-achilles-and-the-tortoise/\n",
        "\n",
        "\n",
        "\n",
        "$$ \n",
        "\\lim_{n\\rightarrow \\infty} \\left\\{\\left(\\frac{1}{2}\\right)^0 + \\left(\\frac{1}{2}\\right)^1 +\\left(\\frac{1}{2}\\right)^2 + \\cdots +\\left(\\frac{1}{2}\\right)^{n} \\right\\} = \\lim_{n\\rightarrow \\infty} \\left\\{ 1 +\\frac{1}{2} + \\frac{1}{4} + \\frac{1}{8} + \\cdots +\\frac{1}{2^{n}}\\right\\}  = \\lim_{n\\rightarrow \\infty} \\sum_{k=0}^{n} \\left(\\frac{1}{2}\\right)^k = \\lim_{n\\rightarrow \\infty} \\frac{ 1- \\left(\\frac{1}{2}\\right)^n  }{1 - \\left(\\frac{1}{2}\\right) } = \\frac{ 1}{1 - \\left(\\frac{1}{2}\\right)} = 2\n",
        "$$"
      ]
    },
    {
      "cell_type": "markdown",
      "metadata": {
        "id": "R-J4EekBNPkd"
      },
      "source": [
        "### Code"
      ]
    },
    {
      "cell_type": "code",
      "metadata": {
        "id": "8xdBovY3NEW_",
        "colab": {
          "base_uri": "https://localhost:8080/"
        },
        "outputId": "1eead461-c99c-4638-cdb9-70af35bf2191"
      },
      "source": [
        "L = 100\n",
        "r = 1/2\n",
        "S_n = 0\n",
        "for k in range(0,L+1): #desde 0 hasta L\n",
        "  S_n = S_n + r**k\n",
        "print(S_n)"
      ],
      "execution_count": 25,
      "outputs": [
        {
          "output_type": "stream",
          "text": [
            "2.0\n"
          ],
          "name": "stdout"
        }
      ]
    },
    {
      "cell_type": "code",
      "metadata": {
        "colab": {
          "base_uri": "https://localhost:8080/"
        },
        "id": "ywVNgZmxg1eZ",
        "outputId": "b31baf82-0b46-445c-b3bc-70288a8e8614"
      },
      "source": [
        "print((1- r**(n+1))/(1-r))"
      ],
      "execution_count": 26,
      "outputs": [
        {
          "output_type": "stream",
          "text": [
            "2.0\n"
          ],
          "name": "stdout"
        }
      ]
    },
    {
      "cell_type": "markdown",
      "metadata": {
        "id": "dh2ntBeoNQlN"
      },
      "source": [
        "# Power Sums \n",
        "\n",
        "*   https://mathworld.wolfram.com/PowerSum.html\n",
        "*   https://www.researchgate.net/publication/331933608_The_Powers_Sums_Bernoulli_Numbers_Bernoulli_Polynomials_Rethinked\n",
        "*   https://en.wikipedia.org/wiki/Sums_of_powers\n",
        "\n"
      ]
    },
    {
      "cell_type": "markdown",
      "metadata": {
        "id": "t6qYAk-fhCnD"
      },
      "source": [
        "consideremos la suceción:\\\n",
        "$a_n = a_{n-1}^p$\\\n",
        "desarrollemos:\\\n",
        "$a_0 = a_0$\\\n",
        "$a_1 = a_0^p$\\\n",
        "$a_2 = a_1^p = (a_0^p)^p = a_0^{p*p} = a_0^{(p^2)}$\\\n",
        "$a_3 = a_2^p = ((a_0^p)^p)^p = a_0^{p*p*p} = a_0^{(p^3)}$\\\n",
        "$a_i = a_0^{(p^i)}$\\\n",
        "consideremos $S_n$ como:\\\n",
        "$S_n = a_0 + a_1 + a_2 + ... + a_n$\n",
        "$$S_n = \\sum_{i = 0}^{n}a_i$$\n",
        "$S_0 = a_0$\\\n",
        "$S_1 = a_0 + a_1 = a_0 + a_0^p$\\\n",
        "$S_2 = a_0 + a_1 + a_2 = a_0 + a_0^p + a_0^{(p^2)}$\\\n",
        "$S_3 = a_0 + a_1 + a_2 + a_3 = a_0 + a_0^p + a_0^{(p^2)} + a_0^{(p^3)}$\\\n",
        "$S_n = S_{n-1} + a_0^{(p^n)}$"
      ]
    },
    {
      "cell_type": "markdown",
      "metadata": {
        "id": "boaswyoon98c"
      },
      "source": [
        "**Ejemplo 1:**"
      ]
    },
    {
      "cell_type": "code",
      "metadata": {
        "colab": {
          "base_uri": "https://localhost:8080/"
        },
        "id": "C9c1ZgkFpzwK",
        "outputId": "85c07bb8-030d-4ac0-df97-8472c0c8232e"
      },
      "source": [
        "#para n = 5 y p = 2\n",
        "n = 5\n",
        "p = 2\n",
        "a_0 = 2 #a_0 preferiblemente hacerlo diferente de cero pues si fuese 0 a_n = 0 y diferente de 1 pues en ese caso la serie sería geométrica\n",
        "S_n = 0\n",
        "a_i = a_0\n",
        "for i in range(0,n+1): #desde 0 hasta n\n",
        "  S_n = S_n + a_i\n",
        "  a_i = a_i**p\n",
        "print(S_n)"
      ],
      "execution_count": 22,
      "outputs": [
        {
          "output_type": "stream",
          "text": [
            "4295033110\n"
          ],
          "name": "stdout"
        }
      ]
    },
    {
      "cell_type": "code",
      "metadata": {
        "colab": {
          "base_uri": "https://localhost:8080/"
        },
        "id": "IaaCVdrlswJf",
        "outputId": "4ab54ca1-4be3-42ea-dd08-3f179e780ee3"
      },
      "source": [
        "#para n = 5 y p = 2\n",
        "n = 5\n",
        "p = 2\n",
        "a_0 = 2 #a_0 preferiblemente hacerlo diferente de cero pues si fuese 0 a_n = 0 y diferente de 1 pues en ese caso la serie sería geométrica\n",
        "S_n = 0\n",
        "for i in range(0,n+1): #desde 0 hasta n\n",
        "  S_n = S_n + (a_0 ** (p ** i))\n",
        "print(S_n)"
      ],
      "execution_count": 23,
      "outputs": [
        {
          "output_type": "stream",
          "text": [
            "4295033110\n"
          ],
          "name": "stdout"
        }
      ]
    },
    {
      "cell_type": "markdown",
      "metadata": {
        "id": "yokIJHHvvnt7"
      },
      "source": [
        "**Ejemplo 2:**"
      ]
    },
    {
      "cell_type": "code",
      "metadata": {
        "colab": {
          "base_uri": "https://localhost:8080/"
        },
        "id": "M9l07dt2wEa3",
        "outputId": "e5729439-edfc-4007-a941-a57f228c40e2"
      },
      "source": [
        "#para n = 2 y p = 5\n",
        "n = 2\n",
        "p = 5\n",
        "a_0 = 2 #a_0 preferiblemente hacerlo diferente de cero pues si fuese 0 a_n = 0 y diferente de 1 pues en ese caso la serie sería geométrica\n",
        "S_n = 0\n",
        "a_i = a_0\n",
        "for i in range(0,n+1): #desde 0 hasta n\n",
        "  S_n = S_n + a_i\n",
        "  a_i = a_i**p\n",
        "print(S_n)"
      ],
      "execution_count": 25,
      "outputs": [
        {
          "output_type": "stream",
          "text": [
            "33554466\n"
          ],
          "name": "stdout"
        }
      ]
    },
    {
      "cell_type": "code",
      "metadata": {
        "colab": {
          "base_uri": "https://localhost:8080/"
        },
        "id": "pVYuVccWwYEd",
        "outputId": "17057e33-91bf-4209-ef45-bb66c536a7fb"
      },
      "source": [
        "#para n = 2 y p = 5\n",
        "n = 2\n",
        "p = 5\n",
        "a_0 = 2 #a_0 preferiblemente hacerlo diferente de cero pues si fuese 0 a_n = 0 y diferente de 1 pues en ese caso la serie sería geométrica\n",
        "S_n = 0\n",
        "for i in range(0,n+1): #desde 0 hasta n\n",
        "  S_n = S_n + (a_0 ** (p ** i))\n",
        "print(S_n)"
      ],
      "execution_count": 26,
      "outputs": [
        {
          "output_type": "stream",
          "text": [
            "33554466\n"
          ],
          "name": "stdout"
        }
      ]
    }
  ]
}