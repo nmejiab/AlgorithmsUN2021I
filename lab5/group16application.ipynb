{
  "nbformat": 4,
  "nbformat_minor": 0,
  "metadata": {
    "colab": {
      "name": "group16application.ipynb",
      "provenance": [],
      "collapsed_sections": []
    },
    "kernelspec": {
      "name": "python3",
      "display_name": "Python 3"
    },
    "language_info": {
      "name": "python"
    }
  },
  "cells": [
    {
      "cell_type": "markdown",
      "metadata": {
        "id": "jJ6l2ySeO_gP"
      },
      "source": [
        "# **LAB 5 Simple Flask web based application in pythonanywhere**"
      ]
    },
    {
      "cell_type": "markdown",
      "metadata": {
        "id": "RdBE45NOPR8A"
      },
      "source": [
        "Nicolás Darío Mejía Borda\n",
        "\n",
        "Daniel Santiago Mendoza Morales\n",
        "\n",
        "Link de la aplicación funcionando:\n",
        "\n",
        "http://nmejiab.pythonanywhere.com/"
      ]
    },
    {
      "cell_type": "markdown",
      "metadata": {
        "id": "NfBH5M9OP5i_"
      },
      "source": [
        "**Código fuente python**"
      ]
    },
    {
      "cell_type": "code",
      "metadata": {
        "id": "hZxOGV-0QHFD"
      },
      "source": [
        "from flask import Flask, render_template, request\n",
        "import backend\n",
        "\n",
        "app = Flask(__name__)\n",
        "\n",
        "@app.route(\"/\", methods = [\"GET\", \"POST\"])\n",
        "def home():\n",
        "    if request.method == \"GET\":\n",
        "        return render_template(\"index.html\")\n",
        "    if request.method == \"POST\":\n",
        "        aa = float(request.form.get('aa'))\n",
        "        ab = float(request.form.get('ab'))\n",
        "        ba = float(request.form.get('ba'))\n",
        "        bb = float(request.form.get('bb'))\n",
        "        return render_template(\"index.html\",\n",
        "        output = backend.distancia(aa, ab, ba, bb),\n",
        "        user_text = aa, user_text2 = ab, user_text3 = ba, user_text4 = bb)\n",
        "\n",
        "if __name__ == \"__main__\":\n",
        "    app.run()"
      ],
      "execution_count": null,
      "outputs": []
    },
    {
      "cell_type": "markdown",
      "metadata": {
        "id": "Gw3ZZxhuQLGo"
      },
      "source": [
        "**Backend**"
      ]
    },
    {
      "cell_type": "code",
      "metadata": {
        "id": "EoREXcPqQxpU"
      },
      "source": [
        "import math\n",
        "def distancia(ax, ay, bx, by):\n",
        "    return math.sqrt((abs(ax-bx)**2)+(abs(ay-by)**2))"
      ],
      "execution_count": null,
      "outputs": []
    },
    {
      "cell_type": "markdown",
      "metadata": {
        "id": "JXLEfDOIQ1Rd"
      },
      "source": [
        "**HTML**"
      ]
    },
    {
      "cell_type": "code",
      "metadata": {
        "id": "iOhnjeHIQ5bz"
      },
      "source": [
        "<html>\n",
        "  <title> Distancia </title>\n",
        "  <form method=\"POST\">\n",
        "    <label> Punto a: </label>\n",
        "    <input type=\"text\" name=\"aa\" value = {{user_text | safe}}>\n",
        "    <label> , </label>\n",
        "    <input type=\"text\" name=\"ab\" value = {{user_text2 | safe}}>  <br>\n",
        "\n",
        "    <label> Punto b: </label>\n",
        "    <input type=\"text\" name=\"ba\" value = {{user_text3 | safe}}>\n",
        "    <label> , </label>\n",
        "    <input type=\"text\" name=\"bb\" value = {{user_text4 | safe}}>  <br>\n",
        "\n",
        "    <label> Distancia: </label>\n",
        "    <label> {{output | safe}} </label> <br>\n",
        "    <button type=\"submit\" name=\"submit\">Ingresar datos</button>\n",
        "  </form>\n",
        "\n",
        "</html>"
      ],
      "execution_count": null,
      "outputs": []
    }
  ]
}