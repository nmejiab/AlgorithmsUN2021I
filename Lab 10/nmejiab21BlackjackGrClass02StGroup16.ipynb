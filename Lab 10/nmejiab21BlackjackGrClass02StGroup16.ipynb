{
  "nbformat": 4,
  "nbformat_minor": 0,
  "metadata": {
    "colab": {
      "name": "Untitled3.ipynb",
      "provenance": []
    },
    "kernelspec": {
      "name": "python3",
      "display_name": "Python 3"
    },
    "language_info": {
      "name": "python"
    }
  },
  "cells": [
    {
      "cell_type": "markdown",
      "metadata": {
        "id": "sOjRP4CC2a2m"
      },
      "source": [
        "**Punto 1**"
      ]
    },
    {
      "cell_type": "markdown",
      "metadata": {
        "id": "7qmfgLMX2emG"
      },
      "source": [
        "48 cartas"
      ]
    },
    {
      "cell_type": "code",
      "metadata": {
        "colab": {
          "base_uri": "https://localhost:8080/",
          "height": 316
        },
        "id": "Hpm1ZQrJh64a",
        "outputId": "b839ea7b-ac81-4a1a-807c-1f8c01d8b574"
      },
      "source": [
        "import random\n",
        "import statistics\n",
        "import matplotlib.pyplot as plt\n",
        "import numpy as np\n",
        "iteraciones = 10000000\n",
        "numeros = [0,0,0,0,0,0,0,0,0,0]\n",
        "x = np.linspace(2, 11, num = 10)\n",
        "ganancias = 0\n",
        "usadas = 0\n",
        "for i in range(iteraciones):\n",
        "  baraja = [1,2,3,4,5,6,7,10,11,12,1,2,3,4,5,6,7,8,9,10,11,12,1,2,3,4,5,6,7,8,9,10,11,12,1,2,3,4,5,6,7,8,9,10,11,12]\n",
        "  cartas = []\n",
        "  numero = 0\n",
        "  while sum(cartas) < 21:\n",
        "    carta = random.choice(baraja)\n",
        "    cartas.append(carta)\n",
        "    baraja.remove(carta)\n",
        "    numero = numero + 1\n",
        "  if sum(cartas) == 21:\n",
        "    ganancias = ganancias + 1\n",
        "    numeros[numero - 2] += 1\n",
        "    usadas += numero\n",
        "print(\"Probabilidad de sacarse la 21 padre:\" + str(ganancias/iteraciones))\n",
        "print(\"Promedio cantidad de cartas requeridas:\" + str(usadas/ganancias))\n",
        "plt.bar(x, numeros)"
      ],
      "execution_count": 12,
      "outputs": [
        {
          "output_type": "stream",
          "text": [
            "Probabilidad de sacarse la 21 padre:0.1587368\n",
            "Promedio cantidad de cartas requeridas:3.477926353561367\n"
          ],
          "name": "stdout"
        },
        {
          "output_type": "execute_result",
          "data": {
            "text/plain": [
              "<BarContainer object of 10 artists>"
            ]
          },
          "metadata": {
            "tags": []
          },
          "execution_count": 12
        },
        {
          "output_type": "display_data",
          "data": {
            "image/png": "[encoded data removed]",
            "text/plain": [
              "<Figure size 432x288 with 1 Axes>"
            ]
          },
          "metadata": {
            "tags": [],
            "needs_background": "light"
          }
        }
      ]
    },
    {
      "cell_type": "markdown",
      "metadata": {
        "id": "21mARJlQ2h5n"
      },
      "source": [
        "52 cartas"
      ]
    },
    {
      "cell_type": "code",
      "metadata": {
        "colab": {
          "base_uri": "https://localhost:8080/",
          "height": 316
        },
        "id": "zYq3lrEC1ksA",
        "outputId": "a91cf426-0642-4205-df69-4830914b0f40"
      },
      "source": [
        "import random\n",
        "import statistics\n",
        "import matplotlib.pyplot as plt\n",
        "import numpy as np\n",
        "iteraciones = 10000000\n",
        "numeros = [0,0,0,0,0,0,0,0,0,0]\n",
        "x = np.linspace(2, 11, num = 10)\n",
        "ganancias = 0\n",
        "usadas = 0\n",
        "for i in range(iteraciones):\n",
        "  baraja = [1,2,3,4,5,6,7,8,9,10,11,12,13,1,2,3,4,5,6,7,8,9,10,11,12,13,1,2,3,4,5,6,7,8,9,10,11,12,13,1,2,3,4,5,6,7,8,9,10,11,12,13]\n",
        "  cartas = []\n",
        "  numero = 0\n",
        "  while sum(cartas) < 21:\n",
        "    carta = random.choice(baraja)\n",
        "    cartas.append(carta)\n",
        "    baraja.remove(carta)\n",
        "    numero = numero + 1\n",
        "  if sum(cartas) == 21:\n",
        "    ganancias = ganancias + 1\n",
        "    numeros[numero - 2] += 1\n",
        "    usadas += numero\n",
        "print(\"Probabilidad de sacarse la 21 padre:\" + str(ganancias/iteraciones))\n",
        "print(\"Promedio cantidad de cartas requeridas:\" + str(usadas/ganancias))\n",
        "plt.bar(x, numeros)"
      ],
      "execution_count": 13,
      "outputs": [
        {
          "output_type": "stream",
          "text": [
            "Probabilidad de sacarse la 21 padre:0.1447614\n",
            "Promedio cantidad de cartas requeridas:3.216201970967399\n"
          ],
          "name": "stdout"
        },
        {
          "output_type": "execute_result",
          "data": {
            "text/plain": [
              "<BarContainer object of 10 artists>"
            ]
          },
          "metadata": {
            "tags": []
          },
          "execution_count": 13
        },
        {
          "output_type": "display_data",
          "data": {
            "image/png": "[encoded data removed]",
            "text/plain": [
              "<Figure size 432x288 with 1 Axes>"
            ]
          },
          "metadata": {
            "tags": [],
            "needs_background": "light"
          }
        }
      ]
    },
    {
      "cell_type": "markdown",
      "metadata": {
        "id": "cRSDZy7L2lz-"
      },
      "source": [
        "**Punto 2**"
      ]
    },
    {
      "cell_type": "markdown",
      "metadata": {
        "id": "_r-__Usk3TLn"
      },
      "source": [
        "48 cartas"
      ]
    },
    {
      "cell_type": "code",
      "metadata": {
        "colab": {
          "base_uri": "https://localhost:8080/",
          "height": 316
        },
        "id": "rPdaMIeG3Szl",
        "outputId": "5b0e025a-64a3-4fa6-9bf7-3a64b655c714"
      },
      "source": [
        "import random\n",
        "import statistics\n",
        "import matplotlib.pyplot as plt\n",
        "import numpy as np\n",
        "iteraciones = 10000000\n",
        "numeros = [0,0,0,0,0,0,0,0,0]\n",
        "x = np.linspace(3, 11, num = 9)\n",
        "ganancias = 0\n",
        "usadas = 0\n",
        "for i in range(iteraciones):\n",
        "  baraja = [1,2,3,4,5,6,7,10,10,10,1,2,3,4,5,6,7,8,9,10,10,10,1,2,3,4,5,6,7,8,9,10,10,10,1,2,3,4,5,6,7,8,9,10,10,10]\n",
        "  cartas = []\n",
        "  numero = 0\n",
        "  while sum(cartas) < 21:\n",
        "    carta = random.choice(baraja)\n",
        "    cartas.append(carta)\n",
        "    baraja.remove(carta)\n",
        "    numero = numero + 1\n",
        "  if sum(cartas) == 21:\n",
        "    ganancias = ganancias + 1\n",
        "    numeros[numero - 2] += 1\n",
        "    usadas += numero\n",
        "print(\"Probabilidad de sacarse la 21 padre:\" + str(ganancias/iteraciones))\n",
        "print(\"Promedio cantidad de cartas requeridas:\" + str(usadas/ganancias))\n",
        "plt.bar(x, numeros)"
      ],
      "execution_count": 18,
      "outputs": [
        {
          "output_type": "stream",
          "text": [
            "Probabilidad de sacarse la 21 padre:0.1531358\n",
            "Promedio cantidad de cartas requeridas:3.74904170024253\n"
          ],
          "name": "stdout"
        },
        {
          "output_type": "execute_result",
          "data": {
            "text/plain": [
              "<BarContainer object of 9 artists>"
            ]
          },
          "metadata": {
            "tags": []
          },
          "execution_count": 18
        },
        {
          "output_type": "display_data",
          "data": {
            "image/png": "[encoded data removed]",
            "text/plain": [
              "<Figure size 432x288 with 1 Axes>"
            ]
          },
          "metadata": {
            "tags": [],
            "needs_background": "light"
          }
        }
      ]
    },
    {
      "cell_type": "markdown",
      "metadata": {
        "id": "Juz_Pz6L3mtf"
      },
      "source": [
        "52 cartas"
      ]
    },
    {
      "cell_type": "code",
      "metadata": {
        "colab": {
          "base_uri": "https://localhost:8080/",
          "height": 316
        },
        "id": "IugUuA-x3uZ7",
        "outputId": "e7f65d41-a84e-48ec-88a7-707b48e79a6b"
      },
      "source": [
        "import random\n",
        "import statistics\n",
        "import matplotlib.pyplot as plt\n",
        "import numpy as np\n",
        "iteraciones = 10000000\n",
        "numeros = [0,0,0,0,0,0,0,0,0]\n",
        "x = np.linspace(3, 11, num = 9)\n",
        "ganancias = 0\n",
        "usadas = 0\n",
        "for i in range(iteraciones):\n",
        "  baraja = [1,2,3,4,5,6,7,8,9,10,11,12,13,1,2,3,4,5,6,7,8,9,10,10,10,10,1,2,3,4,5,6,7,8,9,10,10,10,10,1,2,3,4,5,6,7,8,9,10,10,10,10]\n",
        "  cartas = []\n",
        "  numero = 0\n",
        "  while sum(cartas) < 21:\n",
        "    carta = random.choice(baraja)\n",
        "    cartas.append(carta)\n",
        "    baraja.remove(carta)\n",
        "    numero = numero + 1\n",
        "  if sum(cartas) == 21:\n",
        "    ganancias = ganancias + 1\n",
        "    numeros[numero - 2] += 1\n",
        "    usadas += numero\n",
        "print(\"Probabilidad de sacarse la 21 padre:\" + str(ganancias/iteraciones))\n",
        "print(\"Promedio cantidad de cartas requeridas:\" + str(usadas/ganancias))\n",
        "plt.bar(x, numeros)"
      ],
      "execution_count": 17,
      "outputs": [
        {
          "output_type": "stream",
          "text": [
            "Probabilidad de sacarse la 21 padre:0.145809\n",
            "Promedio cantidad de cartas requeridas:3.4246493700663194\n"
          ],
          "name": "stdout"
        },
        {
          "output_type": "execute_result",
          "data": {
            "text/plain": [
              "<BarContainer object of 9 artists>"
            ]
          },
          "metadata": {
            "tags": []
          },
          "execution_count": 17
        },
        {
          "output_type": "display_data",
          "data": {
            "image/png": "[encoded data removed]",
            "text/plain": [
              "<Figure size 432x288 with 1 Axes>"
            ]
          },
          "metadata": {
            "tags": [],
            "needs_background": "light"
          }
        }
      ]
    },
    {
      "cell_type": "markdown",
      "metadata": {
        "id": "viqx59H85v_m"
      },
      "source": [
        "**Punto 3**"
      ]
    },
    {
      "cell_type": "markdown",
      "metadata": {
        "id": "iEvO9wh658wX"
      },
      "source": [
        "48 cartas"
      ]
    },
    {
      "cell_type": "code",
      "metadata": {
        "colab": {
          "base_uri": "https://localhost:8080/",
          "height": 316
        },
        "id": "n8-Wux2K5yMM",
        "outputId": "3b7c77e1-f313-4643-cf8d-884a01d648c9"
      },
      "source": [
        "import random\n",
        "import statistics\n",
        "import matplotlib.pyplot as plt\n",
        "import numpy as np\n",
        "iteraciones = 10000000\n",
        "numeros = [0,0]\n",
        "x = [4, 5]\n",
        "ganancias = 0\n",
        "usadas = 0\n",
        "for i in range(iteraciones):\n",
        "  baraja = [1,2,3,4,6,10,10,10,1,2,3,4,5,6,8,9,10,10,10,1,2,3,4,5,6,7,8,9,10,10,10,1,2,3,4,5,6,7,8,9,10,10,10]\n",
        "  for j in range(int(len(baraja)/2)):\n",
        "    carta = random.choice(baraja)\n",
        "    baraja.remove(carta)\n",
        "  cartas = []\n",
        "  numero = 0\n",
        "  while sum(cartas) < 2:\n",
        "    carta = random.choice(baraja)\n",
        "    cartas.append(carta)\n",
        "    baraja.remove(carta)\n",
        "    numero = numero + 1\n",
        "  if sum(cartas) == 2:\n",
        "    ganancias = ganancias + 1\n",
        "    numeros[numero - 2] += 1\n",
        "    usadas += numero\n",
        "print(\"Probabilidad de sacarse la 21 padre:\" + str(ganancias/iteraciones))\n",
        "print(\"Promedio cantidad de cartas requeridas:\" + str((usadas/ganancias)+3))\n",
        "plt.bar(x, numeros)"
      ],
      "execution_count": 23,
      "outputs": [
        {
          "output_type": "stream",
          "text": [
            "Probabilidad de sacarse la 21 padre:0.0997099\n",
            "Promedio cantidad de cartas requeridas:4.0667335941566485\n"
          ],
          "name": "stdout"
        },
        {
          "output_type": "execute_result",
          "data": {
            "text/plain": [
              "<BarContainer object of 2 artists>"
            ]
          },
          "metadata": {
            "tags": []
          },
          "execution_count": 23
        },
        {
          "output_type": "display_data",
          "data": {
            "image/png": "[encoded data removed]",
            "text/plain": [
              "<Figure size 432x288 with 1 Axes>"
            ]
          },
          "metadata": {
            "tags": [],
            "needs_background": "light"
          }
        }
      ]
    },
    {
      "cell_type": "markdown",
      "metadata": {
        "id": "JiM9CTLyExuD"
      },
      "source": [
        "52 cartas"
      ]
    },
    {
      "cell_type": "code",
      "metadata": {
        "colab": {
          "base_uri": "https://localhost:8080/",
          "height": 316
        },
        "id": "uOgbE-71FFvO",
        "outputId": "263ea1a7-ab11-4604-949b-62ea11fb5849"
      },
      "source": [
        "import random\n",
        "import statistics\n",
        "import matplotlib.pyplot as plt\n",
        "import numpy as np\n",
        "iteraciones = 10000000\n",
        "numeros = [0,0]\n",
        "x = [4, 5]\n",
        "ganancias = 0\n",
        "usadas = 3\n",
        "for i in range(iteraciones):\n",
        "  baraja = [1,2,3,4,6,8,9,10,11,12,13,1,2,3,4,5,6,8,9,10,10,10,10,1,2,3,4,5,6,7,8,9,10,10,10,10,1,2,3,4,5,6,7,8,9,10,10,10,10]\n",
        "  for j in range(int(len(baraja)/2)):\n",
        "    carta = random.choice(baraja)\n",
        "    baraja.remove(carta)\n",
        "  cartas = []\n",
        "  numero = 0\n",
        "  while sum(cartas) < 2:\n",
        "    carta = random.choice(baraja)\n",
        "    cartas.append(carta)\n",
        "    baraja.remove(carta)\n",
        "    numero = numero + 1\n",
        "  if sum(cartas) == 2:\n",
        "    ganancias = ganancias + 1\n",
        "    numeros[numero - 2] += 1\n",
        "    usadas += numero\n",
        "print(\"Probabilidad de sacarse la 21 padre:\" + str(ganancias/iteraciones))\n",
        "print(\"Promedio cantidad de cartas requeridas:\" + str((usadas/ganancias)+3))\n",
        "plt.bar(x, numeros)"
      ],
      "execution_count": 26,
      "outputs": [
        {
          "output_type": "stream",
          "text": [
            "Probabilidad de sacarse la 21 padre:0.0865988\n",
            "Promedio cantidad de cartas requeridas:4.059138232862349\n"
          ],
          "name": "stdout"
        },
        {
          "output_type": "execute_result",
          "data": {
            "text/plain": [
              "<BarContainer object of 2 artists>"
            ]
          },
          "metadata": {
            "tags": []
          },
          "execution_count": 26
        },
        {
          "output_type": "display_data",
          "data": {
            "image/png": "[encoded data removed]",
            "text/plain": [
              "<Figure size 432x288 with 1 Axes>"
            ]
          },
          "metadata": {
            "tags": [],
            "needs_background": "light"
          }
        }
      ]
    },
    {
      "cell_type": "markdown",
      "metadata": {
        "id": "8NI4TnpoH6OJ"
      },
      "source": [
        "**Punto 4**"
      ]
    },
    {
      "cell_type": "markdown",
      "metadata": {
        "id": "sMVXPv0QK1vg"
      },
      "source": [
        "Si nos favorece la baraja restante de 4 unos y 4 doces, tendríamos oportunidad de ganar, en el otro caso no. Para la baraja en donde podemos ganar tenemos una probabilidad de perder de  $\\frac{2}{7}$  para sacar un 1 y un 2, entonces la probabilidad de ganar en ese caso es de $\\frac{1}{2}∗(1−\\frac{2}{7})$ , es decir  $\\frac{1}{2}∗\\frac{5}{2}  =  \\frac{5}{14}$"
      ]
    },
    {
      "cell_type": "code",
      "metadata": {
        "colab": {
          "base_uri": "https://localhost:8080/",
          "height": 344
        },
        "id": "3lDW1qnHH8hT",
        "outputId": "21532d98-23c3-44ef-c857-49c792e2ec1d"
      },
      "source": [
        "import random\n",
        "import matplotlib.pyplot as plt\n",
        "\n",
        "\n",
        "def calcularEImprimir(n):\n",
        "  contador = 0\n",
        "  avnc = 0\n",
        "  minc21 = 48\n",
        "  maxc21 = 0\n",
        "  nc21 = {1:0, 2:0, 3:0, 4:0, 5:0, 6:0, 7:0, 8:0, 9:0, 10:0, 11:0, 12:0}\n",
        "\n",
        "  for i in range(n):\n",
        "    baraja1 = [3,4,5,12,5,6,7,8]\n",
        "    baraja2 = [1,1,1,1,2,2,2,2]\n",
        "    baraja = random.choice([baraja1, baraja2])\n",
        "    misCartas = [7,7,5]\n",
        "    nc = len(misCartas)\n",
        "    while sum(misCartas) < 21:\n",
        "      carta = random.choice(baraja)\n",
        "      misCartas.append(carta)\n",
        "      baraja.remove(carta)\n",
        "      nc+=1\n",
        "      if sum(misCartas) == 21:\n",
        "        contador+=1\n",
        "        avnc += nc\n",
        "        nc21[nc] += 1\n",
        "        if minc21 > nc:\n",
        "          minc21 = nc\n",
        "        if maxc21 < nc:\n",
        "          maxc21 = nc\n",
        "  print(\"Probabilidad de sacarse la 21 padre:\" + str(contador/n))\n",
        "  print(\"Promedio cantidad de cartas requeridas:\" + str(avnc/contador))\n",
        "  print(\"Cantidad mínima de cartas:\" + str(minc21))\n",
        "  print(\"Cantidad máxima de cartas:\" + str(maxc21))\n",
        "  plt.bar(nc21.keys(), nc21.values(), 1)\n",
        "  plt.show()\n",
        "  \n",
        "calcularEImprimir(10000000)"
      ],
      "execution_count": 32,
      "outputs": [
        {
          "output_type": "stream",
          "text": [
            "Probabilidad de sacarse la 21 padre:0.3571035\n",
            "Promedio cantidad de cartas requeridas:4.299821480327132\n",
            "Cantidad mínima de cartas:4\n",
            "Cantidad máxima de cartas:5\n"
          ],
          "name": "stdout"
        },
        {
          "output_type": "display_data",
          "data": {
            "image/png": "[encoded data removed]",
            "text/plain": [
              "<Figure size 432x288 with 1 Axes>"
            ]
          },
          "metadata": {
            "tags": [],
            "needs_background": "light"
          }
        }
      ]
    },
    {
      "cell_type": "markdown",
      "metadata": {
        "id": "LiQymET8SHLb"
      },
      "source": [
        "**Punto 5**"
      ]
    },
    {
      "cell_type": "markdown",
      "metadata": {
        "id": "sg90B-jESx4k"
      },
      "source": [
        "48 cartas"
      ]
    },
    {
      "cell_type": "code",
      "metadata": {
        "colab": {
          "base_uri": "https://localhost:8080/"
        },
        "id": "HvvcG5HkSJyP",
        "outputId": "58668514-1435-43ff-8c58-e06b3e0eef6b"
      },
      "source": [
        "import random\n",
        "import matplotlib.pyplot as plt\n",
        "\n",
        "\n",
        "def calculateAndPlot4(n):\n",
        "  totalPlata = 0\n",
        "  for j in range(n):\n",
        "    for i in range(600):\n",
        "      random_choice = random.randint(1,10)\n",
        "      Auxdeck2 = []\n",
        "      my_cards = [7,7,5]\n",
        "      if random_choice == 1:\n",
        "        Auxdeck2 = [1,1,1,1,2,2,2,2]\n",
        "\n",
        "        while(sum(my_cards)<21):\n",
        "          card = random.choice(Auxdeck2)\n",
        "          my_cards.append(card)\n",
        "          Auxdeck2.remove(card)\n",
        "          if sum(my_cards) == 21:\n",
        "            totalPlata += 1500\n",
        "            break\n",
        "          elif sum(my_cards) > 21:\n",
        "            totalPlata -= 1000\n",
        "\n",
        "      else:\n",
        "        Auxdeck2 = [1,2,3,4,5,6,7,10,10,10,1,2,3,4,5,6,7,8,9,10,10,10,1,2,3,4,5,6,7,8,9,10,10,10,1,2,3,4,5,6,7,8,9,10,10,10]\n",
        "        while(sum(my_cards)<21):\n",
        "          card = random.choice(Auxdeck2)\n",
        "          my_cards.append(card)\n",
        "          Auxdeck2.remove(card)\n",
        "          if sum(my_cards) ==21:\n",
        "            totalPlata += 15\n",
        "            break\n",
        "          elif sum(my_cards) > 21:\n",
        "            totalPlata -= 10\n",
        "      \n",
        "      \n",
        "  print(\"Dinero promedio total: $\" + str(totalPlata/n))\n",
        "  \n",
        "calculateAndPlot4(10000)"
      ],
      "execution_count": 41,
      "outputs": [
        {
          "output_type": "stream",
          "text": [
            "Dinero promedio total: $43093.841\n"
          ],
          "name": "stdout"
        }
      ]
    },
    {
      "cell_type": "markdown",
      "metadata": {
        "id": "VDUK4vKvS0QD"
      },
      "source": [
        "52 cartas"
      ]
    },
    {
      "cell_type": "code",
      "metadata": {
        "colab": {
          "base_uri": "https://localhost:8080/"
        },
        "id": "EcCXN1KeS1z4",
        "outputId": "9a0a981c-0cca-4cdc-c124-781d01d5b852"
      },
      "source": [
        "import random\n",
        "import matplotlib.pyplot as plt\n",
        "\n",
        "\n",
        "def calculateAndPlot4(n):\n",
        "  totalPlata = 0\n",
        "  for j in range(n):\n",
        "    for i in range(600):\n",
        "      random_choice = random.randint(1,10)\n",
        "      Auxdeck2 = []\n",
        "      my_cards = [7,7,5]\n",
        "      if random_choice == 1:\n",
        "        Auxdeck2 = [1,1,1,1,2,2,2,2]\n",
        "\n",
        "        while(sum(my_cards)<21):\n",
        "          card = random.choice(Auxdeck2)\n",
        "          my_cards.append(card)\n",
        "          Auxdeck2.remove(card)\n",
        "          if sum(my_cards) == 21:\n",
        "            totalPlata += 1500\n",
        "            break\n",
        "          elif sum(my_cards) > 21:\n",
        "            totalPlata -= 1000\n",
        "\n",
        "      else:\n",
        "        Auxdeck2 = [1,2,3,4,5,6,7,8,9,10,11,12,13,1,2,3,4,5,6,7,8,9,10,10,10,10,1,2,3,4,5,6,7,8,9,10,10,10,10,1,2,3,4,5,6,7,8,9,10,10,10,10]\n",
        "        while(sum(my_cards)<21):\n",
        "          card = random.choice(Auxdeck2)\n",
        "          my_cards.append(card)\n",
        "          Auxdeck2.remove(card)\n",
        "          if sum(my_cards) ==21:\n",
        "            totalPlata += 15\n",
        "            break\n",
        "          elif sum(my_cards) > 21:\n",
        "            totalPlata -= 10\n",
        "      \n",
        "      \n",
        "  print(\"Dinero promedio total: $\" + str(totalPlata/n))\n",
        "calculateAndPlot4(10000)"
      ],
      "execution_count": 40,
      "outputs": [
        {
          "output_type": "stream",
          "text": [
            "Dinero promedio total:  42780.6925\n"
          ],
          "name": "stdout"
        }
      ]
    }
  ]
}