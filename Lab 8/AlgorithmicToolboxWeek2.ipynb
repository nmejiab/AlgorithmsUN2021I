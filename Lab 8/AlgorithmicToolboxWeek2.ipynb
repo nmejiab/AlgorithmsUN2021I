{
  "nbformat": 4,
  "nbformat_minor": 0,
  "metadata": {
    "colab": {
      "name": "AlgorithmicToolboxWeek2.ipynb",
      "provenance": [],
      "collapsed_sections": []
    },
    "kernelspec": {
      "name": "python3",
      "display_name": "Python 3"
    },
    "language_info": {
      "name": "python"
    }
  },
  "cells": [
    {
      "cell_type": "markdown",
      "metadata": {
        "id": "D_eaqB7m0jNk"
      },
      "source": [
        "# Programming Assignment 2:Algorithmic Warm-up"
      ]
    },
    {
      "cell_type": "markdown",
      "metadata": {
        "id": "mSsXASGY0yuV"
      },
      "source": [
        "**Fibonacci Number**"
      ]
    },
    {
      "cell_type": "code",
      "metadata": {
        "colab": {
          "base_uri": "https://localhost:8080/"
        },
        "id": "YZ5s2IRW03Yh",
        "outputId": "85a89689-db0a-47ed-f9a6-b37eb351e7b3"
      },
      "source": [
        "%%writefile fibonacci.cpp\n",
        "#include <iostream>\n",
        "\n",
        "using namespace std;\n",
        "\n",
        "int main()\n",
        "{\n",
        "    int n;\n",
        "    cin >> n;\n",
        "    n = n - 2;\n",
        "    int a = 1, b = 1, c = 1;\n",
        "\n",
        "    for(int i = 0; i < n; i++){\n",
        "        c = a + b;\n",
        "        a = b;\n",
        "        b = c;\n",
        "    }\n",
        "    if(n == -2) cout << \"0\";\n",
        "    else cout << c;\n",
        "    return 0;\n",
        "}"
      ],
      "execution_count": 3,
      "outputs": [
        {
          "output_type": "stream",
          "text": [
            "Overwriting fibonacci.cpp\n"
          ],
          "name": "stdout"
        }
      ]
    },
    {
      "cell_type": "code",
      "metadata": {
        "colab": {
          "base_uri": "https://localhost:8080/"
        },
        "id": "G59desNE1GKU",
        "outputId": "70bd3d0a-1ee4-4a69-a170-a13c00fea364"
      },
      "source": [
        "!g++ fibonacci.cpp -o executable\n",
        "!./executable"
      ],
      "execution_count": 4,
      "outputs": [
        {
          "output_type": "stream",
          "text": [
            "5}\n",
            "5"
          ],
          "name": "stdout"
        }
      ]
    },
    {
      "cell_type": "markdown",
      "metadata": {
        "id": "0hl0d53X1M7-"
      },
      "source": [
        "**Last Digit of a Large Fibonacci Number**"
      ]
    },
    {
      "cell_type": "code",
      "metadata": {
        "colab": {
          "base_uri": "https://localhost:8080/"
        },
        "id": "WL7eYHsm1Ukc",
        "outputId": "3a90dd56-de9f-4ba2-f6bb-1ad262e48cfc"
      },
      "source": [
        "%%writefile FLD.cpp\n",
        "#include <iostream>\n",
        "\n",
        "using namespace std;\n",
        "\n",
        "int main() {\n",
        "    int n;\n",
        "    int a[60] = {0, 1, 1, 2, 3, 5, 8, 3, 1, 4, 5, 9, 4, 3, 7, 0, 7, 7, 4, 1, 5, 6, 1, 7,\n",
        "    8, 5, 3, 8, 1, 9, 0, 9, 9, 8, 7, 5, 2, 7, 9, 6, 5, 1, 6, 7, 3, 0, 3, 3, 6, 9, 5, 4, 9,\n",
        "    3, 2, 5, 7, 2, 9, 1};\n",
        "    cin >> n;\n",
        "    cout << a[n%60];\n",
        "}"
      ],
      "execution_count": 5,
      "outputs": [
        {
          "output_type": "stream",
          "text": [
            "Writing FLD.cpp\n"
          ],
          "name": "stdout"
        }
      ]
    },
    {
      "cell_type": "code",
      "metadata": {
        "colab": {
          "base_uri": "https://localhost:8080/"
        },
        "id": "y76kuiug1o-s",
        "outputId": "913ba195-1f1e-45be-8b39-fa3ef296e3d1"
      },
      "source": [
        "!g++ FLD.cpp -o executable\n",
        "!./executable"
      ],
      "execution_count": 6,
      "outputs": [
        {
          "output_type": "stream",
          "text": [
            "10\n",
            "5"
          ],
          "name": "stdout"
        }
      ]
    },
    {
      "cell_type": "markdown",
      "metadata": {
        "id": "Sn-GpVkJ2PHz"
      },
      "source": [
        "**Greatest Common Divisor**"
      ]
    },
    {
      "cell_type": "code",
      "metadata": {
        "colab": {
          "base_uri": "https://localhost:8080/"
        },
        "id": "x14_3VRu1o1X",
        "outputId": "e2a8057f-5518-4d45-d954-61211ed49c78"
      },
      "source": [
        "%%writefile MCD.cpp\n",
        "#include <iostream>\n",
        "\n",
        "using namespace std;\n",
        "int mcd(int a, int b){\n",
        "    if(b == 0){\n",
        "        return a;\n",
        "    }\n",
        "    return mcd(b, a%b);\n",
        "}\n",
        "int main()\n",
        "{\n",
        "    int a, b;\n",
        "    cin >> a;\n",
        "    cin >> b;\n",
        "    cout << mcd(a, b);\n",
        "    return 0;\n",
        "}\n"
      ],
      "execution_count": 7,
      "outputs": [
        {
          "output_type": "stream",
          "text": [
            "Writing MCD.cpp\n"
          ],
          "name": "stdout"
        }
      ]
    },
    {
      "cell_type": "code",
      "metadata": {
        "colab": {
          "base_uri": "https://localhost:8080/"
        },
        "id": "On3vSgQx1okx",
        "outputId": "2385ec44-3106-4adf-adb5-5b115c09e2bd"
      },
      "source": [
        "!g++ MCD.cpp -o executable\n",
        "!./executable"
      ],
      "execution_count": 8,
      "outputs": [
        {
          "output_type": "stream",
          "text": [
            "7 14\n",
            "7"
          ],
          "name": "stdout"
        }
      ]
    },
    {
      "cell_type": "markdown",
      "metadata": {
        "id": "2Z9BM_EM2QD7"
      },
      "source": [
        "**Least Common Multiple**"
      ]
    },
    {
      "cell_type": "code",
      "metadata": {
        "colab": {
          "base_uri": "https://localhost:8080/"
        },
        "id": "GuCc1lOK1n00",
        "outputId": "a1c2fe20-6b61-4aed-9dc9-ee2bf0976201"
      },
      "source": [
        "%%writefile MCM.cpp\n",
        "#include <iostream>\n",
        "\n",
        "using namespace std;\n",
        "long long mcd(long long a, long long b){\n",
        "    if(b == 0){\n",
        "        return a;\n",
        "    }\n",
        "    return mcd(b, a%b);\n",
        "}\n",
        "int main()\n",
        "{\n",
        "    long long a, b;\n",
        "    cin >> a;\n",
        "    cin >> b;\n",
        "    cout << a * b / mcd(a, b);\n",
        "    return 0;\n",
        "}"
      ],
      "execution_count": 9,
      "outputs": [
        {
          "output_type": "stream",
          "text": [
            "Writing MCM.cpp\n"
          ],
          "name": "stdout"
        }
      ]
    },
    {
      "cell_type": "code",
      "metadata": {
        "colab": {
          "base_uri": "https://localhost:8080/"
        },
        "id": "cD9HkI1d1nYM",
        "outputId": "3ec155e8-aae4-43f2-cd6e-46bec820d2cd"
      },
      "source": [
        "!g++ MCM.cpp -o executable\n",
        "!./executable"
      ],
      "execution_count": 10,
      "outputs": [
        {
          "output_type": "stream",
          "text": [
            "7 14\n",
            "14"
          ],
          "name": "stdout"
        }
      ]
    }
  ]
}