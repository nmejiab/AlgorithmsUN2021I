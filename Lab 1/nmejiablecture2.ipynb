{
  "nbformat": 4,
  "nbformat_minor": 0,
  "metadata": {
    "kernelspec": {
      "display_name": "Python 3.5",
      "language": "python",
      "name": "py35"
    },
    "language_info": {
      "codemirror_mode": {
        "name": "ipython",
        "version": 3
      },
      "file_extension": ".py",
      "mimetype": "text/x-python",
      "name": "python",
      "nbconvert_exporter": "python",
      "pygments_lexer": "ipython3",
      "version": "3.6.5"
    },
    "colab": {
      "name": "nmejiablecture2.ipynbl",
      "provenance": [],
      "collapsed_sections": [
        "W-PbEDX9U8UV",
        "gXkNnbnfU8Ug",
        "aZn4HPrpU8Vg",
        "Kl-4Dvm6U8Vu",
        "FrlksK4DU8V5",
        "U8MjzRr-U8WQ",
        "1i_BcALkU8WV",
        "c6uoATz2U8Wb",
        "HVp4kXzcU8Wf",
        "OAq2A0h0U8Wl",
        "S1z87zIDU8Ww",
        "KFzNQ-hRU8XD",
        "Kn6jKtd-U8Xj"
      ]
    }
  },
  "cells": [
    {
      "cell_type": "markdown",
      "metadata": {
        "id": "jdSzvQ6xU8UP"
      },
      "source": [
        "# Introduction to Python\n",
        "by Maxwell Margenot\n",
        "\n",
        "Part of the Quantopian Lecture Series:\n",
        "\n",
        "* [www.quantopian.com/lectures](https://www.quantopian.com/lectures)\n",
        "* [github.com/quantopian/research_public](https://github.com/quantopian/research_public)\n",
        "\n",
        "\n",
        "---\n",
        "\n",
        "All of the coding that you will do on the Quantopian platform will be in Python. It is also just a good, jack-of-all-trades language to know! Here we will provide you with the basics so that you can feel confident going through our other lectures and understanding what is happening."
      ]
    },
    {
      "cell_type": "markdown",
      "metadata": {
        "id": "W-PbEDX9U8UV"
      },
      "source": [
        "## Code Comments\n",
        "\n",
        "A comment is a note made by a programmer in the source code of a program. Its purpose is to clarify the source code and make it easier for people to follow along with what is happening. Anything in a comment is generally ignored when the code is actually run, making comments useful for including explanations and reasoning as well as removing specific lines of code that you may be unsure about. Comments in Python are created by using the pound symbol (`# Insert Text Here`). Including a `#` in a line of code will comment out anything that follows it."
      ]
    },
    {
      "cell_type": "code",
      "metadata": {
        "id": "NXTURxRNU8Uc"
      },
      "source": [
        "# This is a comment\n",
        "# These lines of code will not change any values\n",
        "# Anything following the first # is not run as code"
      ],
      "execution_count": null,
      "outputs": []
    },
    {
      "cell_type": "markdown",
      "metadata": {
        "id": "QIhJfZ5ofP4c"
      },
      "source": [
        "**Mi ejemplo:**"
      ]
    },
    {
      "cell_type": "code",
      "metadata": {
        "id": "G1NS7GaNfTrW"
      },
      "source": [
        "#Esto es un comentario\n",
        "#Estas lineas de codigo no harán cambio en la ejecución\n",
        "#todo aquellos depués de un # no será corrido como parte del código"
      ],
      "execution_count": null,
      "outputs": []
    },
    {
      "cell_type": "markdown",
      "metadata": {
        "id": "ad7xpww7U8Ue"
      },
      "source": [
        "You may hear text enclosed in triple quotes (`\"\"\" Insert Text Here \"\"\"`) referred to as multi-line comments, but this is not entirely accurate. This is a special type of `string` (a data type we will cover), called a `docstring`, used to explain the purpose of a function."
      ]
    },
    {
      "cell_type": "code",
      "metadata": {
        "colab": {
          "base_uri": "https://localhost:8080/",
          "height": 35
        },
        "id": "-LO8Pn8xU8Uf",
        "outputId": "54f6611b-6c95-48e4-8711-bc42a7447000"
      },
      "source": [
        "\"\"\" This is a special string \"\"\""
      ],
      "execution_count": null,
      "outputs": [
        {
          "output_type": "execute_result",
          "data": {
            "application/vnd.google.colaboratory.intrinsic+json": {
              "type": "string"
            },
            "text/plain": [
              "' This is a special string '"
            ]
          },
          "metadata": {
            "tags": []
          },
          "execution_count": 2
        }
      ]
    },
    {
      "cell_type": "markdown",
      "metadata": {
        "id": "HK3Q6c_tfqWK"
      },
      "source": [
        "**Mi ejemplo:**"
      ]
    },
    {
      "cell_type": "code",
      "metadata": {
        "colab": {
          "base_uri": "https://localhost:8080/",
          "height": 35
        },
        "id": "50h73zleftex",
        "outputId": "5cf7cff0-4405-4bee-971f-9264698eef91"
      },
      "source": [
        "\"\"\" Esto es un string especial \"\"\""
      ],
      "execution_count": null,
      "outputs": [
        {
          "output_type": "execute_result",
          "data": {
            "application/vnd.google.colaboratory.intrinsic+json": {
              "type": "string"
            },
            "text/plain": [
              "' Esto es un string especial '"
            ]
          },
          "metadata": {
            "tags": []
          },
          "execution_count": 4
        }
      ]
    },
    {
      "cell_type": "markdown",
      "metadata": {
        "id": "1BI8-w8HU8Ug"
      },
      "source": [
        "Make sure you read the comments within each code cell (if they are there). They will provide more real-time explanations of what is going on as you look at each line of code."
      ]
    },
    {
      "cell_type": "markdown",
      "metadata": {
        "id": "gXkNnbnfU8Ug"
      },
      "source": [
        "## Variables\n",
        "\n",
        "Variables provide names for values in programming. If you want to save a value for later or repeated use, you give the value a name, storing the contents in a variable. Variables in programming work in a fundamentally similar way to variables in algebra, but in Python they can take on various different data types.\n",
        "\n",
        "The basic variable types that we will cover in this section are `integers`, `floating point numbers`, `booleans`, and `strings`. \n",
        "\n",
        "An `integer` in programming is the same as in mathematics, a round number with no values after the decimal point. We use the built-in `print` function here to display the values of our variables as well as their types!"
      ]
    },
    {
      "cell_type": "code",
      "metadata": {
        "colab": {
          "base_uri": "https://localhost:8080/"
        },
        "id": "K_bNcV42U8Uh",
        "outputId": "45af6085-eb9c-4745-d957-5050dafcecd0"
      },
      "source": [
        "my_integer = 50\n",
        "print(my_integer, type(my_integer))"
      ],
      "execution_count": null,
      "outputs": [
        {
          "output_type": "stream",
          "text": [
            "50 <class 'int'>\n"
          ],
          "name": "stdout"
        }
      ]
    },
    {
      "cell_type": "markdown",
      "metadata": {
        "id": "QY8wG72pgmFW"
      },
      "source": [
        "**Mi ejemplo:**"
      ]
    },
    {
      "cell_type": "code",
      "metadata": {
        "colab": {
          "base_uri": "https://localhost:8080/"
        },
        "id": "IALYj5w_go5-",
        "outputId": "c64d9913-f78d-4775-e44d-e6f65181b625"
      },
      "source": [
        "my_integer1 = 51\n",
        "print(my_integer, type(my_integer))"
      ],
      "execution_count": null,
      "outputs": [
        {
          "output_type": "stream",
          "text": [
            "50 <class 'int'>\n"
          ],
          "name": "stdout"
        }
      ]
    },
    {
      "cell_type": "markdown",
      "metadata": {
        "id": "nMO7FsgGU8Ui"
      },
      "source": [
        "Variables, regardless of type, are assigned by using a single equals sign (`=`). Variables are case-sensitive so any changes in variation in the capitals of a variable name will reference a different variable entirely."
      ]
    },
    {
      "cell_type": "code",
      "metadata": {
        "colab": {
          "base_uri": "https://localhost:8080/"
        },
        "id": "HP-hFd_XU8Uj",
        "outputId": "2aa7c6cb-39d7-4549-aeec-10e498bde0d4"
      },
      "source": [
        "one = 1\n",
        "print(one)"
      ],
      "execution_count": null,
      "outputs": [
        {
          "output_type": "stream",
          "text": [
            "1\n"
          ],
          "name": "stdout"
        }
      ]
    },
    {
      "cell_type": "markdown",
      "metadata": {
        "id": "mA0rQEPVg31a"
      },
      "source": [
        "**Mi ejemplo:**"
      ]
    },
    {
      "cell_type": "code",
      "metadata": {
        "colab": {
          "base_uri": "https://localhost:8080/"
        },
        "id": "y9vG1towg6iD",
        "outputId": "32e38042-3641-4dc3-8c67-f4d87e9fe9c7"
      },
      "source": [
        "two = 2\n",
        "print(two)"
      ],
      "execution_count": null,
      "outputs": [
        {
          "output_type": "stream",
          "text": [
            "2\n"
          ],
          "name": "stdout"
        }
      ]
    },
    {
      "cell_type": "markdown",
      "metadata": {
        "id": "odzuPi0JU8VR"
      },
      "source": [
        "A `floating point` number, or a `float` is a fancy name for a real number (again as in mathematics). To define a `float`, we need to either include a decimal point or specify that the value is a float."
      ]
    },
    {
      "cell_type": "code",
      "metadata": {
        "scrolled": true,
        "colab": {
          "base_uri": "https://localhost:8080/"
        },
        "id": "cBJRYMbMU8VS",
        "outputId": "7b06983a-bb4d-454c-ec88-76ef6ec9a002"
      },
      "source": [
        "my_float = 1.0\n",
        "print(my_float, type(my_float))\n",
        "my_float = float(1)\n",
        "print(my_float, type(my_float))"
      ],
      "execution_count": null,
      "outputs": [
        {
          "output_type": "stream",
          "text": [
            "1.0 <class 'float'>\n",
            "1.0 <class 'float'>\n"
          ],
          "name": "stdout"
        }
      ]
    },
    {
      "cell_type": "markdown",
      "metadata": {
        "id": "qDchcJgLhQJY"
      },
      "source": [
        "**Mi ejemplo:**"
      ]
    },
    {
      "cell_type": "code",
      "metadata": {
        "colab": {
          "base_uri": "https://localhost:8080/"
        },
        "id": "RVlL6M0dhShw",
        "outputId": "eeb4ab6d-718d-43ee-9b7e-18d744cf018c"
      },
      "source": [
        "my_float = 1.5\n",
        "print(my_float, type(my_float))\n",
        "my_float = float(2)\n",
        "print(my_float, type(my_float))"
      ],
      "execution_count": null,
      "outputs": [
        {
          "output_type": "stream",
          "text": [
            "1.5 <class 'float'>\n",
            "2.0 <class 'float'>\n"
          ],
          "name": "stdout"
        }
      ]
    },
    {
      "cell_type": "markdown",
      "metadata": {
        "id": "K3E-FIxBU8VT"
      },
      "source": [
        "A variable of type `float` will not round the number that you store in it, while a variable of type `integer` will. This makes `floats` more suitable for mathematical calculations where you want more than just integers.\n",
        "\n",
        "Note that as we used the `float()` function to force an number to be considered a `float`, we can use the `int()` function to force a number to be considered an `int`."
      ]
    },
    {
      "cell_type": "code",
      "metadata": {
        "colab": {
          "base_uri": "https://localhost:8080/"
        },
        "id": "-VqakSrCU8VU",
        "outputId": "bc532062-dfcc-4154-e099-bff336e2569f"
      },
      "source": [
        "my_int = int(3.14159)\n",
        "print(my_int, type(my_int))"
      ],
      "execution_count": null,
      "outputs": [
        {
          "output_type": "stream",
          "text": [
            "3 <class 'int'>\n"
          ],
          "name": "stdout"
        }
      ]
    },
    {
      "cell_type": "markdown",
      "metadata": {
        "id": "GDoavj7khl_P"
      },
      "source": [
        "**Mi ejemplo:**"
      ]
    },
    {
      "cell_type": "code",
      "metadata": {
        "colab": {
          "base_uri": "https://localhost:8080/"
        },
        "id": "Sk5etvIghps-",
        "outputId": "2e4711cd-02ca-4c28-dc54-2229bf7a582a"
      },
      "source": [
        "my_int1 = int(3.9)\n",
        "print(my_int, type(my_int))"
      ],
      "execution_count": null,
      "outputs": [
        {
          "output_type": "stream",
          "text": [
            "3 <class 'int'>\n"
          ],
          "name": "stdout"
        }
      ]
    },
    {
      "cell_type": "markdown",
      "metadata": {
        "id": "DEdnst7SU8VX"
      },
      "source": [
        "The `int()` function will also truncate any digits that a number may have after the decimal point!\n",
        "\n",
        "Strings allow you to include text as a variable to operate on. They are defined using either single quotes ('') or double quotes (\"\")."
      ]
    },
    {
      "cell_type": "code",
      "metadata": {
        "colab": {
          "base_uri": "https://localhost:8080/"
        },
        "id": "lwI523A8U8VY",
        "outputId": "e69b161f-6266-4c8f-bb4c-559f84c61cba"
      },
      "source": [
        "my_string = 'This is a string with single quotes'\n",
        "print(my_string)\n",
        "my_string = \"This is a string with double quotes\"\n",
        "print(my_string)"
      ],
      "execution_count": null,
      "outputs": [
        {
          "output_type": "stream",
          "text": [
            "This is a string with single quotes\n",
            "This is a string with double quotes\n"
          ],
          "name": "stdout"
        }
      ]
    },
    {
      "cell_type": "markdown",
      "metadata": {
        "id": "bGmdU---h6Ar"
      },
      "source": [
        "**Mi ejemplo:**"
      ]
    },
    {
      "cell_type": "code",
      "metadata": {
        "colab": {
          "base_uri": "https://localhost:8080/"
        },
        "id": "mWYy-pBkh8Lq",
        "outputId": "b0f21859-5359-4f1a-e0fb-52a8f1dd1f12"
      },
      "source": [
        "my_string = 'Esta es una cadena con comillas simples'\n",
        "print(my_string)\n",
        "my_string = \"Esta es una cadena con comillas dobles\"\n",
        "print(my_string)"
      ],
      "execution_count": null,
      "outputs": [
        {
          "output_type": "stream",
          "text": [
            "Esta es una cadena con comillas simples\n",
            "Esta es una cadena con comillas dobles\n"
          ],
          "name": "stdout"
        }
      ]
    },
    {
      "cell_type": "markdown",
      "metadata": {
        "id": "elHrrVm5U8VY"
      },
      "source": [
        "Both are allowed so that we can include apostrophes or quotation marks in a string if we so choose."
      ]
    },
    {
      "cell_type": "code",
      "metadata": {
        "colab": {
          "base_uri": "https://localhost:8080/"
        },
        "id": "CjeWXcOhU8VZ",
        "outputId": "ebdb8e53-8247-42a5-c460-216905dc3343"
      },
      "source": [
        "my_string = '\"Jabberwocky\", by Lewis Carroll'\n",
        "print(my_string)\n",
        "my_string = \"'Twas brillig, and the slithy toves / Did gyre and gimble in the wabe;\"\n",
        "print(my_string)"
      ],
      "execution_count": null,
      "outputs": [
        {
          "output_type": "stream",
          "text": [
            "\"Jabberwocky\", by Lewis Carroll\n",
            "'Twas brillig, and the slithy toves / Did gyre and gimble in the wabe;\n"
          ],
          "name": "stdout"
        }
      ]
    },
    {
      "cell_type": "markdown",
      "metadata": {
        "id": "CEax08ami3IL"
      },
      "source": [
        "**Mi ejemplo:**"
      ]
    },
    {
      "cell_type": "code",
      "metadata": {
        "colab": {
          "base_uri": "https://localhost:8080/"
        },
        "id": "B0FsOipZi59W",
        "outputId": "1ae8f469-be21-4f45-f6ac-1a90faf72ba7"
      },
      "source": [
        "my_string = '\"Jabberwocky\", por Lewis Carroll'\n",
        "print(my_string)\n",
        "my_string = \"'Hola\"\n",
        "print(my_string)"
      ],
      "execution_count": null,
      "outputs": [
        {
          "output_type": "stream",
          "text": [
            "\"Jabberwocky\", por Lewis Carroll\n",
            "'Hola\n"
          ],
          "name": "stdout"
        }
      ]
    },
    {
      "cell_type": "markdown",
      "metadata": {
        "id": "96TPsO7oU8Vc"
      },
      "source": [
        "Booleans, or `bools` are binary variable types. A `bool` can only take on one of two values, these being `True` or `False`. There is much more to this idea of truth values when it comes to programming, which we cover later in the [Logical Operators](#id-section5) of this notebook."
      ]
    },
    {
      "cell_type": "code",
      "metadata": {
        "colab": {
          "base_uri": "https://localhost:8080/"
        },
        "id": "k_l2AT-LU8Vf",
        "outputId": "ce3df830-c3c4-4508-f58a-fbbf4e68366d"
      },
      "source": [
        "my_bool = True\n",
        "print(my_bool, type(my_bool))"
      ],
      "execution_count": null,
      "outputs": [
        {
          "output_type": "stream",
          "text": [
            "True <class 'bool'>\n"
          ],
          "name": "stdout"
        }
      ]
    },
    {
      "cell_type": "markdown",
      "metadata": {
        "id": "nDO9gBO2jXKw"
      },
      "source": [
        "**Mi ejemplo:**"
      ]
    },
    {
      "cell_type": "code",
      "metadata": {
        "colab": {
          "base_uri": "https://localhost:8080/"
        },
        "id": "JGbvNkFrjbf9",
        "outputId": "8b3ca150-1041-478b-c160-19ad3691c18b"
      },
      "source": [
        "my_bool = False\n",
        "print(my_bool, type(my_bool))"
      ],
      "execution_count": null,
      "outputs": [
        {
          "output_type": "stream",
          "text": [
            "False <class 'bool'>\n"
          ],
          "name": "stdout"
        }
      ]
    },
    {
      "cell_type": "markdown",
      "metadata": {
        "id": "h7LiOlPNU8Vg"
      },
      "source": [
        "There are many more data types that you can assign as variables in Python, but these are the basic ones! We will cover a few more later as we move through this tutorial."
      ]
    },
    {
      "cell_type": "markdown",
      "metadata": {
        "id": "aZn4HPrpU8Vg"
      },
      "source": [
        "## Basic Math\n",
        "\n",
        "Python has a number of built-in math functions. These can be extended even further by importing the **math** package or by including any number of other calculation-based packages.\n",
        "\n",
        "All of the basic arithmetic operations are supported: `+`, `-`, `/`, and `*`. You can create exponents by using `**` and modular arithmetic is introduced with the mod operator, `%`."
      ]
    },
    {
      "cell_type": "code",
      "metadata": {
        "colab": {
          "base_uri": "https://localhost:8080/"
        },
        "id": "mz8z2xkNU8Vh",
        "outputId": "38f492c2-ffff-4613-8d48-7727449c4919"
      },
      "source": [
        "print('Addition: ', 2 + 2)\n",
        "print('Subtraction: ', 7 - 4)\n",
        "print('Multiplication: ', 2 * 5)\n",
        "print('Division: ', 10 / 2)\n",
        "print('Exponentiation: ', 3**2)"
      ],
      "execution_count": null,
      "outputs": [
        {
          "output_type": "stream",
          "text": [
            "Addition:  4\n",
            "Subtraction:  3\n",
            "Multiplication:  10\n",
            "Division:  5.0\n",
            "Exponentiation:  9\n"
          ],
          "name": "stdout"
        }
      ]
    },
    {
      "cell_type": "markdown",
      "metadata": {
        "id": "oDKk09P9mBOq"
      },
      "source": [
        "**Mi ejemplo:**"
      ]
    },
    {
      "cell_type": "code",
      "metadata": {
        "colab": {
          "base_uri": "https://localhost:8080/"
        },
        "id": "VEgexOCCmHIV",
        "outputId": "6cff32de-0d4c-48fe-834d-83fb8873e156"
      },
      "source": [
        "print('Addition: ', 3 + 3)\n",
        "print('Subtraction: ', 8 - 4)\n",
        "print('Multiplication: ', 4 * 3)\n",
        "print('Division: ', 14 / 7)\n",
        "print('Exponentiation: ', 4**9)"
      ],
      "execution_count": null,
      "outputs": [
        {
          "output_type": "stream",
          "text": [
            "Addition:  6\n",
            "Subtraction:  4\n",
            "Multiplication:  12\n",
            "Division:  2.0\n",
            "Exponentiation:  262144\n"
          ],
          "name": "stdout"
        }
      ]
    },
    {
      "cell_type": "markdown",
      "metadata": {
        "id": "x0SprgPsU8Vi"
      },
      "source": [
        "If you are not familiar with the the mod operator, it operates like a remainder function. If we type $15 \\ \\% \\ 4$, it will return the remainder after dividing $15$ by $4$."
      ]
    },
    {
      "cell_type": "code",
      "metadata": {
        "id": "iEbi2z1bU8Vi"
      },
      "source": [
        "print('Modulo: ', 15 % 4)"
      ],
      "execution_count": null,
      "outputs": []
    },
    {
      "cell_type": "markdown",
      "metadata": {
        "id": "X1oEX3oSmUVa"
      },
      "source": [
        "**Mi ejemplo:**"
      ]
    },
    {
      "cell_type": "code",
      "metadata": {
        "colab": {
          "base_uri": "https://localhost:8080/"
        },
        "id": "nW6uKrJRnI3V",
        "outputId": "f26e519c-5803-40ed-ec99-b4a9b1d24e74"
      },
      "source": [
        "print('Modulo: ', 13 % 3)"
      ],
      "execution_count": null,
      "outputs": [
        {
          "output_type": "stream",
          "text": [
            "Modulo:  1\n"
          ],
          "name": "stdout"
        }
      ]
    },
    {
      "cell_type": "markdown",
      "metadata": {
        "id": "ZIk8Zgj6U8Vj"
      },
      "source": [
        "Mathematical functions also work on variables!"
      ]
    },
    {
      "cell_type": "code",
      "metadata": {
        "scrolled": true,
        "colab": {
          "base_uri": "https://localhost:8080/"
        },
        "id": "GO-y0Q8EU8Vj",
        "outputId": "470e0a72-250a-4b92-a4b1-050b4680105c"
      },
      "source": [
        "first_integer = 4\n",
        "second_integer = 5\n",
        "print(first_integer * second_integer)"
      ],
      "execution_count": null,
      "outputs": [
        {
          "output_type": "stream",
          "text": [
            "20\n"
          ],
          "name": "stdout"
        }
      ]
    },
    {
      "cell_type": "markdown",
      "metadata": {
        "id": "qmQAAdXD_kJM"
      },
      "source": [
        "**Mi ejemplo:**"
      ]
    },
    {
      "cell_type": "code",
      "metadata": {
        "colab": {
          "base_uri": "https://localhost:8080/"
        },
        "id": "qpgpRTW_B2z9",
        "outputId": "ffe07590-3e28-44da-c66f-b2694ddc41f4"
      },
      "source": [
        "first_integer = 9\n",
        "second_integer = 10\n",
        "print(first_integer + second_integer)"
      ],
      "execution_count": null,
      "outputs": [
        {
          "output_type": "stream",
          "text": [
            "19\n"
          ],
          "name": "stdout"
        }
      ]
    },
    {
      "cell_type": "markdown",
      "metadata": {
        "id": "SQSB7FC9U8Vk"
      },
      "source": [
        "Make sure that your variables are floats if you want to have decimal points in your answer. If you perform math exclusively with integers, you get an integer. Including any float in the calculation will make the result a float."
      ]
    },
    {
      "cell_type": "code",
      "metadata": {
        "colab": {
          "base_uri": "https://localhost:8080/"
        },
        "id": "gQQFj-ntU8Vk",
        "outputId": "ebdaa5e8-fdad-4360-9e6e-ac0637fd3e60"
      },
      "source": [
        "first_integer = 11\n",
        "second_integer = 3\n",
        "print(first_integer / second_integer)"
      ],
      "execution_count": null,
      "outputs": [
        {
          "output_type": "stream",
          "text": [
            "3.6666666666666665\n"
          ],
          "name": "stdout"
        }
      ]
    },
    {
      "cell_type": "markdown",
      "metadata": {
        "id": "CSZeGAhV_rZI"
      },
      "source": [
        "**Mi ejemplo:**"
      ]
    },
    {
      "cell_type": "code",
      "metadata": {
        "colab": {
          "base_uri": "https://localhost:8080/"
        },
        "id": "KKJ0TPADB9wC",
        "outputId": "001af6df-293a-4e29-9c98-1b2852213dc9"
      },
      "source": [
        "first_integer = 20\n",
        "second_integer = 7\n",
        "print(first_integer / second_integer)"
      ],
      "execution_count": null,
      "outputs": [
        {
          "output_type": "stream",
          "text": [
            "2.857142857142857\n"
          ],
          "name": "stdout"
        }
      ]
    },
    {
      "cell_type": "code",
      "metadata": {
        "colab": {
          "base_uri": "https://localhost:8080/"
        },
        "id": "NfZq9YwXU8Vq",
        "outputId": "576abddd-be52-4409-920e-88c658d47fd5"
      },
      "source": [
        "first_number = 11.0\n",
        "second_number = 3.0\n",
        "print(first_number / second_number)"
      ],
      "execution_count": null,
      "outputs": [
        {
          "output_type": "stream",
          "text": [
            "3.6666666666666665\n"
          ],
          "name": "stdout"
        }
      ]
    },
    {
      "cell_type": "markdown",
      "metadata": {
        "id": "EmVYd8w0_snh"
      },
      "source": [
        "**Mi ejemplo:**"
      ]
    },
    {
      "cell_type": "code",
      "metadata": {
        "colab": {
          "base_uri": "https://localhost:8080/"
        },
        "id": "Ntxdr3V5CJiv",
        "outputId": "5bf27441-eb08-4a61-f242-81d630549af6"
      },
      "source": [
        "first_integer = 20.0\n",
        "second_integer = 7.0\n",
        "print(first_integer / second_integer)"
      ],
      "execution_count": null,
      "outputs": [
        {
          "output_type": "stream",
          "text": [
            "2.857142857142857\n"
          ],
          "name": "stdout"
        }
      ]
    },
    {
      "cell_type": "markdown",
      "metadata": {
        "id": "kxkCndSoU8Vr"
      },
      "source": [
        "Python has a few built-in math functions. The most notable of these are:\n",
        "\n",
        "* `abs()`\n",
        "* `round()`\n",
        "* `max()`\n",
        "* `min()`\n",
        "* `sum()`\n",
        "\n",
        "These functions all act as you would expect, given their names. Calling `abs()` on a number will return its absolute value. The `round()` function will round a number to a specified number of the decimal points (the default is $0$). Calling `max()` or `min()` on a collection of numbers will return, respectively, the maximum or minimum value in the collection. Calling `sum()` on a collection of numbers will add them all up. If you're not familiar with how collections of values in Python work, don't worry! We will cover collections in-depth in the next section. \n",
        "\n",
        "Additional math functionality can be added in with the `math` package."
      ]
    },
    {
      "cell_type": "code",
      "metadata": {
        "id": "AHK5ZCGwU8Vs"
      },
      "source": [
        "import math"
      ],
      "execution_count": null,
      "outputs": []
    },
    {
      "cell_type": "markdown",
      "metadata": {
        "id": "yArhlJMrU8Vs"
      },
      "source": [
        "The math library adds a long list of new mathematical functions to Python. Feel free to check out the [documentation](https://docs.python.org/2/library/math.html) for the full list and details. It concludes some mathematical constants"
      ]
    },
    {
      "cell_type": "code",
      "metadata": {
        "id": "ypfwgwZbU8Vt",
        "colab": {
          "base_uri": "https://localhost:8080/"
        },
        "outputId": "d92bf877-8be0-40dd-8e50-d7c952b0f665"
      },
      "source": [
        "print('Pi: ', math.pi)\n",
        "print(\"Euler's Constant: \", math.e)"
      ],
      "execution_count": null,
      "outputs": [
        {
          "output_type": "stream",
          "text": [
            "Pi:  3.141592653589793\n",
            "Euler's Constant:  2.718281828459045\n"
          ],
          "name": "stdout"
        }
      ]
    },
    {
      "cell_type": "markdown",
      "metadata": {
        "id": "c7TDp1bH_vrf"
      },
      "source": [
        "**Mi ejemplo:**"
      ]
    },
    {
      "cell_type": "code",
      "metadata": {
        "colab": {
          "base_uri": "https://localhost:8080/"
        },
        "id": "KSemAWJwCYWY",
        "outputId": "eb41848c-c841-48a7-f1aa-f7d5f3bce056"
      },
      "source": [
        "print(\"tau:\", math.tau)"
      ],
      "execution_count": null,
      "outputs": [
        {
          "output_type": "stream",
          "text": [
            "tau: 6.283185307179586\n"
          ],
          "name": "stdout"
        }
      ]
    },
    {
      "cell_type": "markdown",
      "metadata": {
        "id": "jsc0_lcsU8Vt"
      },
      "source": [
        "As well as some commonly used math functions"
      ]
    },
    {
      "cell_type": "code",
      "metadata": {
        "id": "6QMRqrNCU8Vu",
        "colab": {
          "base_uri": "https://localhost:8080/"
        },
        "outputId": "f1a4f0c7-c9ff-4492-9899-ca88e1db0b84"
      },
      "source": [
        "print('Cosine of pi: ', math.cos(math.pi))"
      ],
      "execution_count": null,
      "outputs": [
        {
          "output_type": "stream",
          "text": [
            "Cosine of pi:  -1.0\n"
          ],
          "name": "stdout"
        }
      ]
    },
    {
      "cell_type": "markdown",
      "metadata": {
        "id": "iYoRA9G2_wds"
      },
      "source": [
        "**Mi ejemplo:**"
      ]
    },
    {
      "cell_type": "code",
      "metadata": {
        "colab": {
          "base_uri": "https://localhost:8080/"
        },
        "id": "RNUpEAsVC5gY",
        "outputId": "6f8a02f4-07d3-49b8-fbe0-85496381cdc5"
      },
      "source": [
        "print('Sine of tau: ', math.sin(math.tau))"
      ],
      "execution_count": null,
      "outputs": [
        {
          "output_type": "stream",
          "text": [
            "Sine of tau:  -2.4492935982947064e-16\n"
          ],
          "name": "stdout"
        }
      ]
    },
    {
      "cell_type": "markdown",
      "metadata": {
        "id": "Kl-4Dvm6U8Vu"
      },
      "source": [
        "## Collections\n",
        "### Lists\n",
        "\n",
        "A `list` in Python is an ordered collection of objects that can contain any data type. We define a `list` using brackets (`[]`)."
      ]
    },
    {
      "cell_type": "code",
      "metadata": {
        "id": "kVYT2zYVU8Vv",
        "colab": {
          "base_uri": "https://localhost:8080/"
        },
        "outputId": "3a1b50df-848b-48f2-a0fc-917ad4592595"
      },
      "source": [
        "my_list = [1, 2, 3]\n",
        "print(my_list)"
      ],
      "execution_count": null,
      "outputs": [
        {
          "output_type": "stream",
          "text": [
            "[1, 2, 3]\n"
          ],
          "name": "stdout"
        }
      ]
    },
    {
      "cell_type": "markdown",
      "metadata": {
        "id": "KrCXzvmk_19V"
      },
      "source": [
        "**Mi ejemplo:**"
      ]
    },
    {
      "cell_type": "code",
      "metadata": {
        "colab": {
          "base_uri": "https://localhost:8080/"
        },
        "id": "qwhd0GbWDKll",
        "outputId": "5e898716-903c-48b6-ac4c-0b1eafae67c6"
      },
      "source": [
        "my_list1 = [7, 8 ,9, 10]\n",
        "print(my_list1)"
      ],
      "execution_count": null,
      "outputs": [
        {
          "output_type": "stream",
          "text": [
            "[7, 8, 9, 10]\n"
          ],
          "name": "stdout"
        }
      ]
    },
    {
      "cell_type": "markdown",
      "metadata": {
        "id": "yxMhAQUYU8Vv"
      },
      "source": [
        "We can access and index the list by using brackets as well. In order to select an individual element, simply type the list name followed by the index of the item you are looking for in braces."
      ]
    },
    {
      "cell_type": "code",
      "metadata": {
        "id": "orOc52QXU8Vw",
        "colab": {
          "base_uri": "https://localhost:8080/"
        },
        "outputId": "13184995-d984-47b6-e775-e18e38ba08f0"
      },
      "source": [
        "print(my_list[0])\n",
        "print(my_list[2])"
      ],
      "execution_count": null,
      "outputs": [
        {
          "output_type": "stream",
          "text": [
            "1\n",
            "3\n"
          ],
          "name": "stdout"
        }
      ]
    },
    {
      "cell_type": "markdown",
      "metadata": {
        "id": "2tDtjkjE_3KD"
      },
      "source": [
        "**Mi ejemplo:**"
      ]
    },
    {
      "cell_type": "code",
      "metadata": {
        "colab": {
          "base_uri": "https://localhost:8080/"
        },
        "id": "bvxA3je-DdOP",
        "outputId": "64ae56bc-96e6-4ba8-a3b2-52dcae146c7b"
      },
      "source": [
        "print(my_list1[0])\n",
        "print(my_list1[2])"
      ],
      "execution_count": null,
      "outputs": [
        {
          "output_type": "stream",
          "text": [
            "7\n",
            "9\n"
          ],
          "name": "stdout"
        }
      ]
    },
    {
      "cell_type": "markdown",
      "metadata": {
        "id": "2m74DUNIU8Vw"
      },
      "source": [
        "Indexing in Python starts from $0$. If you have a list of length $n$, the first element of the list is at index $0$, the second element is at index $1$, and so on and so forth. The final element of the list will be at index $n-1$. Be careful! Trying to access a non-existent index will cause an error."
      ]
    },
    {
      "cell_type": "code",
      "metadata": {
        "id": "HW5Fm4HYU8Vw",
        "colab": {
          "base_uri": "https://localhost:8080/"
        },
        "outputId": "c253a9e8-f8b3-4888-d0a9-d2a6387cc054"
      },
      "source": [
        "print('The first, second, and third list elements: ', my_list[0], my_list[1], my_list[2])\n",
        "#print('Accessing outside the list bounds causes an error: ', my_list[3])"
      ],
      "execution_count": null,
      "outputs": [
        {
          "output_type": "stream",
          "text": [
            "The first, second, and third list elements:  1 2 3\n"
          ],
          "name": "stdout"
        }
      ]
    },
    {
      "cell_type": "markdown",
      "metadata": {
        "id": "4BUU8ueP_5q5"
      },
      "source": [
        "**Mi ejemplo:**"
      ]
    },
    {
      "cell_type": "code",
      "metadata": {
        "colab": {
          "base_uri": "https://localhost:8080/"
        },
        "id": "c5h3HB1VDp2J",
        "outputId": "5b8334a5-5679-4f8c-a734-24157f566d5f"
      },
      "source": [
        "print('The first, second, third and fourth list elements: ', my_list1[0], my_list1[1], my_list1[2], my_list1[3])\n",
        "#print('Accessing outside the list bounds causes an error: ', my_list1[4])"
      ],
      "execution_count": null,
      "outputs": [
        {
          "output_type": "stream",
          "text": [
            "The first, second, third and fourth list elements:  7 8 9 10\n"
          ],
          "name": "stdout"
        }
      ]
    },
    {
      "cell_type": "markdown",
      "metadata": {
        "id": "1Etfl5hEU8Vx"
      },
      "source": [
        "We can see the number of elements in a list by calling the `len()` function."
      ]
    },
    {
      "cell_type": "code",
      "metadata": {
        "id": "zOZ_9lKXU8Vx",
        "colab": {
          "base_uri": "https://localhost:8080/"
        },
        "outputId": "b6f515d6-f4ca-42ec-e814-aec85459c970"
      },
      "source": [
        "print(len(my_list))"
      ],
      "execution_count": null,
      "outputs": [
        {
          "output_type": "stream",
          "text": [
            "3\n"
          ],
          "name": "stdout"
        }
      ]
    },
    {
      "cell_type": "markdown",
      "metadata": {
        "id": "oInmnwtg_6dI"
      },
      "source": [
        "**Mi ejemplo:**"
      ]
    },
    {
      "cell_type": "code",
      "metadata": {
        "colab": {
          "base_uri": "https://localhost:8080/"
        },
        "id": "jrEQvhV2EBXz",
        "outputId": "0f93c3a7-d682-4f75-c4e3-dd74ed4bc8d7"
      },
      "source": [
        "print(len(my_list1))"
      ],
      "execution_count": null,
      "outputs": [
        {
          "output_type": "stream",
          "text": [
            "4\n"
          ],
          "name": "stdout"
        }
      ]
    },
    {
      "cell_type": "markdown",
      "metadata": {
        "id": "h5UgQALnU8Vy"
      },
      "source": [
        "We can update and change a list by accessing an index and assigning new value."
      ]
    },
    {
      "cell_type": "code",
      "metadata": {
        "id": "FpTpVbwpU8Vy",
        "colab": {
          "base_uri": "https://localhost:8080/"
        },
        "outputId": "76fa2557-4753-4292-d14f-9ce642883e57"
      },
      "source": [
        "print(my_list)\n",
        "my_list[0] = 42\n",
        "print(my_list)"
      ],
      "execution_count": null,
      "outputs": [
        {
          "output_type": "stream",
          "text": [
            "[1, 2, 3]\n",
            "[42, 2, 3]\n"
          ],
          "name": "stdout"
        }
      ]
    },
    {
      "cell_type": "markdown",
      "metadata": {
        "id": "ITrEc-zc_7HP"
      },
      "source": [
        "**Mi ejemplo:**"
      ]
    },
    {
      "cell_type": "code",
      "metadata": {
        "colab": {
          "base_uri": "https://localhost:8080/"
        },
        "id": "JLHnzriAEKbH",
        "outputId": "0ad3091e-2341-4cdb-b074-a1fd9bd95fe7"
      },
      "source": [
        "print(my_list1)\n",
        "my_list1[1] = 58\n",
        "print(my_list1)"
      ],
      "execution_count": null,
      "outputs": [
        {
          "output_type": "stream",
          "text": [
            "[7, 8, 9, 10]\n",
            "[7, 58, 9, 10]\n"
          ],
          "name": "stdout"
        }
      ]
    },
    {
      "cell_type": "markdown",
      "metadata": {
        "id": "O0ncgy8nU8Vz"
      },
      "source": [
        "This is fundamentally different from how strings are handled. A `list` is mutable, meaning that you can change a `list`'s elements without changing the list itself. Some data types, like `strings`, are immutable, meaning you cannot change them at all. Once a `string` or other immutable data type has been created, it cannot be directly modified without creating an entirely new object."
      ]
    },
    {
      "cell_type": "code",
      "metadata": {
        "id": "0w9Fapj6U8V0"
      },
      "source": [
        "my_string = \"Strings never change\"\n",
        "#my_string[0] = 'Z'"
      ],
      "execution_count": null,
      "outputs": []
    },
    {
      "cell_type": "markdown",
      "metadata": {
        "id": "h_aPn5kf_8Ho"
      },
      "source": [
        "**Mi ejemplo:**"
      ]
    },
    {
      "cell_type": "code",
      "metadata": {
        "id": "hXih2o7SEe9g"
      },
      "source": [
        "my_string1 = \"Los strings no cambian >:c\"\n",
        "#my_string1[0] = 'a'"
      ],
      "execution_count": null,
      "outputs": []
    },
    {
      "cell_type": "markdown",
      "metadata": {
        "id": "5MTRz_VbU8V0"
      },
      "source": [
        "As we stated before, a list can contain any data type. Thus, lists can also contain strings."
      ]
    },
    {
      "cell_type": "code",
      "metadata": {
        "id": "en9Y8-lkU8V1",
        "colab": {
          "base_uri": "https://localhost:8080/"
        },
        "outputId": "fc294e1f-0c49-4b02-e499-0f82c61a0002"
      },
      "source": [
        "my_list_2 = ['one', 'two', 'three']\n",
        "print(my_list_2)"
      ],
      "execution_count": null,
      "outputs": [
        {
          "output_type": "stream",
          "text": [
            "['one', 'two', 'three']\n"
          ],
          "name": "stdout"
        }
      ]
    },
    {
      "cell_type": "markdown",
      "metadata": {
        "id": "SUrMYzIY_85u"
      },
      "source": [
        "**Mi ejemplo:**"
      ]
    },
    {
      "cell_type": "code",
      "metadata": {
        "colab": {
          "base_uri": "https://localhost:8080/"
        },
        "id": "fXANSBpUFJUQ",
        "outputId": "b1648e02-daaa-4f07-b804-a940ab83d520"
      },
      "source": [
        "my_list_21 = ['one', 'two', 'three', 'fourth']\n",
        "print(my_list_21)"
      ],
      "execution_count": null,
      "outputs": [
        {
          "output_type": "stream",
          "text": [
            "['one', 'two', 'three', 'fourth']\n"
          ],
          "name": "stdout"
        }
      ]
    },
    {
      "cell_type": "markdown",
      "metadata": {
        "id": "WbMWmKqDU8V2"
      },
      "source": [
        "Lists can also contain multiple different data types at once!"
      ]
    },
    {
      "cell_type": "code",
      "metadata": {
        "id": "VWchpUtAU8V3"
      },
      "source": [
        "my_list_3 = [True, 'False', 42]"
      ],
      "execution_count": null,
      "outputs": []
    },
    {
      "cell_type": "markdown",
      "metadata": {
        "id": "n34F3OlY_9wp"
      },
      "source": [
        "**Mi ejemplo:**"
      ]
    },
    {
      "cell_type": "code",
      "metadata": {
        "colab": {
          "base_uri": "https://localhost:8080/"
        },
        "id": "R3qKQwR1FYja",
        "outputId": "62b6e063-2dcb-412a-80bd-464559669937"
      },
      "source": [
        "my_list_31 = [False, 'True', 69]\n",
        "print(my_list_31)"
      ],
      "execution_count": null,
      "outputs": [
        {
          "output_type": "stream",
          "text": [
            "[False, 'True', 69]\n"
          ],
          "name": "stdout"
        }
      ]
    },
    {
      "cell_type": "markdown",
      "metadata": {
        "id": "TBBNZP8GU8V3"
      },
      "source": [
        "If you want to put two lists together, they can be combined with a `+` symbol."
      ]
    },
    {
      "cell_type": "code",
      "metadata": {
        "id": "4Z6debfcU8V3",
        "colab": {
          "base_uri": "https://localhost:8080/"
        },
        "outputId": "9be89895-a964-4ef1-c8ce-425db2b8e09e"
      },
      "source": [
        "my_list_4 = my_list + my_list_2 + my_list_3\n",
        "print(my_list_4)"
      ],
      "execution_count": null,
      "outputs": [
        {
          "output_type": "stream",
          "text": [
            "[42, 2, 3, 'one', 'two', 'three', True, 'False', 42]\n"
          ],
          "name": "stdout"
        }
      ]
    },
    {
      "cell_type": "markdown",
      "metadata": {
        "id": "iJa6OYc-_-sx"
      },
      "source": [
        "**Mi ejemplo:**"
      ]
    },
    {
      "cell_type": "code",
      "metadata": {
        "colab": {
          "base_uri": "https://localhost:8080/"
        },
        "id": "NH9IKFjeFxOi",
        "outputId": "ce19eb9d-0632-4298-b245-b3abbb468cdf"
      },
      "source": [
        "my_list_41 = my_list1 + my_list_21 + my_list_31\n",
        "print(my_list_41)"
      ],
      "execution_count": null,
      "outputs": [
        {
          "output_type": "stream",
          "text": [
            "[7, 58, 9, 10, 'one', 'two', 'three', 'fourth', False, 'True', 69]\n"
          ],
          "name": "stdout"
        }
      ]
    },
    {
      "cell_type": "markdown",
      "metadata": {
        "id": "3OTl1GivU8V4"
      },
      "source": [
        "In addition to accessing individual elements of a list, we can access groups of elements through slicing."
      ]
    },
    {
      "cell_type": "code",
      "metadata": {
        "id": "C3GgxifrU8V4"
      },
      "source": [
        "my_list = ['friends', 'romans', 'countrymen', 'lend', 'me', 'your', 'ears']"
      ],
      "execution_count": null,
      "outputs": []
    },
    {
      "cell_type": "markdown",
      "metadata": {
        "id": "FrlksK4DU8V5"
      },
      "source": [
        "#### Slicing\n",
        "\n",
        "We use the colon (`:`) to slice lists. "
      ]
    },
    {
      "cell_type": "code",
      "metadata": {
        "scrolled": true,
        "id": "WyTrFNnHU8V7",
        "colab": {
          "base_uri": "https://localhost:8080/"
        },
        "outputId": "9ad12fc7-9280-4099-f88a-de923ac5cf3a"
      },
      "source": [
        "print(my_list[2:4])"
      ],
      "execution_count": null,
      "outputs": [
        {
          "output_type": "stream",
          "text": [
            "['countrymen', 'lend']\n"
          ],
          "name": "stdout"
        }
      ]
    },
    {
      "cell_type": "markdown",
      "metadata": {
        "id": "1mwxFa-IKfE7"
      },
      "source": [
        "**Mi ejemplo:**"
      ]
    },
    {
      "cell_type": "code",
      "metadata": {
        "colab": {
          "base_uri": "https://localhost:8080/"
        },
        "id": "9NHsz4DXKrXU",
        "outputId": "7caa4ef8-fbcd-4814-8ee3-e31c1a7224a9"
      },
      "source": [
        "print(my_list1[2:4])"
      ],
      "execution_count": null,
      "outputs": [
        {
          "output_type": "stream",
          "text": [
            "[9, 10]\n"
          ],
          "name": "stdout"
        }
      ]
    },
    {
      "cell_type": "markdown",
      "metadata": {
        "id": "NKWPs3D2U8V8"
      },
      "source": [
        "Using `:` we can select a group of elements in the list starting from the first element indicated and going up to  (but not including) the last element indicated.\n",
        "\n",
        "We can also select everything after a certain point"
      ]
    },
    {
      "cell_type": "code",
      "metadata": {
        "scrolled": true,
        "id": "1zUUMbIWU8V8"
      },
      "source": [
        "print(my_list[1:])"
      ],
      "execution_count": null,
      "outputs": []
    },
    {
      "cell_type": "markdown",
      "metadata": {
        "id": "rXkyEZCcKgQ3"
      },
      "source": [
        "**Mi ejemplo:**"
      ]
    },
    {
      "cell_type": "code",
      "metadata": {
        "colab": {
          "base_uri": "https://localhost:8080/"
        },
        "id": "09u8D3u4LNJI",
        "outputId": "0087b392-f9b1-4081-d1cc-e9925a0b572b"
      },
      "source": [
        "print(my_list1[1:])"
      ],
      "execution_count": null,
      "outputs": [
        {
          "output_type": "stream",
          "text": [
            "[58, 9, 10]\n"
          ],
          "name": "stdout"
        }
      ]
    },
    {
      "cell_type": "markdown",
      "metadata": {
        "id": "1uLwF7G_U8V9"
      },
      "source": [
        "And everything before a certain point"
      ]
    },
    {
      "cell_type": "code",
      "metadata": {
        "scrolled": true,
        "id": "G6REN0QpU8V9",
        "colab": {
          "base_uri": "https://localhost:8080/"
        },
        "outputId": "7f1a4c67-334d-4aed-cbde-76aadebe1b4a"
      },
      "source": [
        "print(my_list[:4])"
      ],
      "execution_count": null,
      "outputs": [
        {
          "output_type": "stream",
          "text": [
            "['friends', 'romans', 'countrymen', 'lend']\n"
          ],
          "name": "stdout"
        }
      ]
    },
    {
      "cell_type": "markdown",
      "metadata": {
        "id": "W-2Jz1A7KhDI"
      },
      "source": [
        "**Mi ejemplo:**"
      ]
    },
    {
      "cell_type": "code",
      "metadata": {
        "colab": {
          "base_uri": "https://localhost:8080/"
        },
        "id": "v7Xxl-D3LVsY",
        "outputId": "75292341-4999-44ca-c071-3ce71dbb71b4"
      },
      "source": [
        "print(my_list1[:3])"
      ],
      "execution_count": null,
      "outputs": [
        {
          "output_type": "stream",
          "text": [
            "[7, 58, 9]\n"
          ],
          "name": "stdout"
        }
      ]
    },
    {
      "cell_type": "markdown",
      "metadata": {
        "id": "gtUtWhyIU8V9"
      },
      "source": [
        "Using negative numbers will count from the end of the indices instead of from the beginning. For example, an index of `-1` indicates the last element of the list."
      ]
    },
    {
      "cell_type": "code",
      "metadata": {
        "id": "RjSDIRNqU8V_",
        "colab": {
          "base_uri": "https://localhost:8080/"
        },
        "outputId": "86f9c1b7-4dfe-4faa-a402-8cefea0934dd"
      },
      "source": [
        "print(my_list[-1])"
      ],
      "execution_count": null,
      "outputs": [
        {
          "output_type": "stream",
          "text": [
            "ears\n"
          ],
          "name": "stdout"
        }
      ]
    },
    {
      "cell_type": "markdown",
      "metadata": {
        "id": "tMVYwA-yKh1I"
      },
      "source": [
        "**Mi ejemplo:**"
      ]
    },
    {
      "cell_type": "code",
      "metadata": {
        "colab": {
          "base_uri": "https://localhost:8080/"
        },
        "id": "Tz0Eld-lLfK-",
        "outputId": "0aaa31d9-c853-4c39-ed7c-c9086acc23cd"
      },
      "source": [
        "print(my_list1[-1])"
      ],
      "execution_count": null,
      "outputs": [
        {
          "output_type": "stream",
          "text": [
            "10\n"
          ],
          "name": "stdout"
        }
      ]
    },
    {
      "cell_type": "markdown",
      "metadata": {
        "id": "1B4qtqUlU8V_"
      },
      "source": [
        "You can also add a third component to slicing. Instead of simply indicating the first and final parts of your slice, you can specify the step size that you want to take. So instead of taking every single element, you can take every other element."
      ]
    },
    {
      "cell_type": "code",
      "metadata": {
        "id": "RjQ5R0M_U8WD",
        "colab": {
          "base_uri": "https://localhost:8080/"
        },
        "outputId": "9b509595-8454-41db-f121-9b557e055012"
      },
      "source": [
        "print(my_list[0:7:2])"
      ],
      "execution_count": null,
      "outputs": [
        {
          "output_type": "stream",
          "text": [
            "['friends', 'countrymen', 'me', 'ears']\n"
          ],
          "name": "stdout"
        }
      ]
    },
    {
      "cell_type": "markdown",
      "metadata": {
        "id": "SMokjctbKiqf"
      },
      "source": [
        "**Mi ejemplo:**"
      ]
    },
    {
      "cell_type": "code",
      "metadata": {
        "colab": {
          "base_uri": "https://localhost:8080/"
        },
        "id": "v4Z5xMGoLxf-",
        "outputId": "72d8d975-e7c6-4e7e-aedd-7ca72e12ae97"
      },
      "source": [
        "print(my_list1[0:4:2])"
      ],
      "execution_count": null,
      "outputs": [
        {
          "output_type": "stream",
          "text": [
            "[7, 9]\n"
          ],
          "name": "stdout"
        }
      ]
    },
    {
      "cell_type": "markdown",
      "metadata": {
        "id": "DHE_kTutU8WD"
      },
      "source": [
        "Here we have selected the entire list (because `0:7` will yield elements `0` through `6`) and we have selected a step size of `2`. So this will spit out element `0` , element `2`, element `4`, and so on through the list element selected. We can skip indicated the beginning and end of our slice, only indicating the step, if we like."
      ]
    },
    {
      "cell_type": "code",
      "metadata": {
        "id": "rZ7C3grpU8WE",
        "colab": {
          "base_uri": "https://localhost:8080/"
        },
        "outputId": "612bd204-9942-4382-a1fc-c54a0bfdbf4f"
      },
      "source": [
        "print(my_list[::2])"
      ],
      "execution_count": null,
      "outputs": [
        {
          "output_type": "stream",
          "text": [
            "['friends', 'countrymen', 'me', 'ears']\n"
          ],
          "name": "stdout"
        }
      ]
    },
    {
      "cell_type": "markdown",
      "metadata": {
        "id": "wa6mKHqDKjfR"
      },
      "source": [
        "**Mi ejemplo:**"
      ]
    },
    {
      "cell_type": "code",
      "metadata": {
        "colab": {
          "base_uri": "https://localhost:8080/"
        },
        "id": "g4jAXS3UMV6x",
        "outputId": "005ed04a-e2f5-4aa8-c608-2586f2ce7d41"
      },
      "source": [
        "print(my_list1[::2])"
      ],
      "execution_count": null,
      "outputs": [
        {
          "output_type": "stream",
          "text": [
            "[7, 9]\n"
          ],
          "name": "stdout"
        }
      ]
    },
    {
      "cell_type": "markdown",
      "metadata": {
        "id": "mhr5pdiwU8WE"
      },
      "source": [
        "Lists implictly select the beginning and end of the list when not otherwise specified."
      ]
    },
    {
      "cell_type": "code",
      "metadata": {
        "id": "dzPzKBHzU8WG",
        "colab": {
          "base_uri": "https://localhost:8080/"
        },
        "outputId": "6b420c35-94a5-45ed-9b04-97aa5a2c14c1"
      },
      "source": [
        "print(my_list[:])"
      ],
      "execution_count": null,
      "outputs": [
        {
          "output_type": "stream",
          "text": [
            "['friends', 'romans', 'countrymen', 'lend', 'me', 'your', 'ears']\n"
          ],
          "name": "stdout"
        }
      ]
    },
    {
      "cell_type": "markdown",
      "metadata": {
        "id": "Fl00h-IjKkQP"
      },
      "source": [
        "**Mi ejemplo:**"
      ]
    },
    {
      "cell_type": "code",
      "metadata": {
        "colab": {
          "base_uri": "https://localhost:8080/"
        },
        "id": "T665QnojM6mZ",
        "outputId": "f0e4e799-abb4-4cce-dc2b-adc3112dabc1"
      },
      "source": [
        "print(my_list1[:])"
      ],
      "execution_count": null,
      "outputs": [
        {
          "output_type": "stream",
          "text": [
            "[7, 58, 9, 10]\n"
          ],
          "name": "stdout"
        }
      ]
    },
    {
      "cell_type": "markdown",
      "metadata": {
        "id": "-MfkO9XQU8WH"
      },
      "source": [
        "With a negative step size we can even reverse the list!"
      ]
    },
    {
      "cell_type": "code",
      "metadata": {
        "id": "noDZXfq7U8WN"
      },
      "source": [
        "print(my_list[::-1])"
      ],
      "execution_count": null,
      "outputs": []
    },
    {
      "cell_type": "markdown",
      "metadata": {
        "id": "jDfO0GjlKlUg"
      },
      "source": [
        "**Mi ejemplo:**"
      ]
    },
    {
      "cell_type": "code",
      "metadata": {
        "colab": {
          "base_uri": "https://localhost:8080/"
        },
        "id": "C4OI_7LENAHQ",
        "outputId": "41ca0cf5-5e51-4729-b64a-0fb6cf73fbe4"
      },
      "source": [
        "print(my_list1[::-1])"
      ],
      "execution_count": null,
      "outputs": [
        {
          "output_type": "stream",
          "text": [
            "[10, 9, 58, 7]\n"
          ],
          "name": "stdout"
        }
      ]
    },
    {
      "cell_type": "markdown",
      "metadata": {
        "id": "NVcmXKv_U8WN"
      },
      "source": [
        "Python does not have native matrices, but with lists we can produce a working fascimile. Other packages, such as `numpy`, add matrices as a separate data type, but in base Python the best way to create a matrix is to use a list of lists."
      ]
    },
    {
      "cell_type": "markdown",
      "metadata": {
        "id": "DmXMcs9bU8WO"
      },
      "source": [
        "We can also use built-in functions to generate lists. In particular we will look at `range()` (because we will be using it later!). Range can take several different inputs and will return a list."
      ]
    },
    {
      "cell_type": "code",
      "metadata": {
        "id": "omlUfWSwU8WO",
        "colab": {
          "base_uri": "https://localhost:8080/"
        },
        "outputId": "985c32e8-edfe-49b1-d72a-037ee7b45b9d"
      },
      "source": [
        "b = 10\n",
        "my_list = range(b)\n",
        "print(my_list)"
      ],
      "execution_count": null,
      "outputs": [
        {
          "output_type": "stream",
          "text": [
            "range(0, 10)\n"
          ],
          "name": "stdout"
        }
      ]
    },
    {
      "cell_type": "markdown",
      "metadata": {
        "id": "k99pWqjTKm-w"
      },
      "source": [
        "**Mi ejemplo:**"
      ]
    },
    {
      "cell_type": "code",
      "metadata": {
        "colab": {
          "base_uri": "https://localhost:8080/"
        },
        "id": "_xours1ENPAf",
        "outputId": "3b1579ac-4a5e-4340-bf87-3eb862a921f0"
      },
      "source": [
        "b1 = 20\n",
        "my_list1 = range(b1)\n",
        "print(my_list1)"
      ],
      "execution_count": null,
      "outputs": [
        {
          "output_type": "stream",
          "text": [
            "range(0, 20)\n"
          ],
          "name": "stdout"
        }
      ]
    },
    {
      "cell_type": "markdown",
      "metadata": {
        "id": "W9uYq5MkU8WP"
      },
      "source": [
        "Similar to our list-slicing methods from before, we can define both a start and an end for our range. This will return a list that is includes the start and excludes the end, just like a slice."
      ]
    },
    {
      "cell_type": "code",
      "metadata": {
        "id": "TEjRav0kU8WP",
        "colab": {
          "base_uri": "https://localhost:8080/"
        },
        "outputId": "31438548-cdcc-4a8c-91e5-1c40f753f888"
      },
      "source": [
        "a = 0\n",
        "b = 10\n",
        "my_list = range(a, b)\n",
        "print(my_list)"
      ],
      "execution_count": null,
      "outputs": [
        {
          "output_type": "stream",
          "text": [
            "range(0, 10)\n"
          ],
          "name": "stdout"
        }
      ]
    },
    {
      "cell_type": "markdown",
      "metadata": {
        "id": "9yS8UKzCKn5C"
      },
      "source": [
        "**Mi ejemplo:**"
      ]
    },
    {
      "cell_type": "code",
      "metadata": {
        "colab": {
          "base_uri": "https://localhost:8080/"
        },
        "id": "gjUF4OfWNVuX",
        "outputId": "10dfde9e-e3e3-424a-841b-b8226da39516"
      },
      "source": [
        "a1 = 0\n",
        "b1 = 20\n",
        "my_list1 = range(a1, b1)\n",
        "print(my_list1)"
      ],
      "execution_count": null,
      "outputs": [
        {
          "output_type": "stream",
          "text": [
            "range(0, 20)\n"
          ],
          "name": "stdout"
        }
      ]
    },
    {
      "cell_type": "markdown",
      "metadata": {
        "id": "ZCR8wGLfU8WP"
      },
      "source": [
        "We can also specify a step size. This again has the same behavior as a slice."
      ]
    },
    {
      "cell_type": "code",
      "metadata": {
        "scrolled": true,
        "id": "wf1guHmDU8WQ",
        "colab": {
          "base_uri": "https://localhost:8080/"
        },
        "outputId": "6d1fc475-885e-4f5f-e5ed-00bbbb6842e3"
      },
      "source": [
        "a = 0\n",
        "b = 10\n",
        "step = 2\n",
        "my_list = range(a, b, step)\n",
        "print(my_list)"
      ],
      "execution_count": null,
      "outputs": [
        {
          "output_type": "stream",
          "text": [
            "range(0, 10, 2)\n"
          ],
          "name": "stdout"
        }
      ]
    },
    {
      "cell_type": "markdown",
      "metadata": {
        "id": "SF5D64tsKo9Q"
      },
      "source": [
        "**Mi ejemplo:**"
      ]
    },
    {
      "cell_type": "code",
      "metadata": {
        "colab": {
          "base_uri": "https://localhost:8080/"
        },
        "id": "ScUsO2KdNtFC",
        "outputId": "2edc4ed2-993c-43e3-98ec-87c407c22af1"
      },
      "source": [
        "a1 = 0\n",
        "b1 = 20\n",
        "step1 = 4\n",
        "my_list1 = range(a1, b1, step1)\n",
        "print(my_list1)"
      ],
      "execution_count": null,
      "outputs": [
        {
          "output_type": "stream",
          "text": [
            "range(0, 20, 4)\n"
          ],
          "name": "stdout"
        }
      ]
    },
    {
      "cell_type": "markdown",
      "metadata": {
        "id": "U8MjzRr-U8WQ"
      },
      "source": [
        "### Tuples\n",
        "\n",
        "A `tuple` is a data type similar to a list in that it can hold different kinds of data types. The key difference here is that a `tuple` is immutable. We define a `tuple` by separating the elements we want to include by commas. It is conventional to surround a `tuple` with parentheses."
      ]
    },
    {
      "cell_type": "code",
      "metadata": {
        "id": "2B87cvU0U8WR",
        "colab": {
          "base_uri": "https://localhost:8080/"
        },
        "outputId": "d174d9cb-265d-400e-ea35-d674f43178b7"
      },
      "source": [
        "my_tuple = 'I', 'have', 30, 'cats'\n",
        "print(my_tuple)"
      ],
      "execution_count": null,
      "outputs": [
        {
          "output_type": "stream",
          "text": [
            "('I', 'have', 30, 'cats')\n"
          ],
          "name": "stdout"
        }
      ]
    },
    {
      "cell_type": "markdown",
      "metadata": {
        "id": "cVPZWlPJOlv4"
      },
      "source": [
        "**Mi ejemplo:**"
      ]
    },
    {
      "cell_type": "code",
      "metadata": {
        "colab": {
          "base_uri": "https://localhost:8080/"
        },
        "id": "idgucbGkO5Cx",
        "outputId": "184c68be-f666-4edf-9354-9c5bc3a614d5"
      },
      "source": [
        "my_tuple1 = 'Yo', 'tengo', 30, 'michis'\n",
        "print(my_tuple1)"
      ],
      "execution_count": null,
      "outputs": [
        {
          "output_type": "stream",
          "text": [
            "('Yo', 'tengo', 30, 'michis')\n"
          ],
          "name": "stdout"
        }
      ]
    },
    {
      "cell_type": "code",
      "metadata": {
        "id": "qvAVo8jQU8WR",
        "colab": {
          "base_uri": "https://localhost:8080/"
        },
        "outputId": "01838337-9cc4-483a-eedc-083751a6ae75"
      },
      "source": [
        "my_tuple = ('I', 'have', 30, 'cats')\n",
        "print(my_tuple)"
      ],
      "execution_count": null,
      "outputs": [
        {
          "output_type": "stream",
          "text": [
            "('I', 'have', 30, 'cats')\n"
          ],
          "name": "stdout"
        }
      ]
    },
    {
      "cell_type": "markdown",
      "metadata": {
        "id": "d3pzszpROwdL"
      },
      "source": [
        "**Mi ejemplo:**"
      ]
    },
    {
      "cell_type": "code",
      "metadata": {
        "colab": {
          "base_uri": "https://localhost:8080/"
        },
        "id": "FxDWDvY0PMiJ",
        "outputId": "6ffa5a7d-73b8-4f0f-ae24-0ae3e12ad068"
      },
      "source": [
        "my_tuple1 = ('Yo', 'tengo', 30, 'michis')\n",
        "print(my_tuple1)"
      ],
      "execution_count": null,
      "outputs": [
        {
          "output_type": "stream",
          "text": [
            "('Yo', 'tengo', 30, 'michis')\n"
          ],
          "name": "stdout"
        }
      ]
    },
    {
      "cell_type": "markdown",
      "metadata": {
        "id": "LLxFwlV0U8WR"
      },
      "source": [
        "As mentioned before, tuples are immutable. You can't change any part of them without defining a new tuple."
      ]
    },
    {
      "cell_type": "code",
      "metadata": {
        "id": "51WqAMYjU8WS"
      },
      "source": [
        "#my_tuple[3] = 'dogs' # Attempts to change the 'cats' value stored in the the tuple to 'dogs'"
      ],
      "execution_count": null,
      "outputs": []
    },
    {
      "cell_type": "markdown",
      "metadata": {
        "id": "bD5KX4QOU8WS"
      },
      "source": [
        "You can slice tuples the same way that you slice lists!"
      ]
    },
    {
      "cell_type": "code",
      "metadata": {
        "id": "tAm4WLS1U8WS",
        "colab": {
          "base_uri": "https://localhost:8080/"
        },
        "outputId": "667a66c6-adbd-4583-d414-bc81db02dcdb"
      },
      "source": [
        "print(my_tuple[1:3])"
      ],
      "execution_count": null,
      "outputs": [
        {
          "output_type": "stream",
          "text": [
            "('have', 30)\n"
          ],
          "name": "stdout"
        }
      ]
    },
    {
      "cell_type": "markdown",
      "metadata": {
        "id": "zhPTpOhbOtjQ"
      },
      "source": [
        "**Mi ejemplo:**"
      ]
    },
    {
      "cell_type": "code",
      "metadata": {
        "colab": {
          "base_uri": "https://localhost:8080/"
        },
        "id": "wf6BBm_iPT2M",
        "outputId": "25f1bcd8-6a0b-4a42-b220-51169d85f541"
      },
      "source": [
        "print(my_tuple1[1:3])"
      ],
      "execution_count": null,
      "outputs": [
        {
          "output_type": "stream",
          "text": [
            "('tengo', 30)\n"
          ],
          "name": "stdout"
        }
      ]
    },
    {
      "cell_type": "markdown",
      "metadata": {
        "id": "4YgiAxHBU8WT"
      },
      "source": [
        "And concatenate them the way that you would with strings!"
      ]
    },
    {
      "cell_type": "code",
      "metadata": {
        "id": "JyF3ir6JU8WT",
        "colab": {
          "base_uri": "https://localhost:8080/"
        },
        "outputId": "2237713a-a0e6-4cde-a3e1-d3e0979b76b4"
      },
      "source": [
        "my_other_tuple = ('make', 'that', 50)\n",
        "print(my_tuple + my_other_tuple)"
      ],
      "execution_count": null,
      "outputs": [
        {
          "output_type": "stream",
          "text": [
            "('I', 'have', 30, 'cats', 'make', 'that', 50)\n"
          ],
          "name": "stdout"
        }
      ]
    },
    {
      "cell_type": "markdown",
      "metadata": {
        "id": "Vt-48bfMOup4"
      },
      "source": [
        "**Mi ejemplo:**"
      ]
    },
    {
      "cell_type": "code",
      "metadata": {
        "colab": {
          "base_uri": "https://localhost:8080/"
        },
        "id": "UlUdRub4PXdP",
        "outputId": "223aa158-5a9a-44d4-89c3-2b754d50e171"
      },
      "source": [
        "my_other_tuple1 = ('Hacer', 'eso', 50)\n",
        "print(my_tuple1 + my_other_tuple1)"
      ],
      "execution_count": null,
      "outputs": [
        {
          "output_type": "stream",
          "text": [
            "('Yo', 'tengo', 30, 'michis', 'Hacer', 'eso', 50)\n"
          ],
          "name": "stdout"
        }
      ]
    },
    {
      "cell_type": "markdown",
      "metadata": {
        "id": "Ug7EM6oyU8WU"
      },
      "source": [
        "We can 'pack' values together, creating a tuple (as above), or we can 'unpack' values from a tuple, taking them out."
      ]
    },
    {
      "cell_type": "code",
      "metadata": {
        "id": "yD6bA76fU8WU",
        "colab": {
          "base_uri": "https://localhost:8080/"
        },
        "outputId": "04a3cdd6-1e57-4681-af21-1f645b163d5b"
      },
      "source": [
        "str_1, str_2, int_1 = my_other_tuple\n",
        "print(str_1, str_2, int_1)"
      ],
      "execution_count": null,
      "outputs": [
        {
          "output_type": "stream",
          "text": [
            "make that 50\n"
          ],
          "name": "stdout"
        }
      ]
    },
    {
      "cell_type": "markdown",
      "metadata": {
        "id": "Aau_J5HXOzxr"
      },
      "source": [
        "**Mi ejemplo:**"
      ]
    },
    {
      "cell_type": "code",
      "metadata": {
        "colab": {
          "base_uri": "https://localhost:8080/"
        },
        "id": "RAyiWUaePlFd",
        "outputId": "53e567b6-ac8f-4f10-856e-a6130c1c6a0d"
      },
      "source": [
        "str_11, str_21, int_11 = my_other_tuple1\n",
        "print(str_11, str_21, int_11)"
      ],
      "execution_count": null,
      "outputs": [
        {
          "output_type": "stream",
          "text": [
            "Hacer eso 50\n"
          ],
          "name": "stdout"
        }
      ]
    },
    {
      "cell_type": "markdown",
      "metadata": {
        "id": "-3tANuQPU8WU"
      },
      "source": [
        "Unpacking assigns each value of the tuple in order to each variable on the left hand side of the equals sign. Some functions, including user-defined functions, may return tuples, so we can use this to directly unpack them and access the values that we want."
      ]
    },
    {
      "cell_type": "markdown",
      "metadata": {
        "id": "1i_BcALkU8WV"
      },
      "source": [
        "### Sets\n",
        "\n",
        "A `set` is a collection of unordered, unique elements. It works almost exactly as you would expect a normal set of things in mathematics to work and is defined using braces (`{}`)."
      ]
    },
    {
      "cell_type": "code",
      "metadata": {
        "id": "6jPWhoOwU8WV",
        "colab": {
          "base_uri": "https://localhost:8080/"
        },
        "outputId": "ac8eb6fd-6826-4d52-cf72-c5961105e89b"
      },
      "source": [
        "things_i_like = {'dogs', 7, 'the number 4', 4, 4, 4, 42, 'lizards', 'man I just LOVE the number 4'}\n",
        "print(things_i_like, type(things_i_like))"
      ],
      "execution_count": null,
      "outputs": [
        {
          "output_type": "stream",
          "text": [
            "{'dogs', 4, 7, 42, 'lizards', 'the number 4', 'man I just LOVE the number 4'} <class 'set'>\n"
          ],
          "name": "stdout"
        }
      ]
    },
    {
      "cell_type": "markdown",
      "metadata": {
        "id": "_sl-_Zg_QB0t"
      },
      "source": [
        "**Mi ejemplo:**"
      ]
    },
    {
      "cell_type": "code",
      "metadata": {
        "colab": {
          "base_uri": "https://localhost:8080/"
        },
        "id": "MucIINs8RmG9",
        "outputId": "85ce6a66-64be-4788-bb2d-c32c337f36ce"
      },
      "source": [
        "things_i_like1 = {'perros', 7, 'el numero 4', 4, 4, 4, 42, 'lagartos', 'me encanta el numero 4'}\n",
        "print(things_i_like1, type(things_i_like1))"
      ],
      "execution_count": null,
      "outputs": [
        {
          "output_type": "stream",
          "text": [
            "{4, 'lagartos', 7, 'perros', 42, 'el numero 4', 'me encanta el numero 4'} <class 'set'>\n"
          ],
          "name": "stdout"
        }
      ]
    },
    {
      "cell_type": "markdown",
      "metadata": {
        "id": "eIiGWn7VU8WW"
      },
      "source": [
        "Note how any extra instances of the same item are removed in the final set. We can also create a `set` from a list, using the `set()` function."
      ]
    },
    {
      "cell_type": "code",
      "metadata": {
        "id": "QJIYoYqXU8WW",
        "colab": {
          "base_uri": "https://localhost:8080/"
        },
        "outputId": "37536d49-68d2-4bbd-d364-f802660579bb"
      },
      "source": [
        "animal_list = ['cats', 'dogs', 'dogs', 'dogs', 'lizards', 'sponges', 'cows', 'bats', 'sponges']\n",
        "animal_set = set(animal_list)\n",
        "print(animal_set) # Removes all extra instances from the list"
      ],
      "execution_count": null,
      "outputs": [
        {
          "output_type": "stream",
          "text": [
            "{'sponges', 'dogs', 'cats', 'lizards', 'cows', 'bats'}\n"
          ],
          "name": "stdout"
        }
      ]
    },
    {
      "cell_type": "markdown",
      "metadata": {
        "id": "bPpZmV3KQy_X"
      },
      "source": [
        "**Mi ejemplo:**"
      ]
    },
    {
      "cell_type": "code",
      "metadata": {
        "colab": {
          "base_uri": "https://localhost:8080/"
        },
        "id": "GmPHkvrTR9Mn",
        "outputId": "4784ee4f-6813-4f68-fd3d-fd91e9b3a4b0"
      },
      "source": [
        "animal_list1 = ['gatos', 'perros', 'perros', 'perros', 'lagartos', 'esponjas', 'vacas', 'murcielagos', 'esponjas']\n",
        "animal_set1 = set(animal_list1)\n",
        "print(animal_set1) # Removes all extra instances from the list"
      ],
      "execution_count": null,
      "outputs": [
        {
          "output_type": "stream",
          "text": [
            "{'esponjas', 'lagartos', 'perros', 'vacas', 'gatos', 'murcielagos'}\n"
          ],
          "name": "stdout"
        }
      ]
    },
    {
      "cell_type": "markdown",
      "metadata": {
        "id": "IheM1CSaU8WW"
      },
      "source": [
        "Calling `len()` on a set will tell you how many elements are in it."
      ]
    },
    {
      "cell_type": "code",
      "metadata": {
        "id": "6PXuknFuU8WX",
        "colab": {
          "base_uri": "https://localhost:8080/"
        },
        "outputId": "6a73fdd6-517f-48e9-9672-4d85b2c670ad"
      },
      "source": [
        "print(len(animal_set))"
      ],
      "execution_count": null,
      "outputs": [
        {
          "output_type": "stream",
          "text": [
            "6\n"
          ],
          "name": "stdout"
        }
      ]
    },
    {
      "cell_type": "markdown",
      "metadata": {
        "id": "dpFZjKSGQ0Oe"
      },
      "source": [
        "**Mi ejemplo:**"
      ]
    },
    {
      "cell_type": "code",
      "metadata": {
        "colab": {
          "base_uri": "https://localhost:8080/"
        },
        "id": "3_IXX-w7SYaP",
        "outputId": "9894f4ef-1a41-4ce7-d345-9194feb67237"
      },
      "source": [
        "print(len(animal_set1))"
      ],
      "execution_count": null,
      "outputs": [
        {
          "output_type": "stream",
          "text": [
            "6\n"
          ],
          "name": "stdout"
        }
      ]
    },
    {
      "cell_type": "markdown",
      "metadata": {
        "id": "ltrpQVuvU8WY"
      },
      "source": [
        "Because a `set` is unordered, we can't access individual elements using an index. We can, however, easily check for membership (to see if something is contained in a set) and take the unions and intersections of sets by using the built-in set functions."
      ]
    },
    {
      "cell_type": "code",
      "metadata": {
        "id": "SILeAlRnU8WY",
        "colab": {
          "base_uri": "https://localhost:8080/"
        },
        "outputId": "470cb8de-1fa3-4488-b18a-7262ac32faa3"
      },
      "source": [
        "'cats' in animal_set # Here we check for membership using the `in` keyword."
      ],
      "execution_count": null,
      "outputs": [
        {
          "output_type": "execute_result",
          "data": {
            "text/plain": [
              "True"
            ]
          },
          "metadata": {
            "tags": []
          },
          "execution_count": 181
        }
      ]
    },
    {
      "cell_type": "markdown",
      "metadata": {
        "id": "AMzcpu3vQ1FB"
      },
      "source": [
        "**Mi ejemplo:**"
      ]
    },
    {
      "cell_type": "code",
      "metadata": {
        "colab": {
          "base_uri": "https://localhost:8080/"
        },
        "id": "i9R8_yLeScSl",
        "outputId": "9b708a21-1ef2-4f7a-fb19-957abf253aad"
      },
      "source": [
        "'gatos' in animal_set1"
      ],
      "execution_count": null,
      "outputs": [
        {
          "output_type": "execute_result",
          "data": {
            "text/plain": [
              "True"
            ]
          },
          "metadata": {
            "tags": []
          },
          "execution_count": 187
        }
      ]
    },
    {
      "cell_type": "markdown",
      "metadata": {
        "id": "WfU1dSaPU8WZ"
      },
      "source": [
        "Here we checked to see whether the string 'cats' was contained within our `animal_set` and it returned `True`, telling us that it is indeed in our set.\n",
        "\n",
        "We can connect sets by using typical mathematical set operators, namely `|`, for union, and `&`, for intersection. Using `|` or `&` will return exactly what you would expect if you are familiar with sets in mathematics."
      ]
    },
    {
      "cell_type": "code",
      "metadata": {
        "id": "mOh1SAZoU8WZ",
        "colab": {
          "base_uri": "https://localhost:8080/"
        },
        "outputId": "a836eda0-4808-4a93-e4fd-e5380d8c53ea"
      },
      "source": [
        "print(animal_set | things_i_like) # You can also write things_i_like | animal_set with no difference"
      ],
      "execution_count": null,
      "outputs": [
        {
          "output_type": "stream",
          "text": [
            "{'sponges', 'dogs', 4, 7, 42, 'the number 4', 'cats', 'lizards', 'cows', 'bats', 'man I just LOVE the number 4'}\n"
          ],
          "name": "stdout"
        }
      ]
    },
    {
      "cell_type": "markdown",
      "metadata": {
        "id": "bvMDYdVPQ1-e"
      },
      "source": [
        "**Mi ejemplo:**"
      ]
    },
    {
      "cell_type": "code",
      "metadata": {
        "colab": {
          "base_uri": "https://localhost:8080/"
        },
        "id": "u5eVa5ZKSpcY",
        "outputId": "54db4f37-43f1-4fa3-a236-7fd22c189dda"
      },
      "source": [
        "print(animal_set1 | things_i_like1)"
      ],
      "execution_count": null,
      "outputs": [
        {
          "output_type": "stream",
          "text": [
            "{'esponjas', 4, 'lagartos', 7, 'perros', 42, 'vacas', 'el numero 4', 'me encanta el numero 4', 'gatos', 'murcielagos'}\n"
          ],
          "name": "stdout"
        }
      ]
    },
    {
      "cell_type": "markdown",
      "metadata": {
        "id": "WECQB09BU8Wa"
      },
      "source": [
        "Pairing two sets together with `|` combines the sets, removing any repetitions to make every set element unique."
      ]
    },
    {
      "cell_type": "code",
      "metadata": {
        "id": "Qae7CZa9U8Wa",
        "colab": {
          "base_uri": "https://localhost:8080/"
        },
        "outputId": "408a2f26-c30e-45b3-df07-fada5e967ce0"
      },
      "source": [
        "print(animal_set & things_i_like) # You can also write things_i_like & animal_set with no difference"
      ],
      "execution_count": null,
      "outputs": [
        {
          "output_type": "stream",
          "text": [
            "{'dogs', 'lizards'}\n"
          ],
          "name": "stdout"
        }
      ]
    },
    {
      "cell_type": "markdown",
      "metadata": {
        "id": "8w79Q9DwQ2vx"
      },
      "source": [
        "**Mi ejemplo:**"
      ]
    },
    {
      "cell_type": "code",
      "metadata": {
        "colab": {
          "base_uri": "https://localhost:8080/"
        },
        "id": "7QntFZQGSx5F",
        "outputId": "67b4d346-4ee6-40e2-eda5-55701d25a8f6"
      },
      "source": [
        "print(animal_set1 & things_i_like1)"
      ],
      "execution_count": null,
      "outputs": [
        {
          "output_type": "stream",
          "text": [
            "{'perros', 'lagartos'}\n"
          ],
          "name": "stdout"
        }
      ]
    },
    {
      "cell_type": "markdown",
      "metadata": {
        "id": "LyULk_JZU8Wb"
      },
      "source": [
        "Pairing two sets together with `&` will calculate the intersection of both sets, returning a set that only contains what they have in common.\n",
        "\n",
        "If you are interested in learning more about the built-in functions for sets, feel free to check out the [documentation](https://docs.python.org/2/library/sets.html)."
      ]
    },
    {
      "cell_type": "markdown",
      "metadata": {
        "id": "c6uoATz2U8Wb"
      },
      "source": [
        "### Dictionaries\n",
        "\n",
        "Another essential data structure in Python is the dictionary. Dictionaries are defined with a combination of curly braces (`{}`) and colons (`:`). The braces define the beginning and end of a dictionary and the colons indicate key-value pairs. A dictionary is essentially a set of key-value pairs. The key of any entry must be an immutable data type. This makes both strings and tuples candidates. Keys can be both added and deleted.\n",
        "\n",
        "In the following example, we have a dictionary composed of key-value pairs where the key is a genre of fiction (`string`) and the value is a list of books (`list`) within that genre. Since a collection is still considered a single entity, we can use one to collect multiple variables or values into one key-value pair."
      ]
    },
    {
      "cell_type": "code",
      "metadata": {
        "id": "YSL0Xsh2U8Wc"
      },
      "source": [
        "my_dict = {\"High Fantasy\": [\"Wheel of Time\", \"Lord of the Rings\"], \n",
        "           \"Sci-fi\": [\"Book of the New Sun\", \"Neuromancer\", \"Snow Crash\"],\n",
        "           \"Weird Fiction\": [\"At the Mountains of Madness\", \"The House on the Borderland\"]}"
      ],
      "execution_count": null,
      "outputs": []
    },
    {
      "cell_type": "markdown",
      "metadata": {
        "id": "yptJqS6kTV_5"
      },
      "source": [
        "**Mi ejemplo:**"
      ]
    },
    {
      "cell_type": "code",
      "metadata": {
        "id": "UrrMi_Y6TmZh"
      },
      "source": [
        "my_dict1 = {\"Alta fantasia\": [\"La rueda del tiempo\", \"El señor de los añillos\"], \n",
        "           \"Ciencia ficción\": [\"El libro del sol nuevo\", \"Neuromante\", \"Choque de nieve\"],\n",
        "           \"Ficción rara\": [\"En las montañas de la locura\", \"La casa en la frontera\"]}"
      ],
      "execution_count": null,
      "outputs": []
    },
    {
      "cell_type": "markdown",
      "metadata": {
        "id": "6notl1GkU8Wc"
      },
      "source": [
        "After defining a dictionary, we can access any individual value by indicating its key in brackets."
      ]
    },
    {
      "cell_type": "code",
      "metadata": {
        "id": "hj1c4-vuU8Wd",
        "colab": {
          "base_uri": "https://localhost:8080/"
        },
        "outputId": "6e2632f6-e354-4692-fd09-fb19f997b7da"
      },
      "source": [
        "print(my_dict[\"Sci-fi\"])"
      ],
      "execution_count": null,
      "outputs": [
        {
          "output_type": "stream",
          "text": [
            "['Book of the New Sun', 'Neuromancer', 'Snow Crash']\n"
          ],
          "name": "stdout"
        }
      ]
    },
    {
      "cell_type": "markdown",
      "metadata": {
        "id": "QfC7fEhUTf4Q"
      },
      "source": [
        "**Mi ejemplo:**"
      ]
    },
    {
      "cell_type": "code",
      "metadata": {
        "colab": {
          "base_uri": "https://localhost:8080/"
        },
        "id": "1fKvEUB4UlK5",
        "outputId": "8e49ddb7-f97d-493b-b40d-ad265d5461f1"
      },
      "source": [
        "print(my_dict1[\"Ciencia ficción\"])"
      ],
      "execution_count": null,
      "outputs": [
        {
          "output_type": "stream",
          "text": [
            "['El libro del sol nuevo', 'Neuromante', 'Choque de nieve']\n"
          ],
          "name": "stdout"
        }
      ]
    },
    {
      "cell_type": "markdown",
      "metadata": {
        "id": "p_ah8CTDU8Wd"
      },
      "source": [
        "We can also change the value associated with a given key"
      ]
    },
    {
      "cell_type": "code",
      "metadata": {
        "id": "Pr74DbdQU8Wd",
        "colab": {
          "base_uri": "https://localhost:8080/"
        },
        "outputId": "911fa002-3a10-4957-e8e8-5cd63b0d6bb6"
      },
      "source": [
        "my_dict[\"Sci-fi\"] = \"I can't read\"\n",
        "print(my_dict[\"Sci-fi\"])"
      ],
      "execution_count": null,
      "outputs": [
        {
          "output_type": "stream",
          "text": [
            "I can't read\n"
          ],
          "name": "stdout"
        }
      ]
    },
    {
      "cell_type": "markdown",
      "metadata": {
        "id": "K6gDjudTTg2g"
      },
      "source": [
        "**Mi ejemplo:**"
      ]
    },
    {
      "cell_type": "code",
      "metadata": {
        "colab": {
          "base_uri": "https://localhost:8080/"
        },
        "id": "9EzN10XbUsTg",
        "outputId": "58611569-c181-4d20-d16a-20d77060b968"
      },
      "source": [
        "my_dict1[\"Ciencia ficción\"] = \"No puedo leer\"\n",
        "print(my_dict1[\"Ciencia ficción\"])"
      ],
      "execution_count": null,
      "outputs": [
        {
          "output_type": "stream",
          "text": [
            "No puedo leer\n"
          ],
          "name": "stdout"
        }
      ]
    },
    {
      "cell_type": "markdown",
      "metadata": {
        "id": "h28C0_-tU8We"
      },
      "source": [
        "Adding a new key-value pair is as simple as defining it."
      ]
    },
    {
      "cell_type": "code",
      "metadata": {
        "id": "Xai-aQV4U8We",
        "colab": {
          "base_uri": "https://localhost:8080/"
        },
        "outputId": "d150b90a-c026-43a8-c422-5b97645b9e23"
      },
      "source": [
        "my_dict[\"Historical Fiction\"] = [\"Pillars of the Earth\"]\n",
        "print(my_dict[\"Historical Fiction\"])"
      ],
      "execution_count": null,
      "outputs": [
        {
          "output_type": "stream",
          "text": [
            "['Pillars of the Earth']\n"
          ],
          "name": "stdout"
        }
      ]
    },
    {
      "cell_type": "markdown",
      "metadata": {
        "id": "M64IgZx3Thrn"
      },
      "source": [
        "**Mi ejemplo:**"
      ]
    },
    {
      "cell_type": "code",
      "metadata": {
        "colab": {
          "base_uri": "https://localhost:8080/"
        },
        "id": "XfbLkKjIU5UR",
        "outputId": "1002e963-aa48-4416-cbf2-33c7d1b6aa4f"
      },
      "source": [
        "my_dict1[\"Ficción histórica\"] = [\"Pilares de la tierra\"]\n",
        "print(my_dict1[\"Ficción histórica\"])"
      ],
      "execution_count": null,
      "outputs": [
        {
          "output_type": "stream",
          "text": [
            "['Pilares de la tierra']\n"
          ],
          "name": "stdout"
        }
      ]
    },
    {
      "cell_type": "code",
      "metadata": {
        "id": "hdeNf8pRU8Wf",
        "colab": {
          "base_uri": "https://localhost:8080/"
        },
        "outputId": "19599187-0fe8-4e18-dad9-d4f0507960ed"
      },
      "source": [
        "print(my_dict)"
      ],
      "execution_count": null,
      "outputs": [
        {
          "output_type": "stream",
          "text": [
            "{'High Fantasy': ['Wheel of Time', 'Lord of the Rings'], 'Sci-fi': \"I can't read\", 'Weird Fiction': ['At the Mountains of Madness', 'The House on the Borderland']}\n"
          ],
          "name": "stdout"
        }
      ]
    },
    {
      "cell_type": "markdown",
      "metadata": {
        "id": "0WppGS_iTi-I"
      },
      "source": [
        "**Mi ejemplo:**"
      ]
    },
    {
      "cell_type": "code",
      "metadata": {
        "colab": {
          "base_uri": "https://localhost:8080/"
        },
        "id": "xA4GGMKiVUB7",
        "outputId": "e22a3d6a-d359-413b-f7c9-77e1841a3d97"
      },
      "source": [
        "print(my_dict1)"
      ],
      "execution_count": null,
      "outputs": [
        {
          "output_type": "stream",
          "text": [
            "{'Alta fantasia': ['La rueda del tiempo', 'El señor de los añillos'], 'Ciencia ficción': 'No puedo leer', 'Ficción rara': ['En las montañas de la locura', 'La casa en la frontera'], 'Ficción histórica': ['Pilares de la tierra']}\n"
          ],
          "name": "stdout"
        }
      ]
    },
    {
      "cell_type": "markdown",
      "metadata": {
        "id": "HVp4kXzcU8Wf"
      },
      "source": [
        "## String Shenanigans\n",
        "\n",
        "We already know that strings are generally used for text. We can used built-in operations to combine, split, and format strings easily, depending on our needs.\n",
        "\n",
        "The `+` symbol indicates concatenation in string language. It will combine two strings into a longer string."
      ]
    },
    {
      "cell_type": "code",
      "metadata": {
        "id": "VAUS-7G3U8Wg",
        "colab": {
          "base_uri": "https://localhost:8080/"
        },
        "outputId": "745df443-32ff-4663-a666-24340b783359"
      },
      "source": [
        "first_string = '\"Beware the Jabberwock, my son! /The jaws that bite, the claws that catch! /'\n",
        "second_string = 'Beware the Jubjub bird, and shun /The frumious Bandersnatch!\"/'\n",
        "third_string = first_string + second_string\n",
        "print(third_string)"
      ],
      "execution_count": null,
      "outputs": [
        {
          "output_type": "stream",
          "text": [
            "\"Beware the Jabberwock, my son! /The jaws that bite, the claws that catch! /Beware the Jubjub bird, and shun /The frumious Bandersnatch!\"/\n"
          ],
          "name": "stdout"
        }
      ]
    },
    {
      "cell_type": "markdown",
      "metadata": {
        "id": "yNKsxqNPAFSf"
      },
      "source": [
        "**Mi ejemplo:**"
      ]
    },
    {
      "cell_type": "code",
      "metadata": {
        "colab": {
          "base_uri": "https://localhost:8080/"
        },
        "id": "mkigmmGGGVMi",
        "outputId": "82d35634-0b51-42ec-b577-bfc58f390089"
      },
      "source": [
        "first_string1 = \"hello\"\n",
        "second_string1 = 'world'\n",
        "third_string1 = first_string1 + \" \" + second_string1\n",
        "print(third_string1)"
      ],
      "execution_count": null,
      "outputs": [
        {
          "output_type": "stream",
          "text": [
            "hello world\n"
          ],
          "name": "stdout"
        }
      ]
    },
    {
      "cell_type": "markdown",
      "metadata": {
        "id": "zLSRzqVTU8Wg"
      },
      "source": [
        "Strings are also indexed much in the same way that lists are."
      ]
    },
    {
      "cell_type": "code",
      "metadata": {
        "id": "EcmeKo56U8Wh",
        "colab": {
          "base_uri": "https://localhost:8080/"
        },
        "outputId": "183fc20a-d337-4c69-8c43-02c16ae553c5"
      },
      "source": [
        "my_string = 'Supercalifragilisticexpialidocious'\n",
        "print('The first letter is: ', my_string[0]) # Uppercase S\n",
        "print('The last letter is: ', my_string[-1]) # lowercase s\n",
        "print('The second to last letter is: ', my_string[-2]) # lowercase u\n",
        "print('The first five characters are: ', my_string[0:5]) # Remember: slicing doesn't include the final element!\n",
        "print('Reverse it!: ', my_string[::-1])"
      ],
      "execution_count": null,
      "outputs": [
        {
          "output_type": "stream",
          "text": [
            "The first letter is:  S\n",
            "The last letter is:  s\n",
            "The second to last letter is:  u\n",
            "The first five characters are:  Super\n",
            "Reverse it!:  suoicodilaipxecitsiligarfilacrepuS\n"
          ],
          "name": "stdout"
        }
      ]
    },
    {
      "cell_type": "markdown",
      "metadata": {
        "id": "qJ_jRo8EAGGX"
      },
      "source": [
        "**Mi ejemplo:**"
      ]
    },
    {
      "cell_type": "code",
      "metadata": {
        "colab": {
          "base_uri": "https://localhost:8080/"
        },
        "id": "bunoRxxIHNL9",
        "outputId": "1df9616b-45cf-4aeb-8628-5cc2057d2075"
      },
      "source": [
        "my_string1 = 'Hello'\n",
        "print('The first letter is: ', my_string1[0]) \n",
        "print('The last letter is: ', my_string1[-1]) \n",
        "print('The second to last letter is: ', my_string1[-2]) \n",
        "print('The first five characters are: ', my_string1[0:5])\n",
        "print('Reverse it!: ', my_string1[::-1])"
      ],
      "execution_count": null,
      "outputs": [
        {
          "output_type": "stream",
          "text": [
            "The first letter is:  H\n",
            "The last letter is:  o\n",
            "The second to last letter is:  l\n",
            "The first five characters are:  Hello\n",
            "Reverse it!:  olleH\n"
          ],
          "name": "stdout"
        }
      ]
    },
    {
      "cell_type": "markdown",
      "metadata": {
        "id": "JoWmh4oGU8Wh"
      },
      "source": [
        "Built-in objects and classes often have special functions associated with them that are called methods. We access these methods by using a period ('.'). We will cover objects and their associated methods more in another lecture!\n",
        "\n",
        "Using string methods we can count instances of a character or group of characters."
      ]
    },
    {
      "cell_type": "code",
      "metadata": {
        "scrolled": true,
        "id": "hsnUdRSjU8Wi",
        "colab": {
          "base_uri": "https://localhost:8080/"
        },
        "outputId": "adf7e4e5-7623-47bb-b95a-c8d08ea0dc1c"
      },
      "source": [
        "print('Count of the letter i in Supercalifragilisticexpialidocious: ', my_string.count('i'))\n",
        "print('Count of \"li\" in the same word: ', my_string.count('li'))"
      ],
      "execution_count": null,
      "outputs": [
        {
          "output_type": "stream",
          "text": [
            "Count of the letter i in Supercalifragilisticexpialidocious:  7\n",
            "Count of \"li\" in the same word:  3\n"
          ],
          "name": "stdout"
        }
      ]
    },
    {
      "cell_type": "markdown",
      "metadata": {
        "id": "OCXLU4hlAHIZ"
      },
      "source": [
        "**Mi ejemplo:**"
      ]
    },
    {
      "cell_type": "code",
      "metadata": {
        "colab": {
          "base_uri": "https://localhost:8080/"
        },
        "id": "XhCClsdBINGD",
        "outputId": "a68aaba7-9e94-4b89-c0be-ff0749fd0cf5"
      },
      "source": [
        "print('Count of the letter l in Hello: ', my_string1.count('l'))\n",
        "print('Count of \"lo\" in the same word: ', my_string1.count('lo'))"
      ],
      "execution_count": null,
      "outputs": [
        {
          "output_type": "stream",
          "text": [
            "Count of the letter l in Hello:  2\n",
            "Count of \"lo\" in the same word:  1\n"
          ],
          "name": "stdout"
        }
      ]
    },
    {
      "cell_type": "markdown",
      "metadata": {
        "id": "8MtJiNtJU8Wi"
      },
      "source": [
        "We can also find the first instance of a character or group of characters in a string."
      ]
    },
    {
      "cell_type": "code",
      "metadata": {
        "id": "YgFtW_XsU8Wi",
        "colab": {
          "base_uri": "https://localhost:8080/"
        },
        "outputId": "4d9fe1e6-4019-4b6d-9a63-16c1627ab048"
      },
      "source": [
        "print('The first time i appears is at index: ', my_string.find('i'))"
      ],
      "execution_count": null,
      "outputs": [
        {
          "output_type": "stream",
          "text": [
            "The first time i appears is at index:  8\n"
          ],
          "name": "stdout"
        }
      ]
    },
    {
      "cell_type": "markdown",
      "metadata": {
        "id": "PIz-M76lAHv_"
      },
      "source": [
        "**Mi ejemplo:**"
      ]
    },
    {
      "cell_type": "code",
      "metadata": {
        "colab": {
          "base_uri": "https://localhost:8080/"
        },
        "id": "ez2SzaAlIbrR",
        "outputId": "9ebd7d6e-0638-41f8-c4ec-85bc40054809"
      },
      "source": [
        "print('The first time l appears is at index: ', my_string1.find('l'))"
      ],
      "execution_count": null,
      "outputs": [
        {
          "output_type": "stream",
          "text": [
            "The first time l appears is at index:  2\n"
          ],
          "name": "stdout"
        }
      ]
    },
    {
      "cell_type": "markdown",
      "metadata": {
        "id": "OYmeCwYrU8Wj"
      },
      "source": [
        "As well as replace characters in a string."
      ]
    },
    {
      "cell_type": "code",
      "metadata": {
        "id": "8g0TiGzeU8Wj",
        "colab": {
          "base_uri": "https://localhost:8080/"
        },
        "outputId": "a9e11ee0-235f-4b57-cf4a-4c7285bf9156"
      },
      "source": [
        "print(\"All i's are now a's: \", my_string.replace('i', 'a'))"
      ],
      "execution_count": null,
      "outputs": [
        {
          "output_type": "stream",
          "text": [
            "All i's are now a's:  Supercalafragalastacexpaaladocaous\n"
          ],
          "name": "stdout"
        }
      ]
    },
    {
      "cell_type": "markdown",
      "metadata": {
        "id": "QgnXcxlCAIhv"
      },
      "source": [
        "**Mi ejemplo:**"
      ]
    },
    {
      "cell_type": "code",
      "metadata": {
        "colab": {
          "base_uri": "https://localhost:8080/"
        },
        "id": "ctzM02GLI3eA",
        "outputId": "fb2789d0-47e1-4f4f-c92e-391dd9e5d16f"
      },
      "source": [
        "print(\"All l's are now t's: \", my_string1.replace('l', 't'))"
      ],
      "execution_count": null,
      "outputs": [
        {
          "output_type": "stream",
          "text": [
            "All l's are now t's:  Hetto\n"
          ],
          "name": "stdout"
        }
      ]
    },
    {
      "cell_type": "code",
      "metadata": {
        "id": "8RxA8OYkU8Wk",
        "colab": {
          "base_uri": "https://localhost:8080/"
        },
        "outputId": "039a683e-68c9-4b18-cec5-fe1a53af2537"
      },
      "source": [
        "print(\"It's raining cats and dogs\".replace('dogs', 'more cats'))"
      ],
      "execution_count": null,
      "outputs": [
        {
          "output_type": "stream",
          "text": [
            "It's raining cats and more cats\n"
          ],
          "name": "stdout"
        }
      ]
    },
    {
      "cell_type": "markdown",
      "metadata": {
        "id": "alBiHxRPAJ5O"
      },
      "source": [
        "**Mi ejemplo:**"
      ]
    },
    {
      "cell_type": "code",
      "metadata": {
        "colab": {
          "base_uri": "https://localhost:8080/"
        },
        "id": "aT6FVuARI-eK",
        "outputId": "a57221d4-b069-43a9-c8d9-29274d76ad3c"
      },
      "source": [
        "print(\"Este trabajo es largo\".replace('largo', 'muy largo').replace('muy largo', 'extremadamente largo'))"
      ],
      "execution_count": null,
      "outputs": [
        {
          "output_type": "stream",
          "text": [
            "Este trabajo es extremadamente largo\n"
          ],
          "name": "stdout"
        }
      ]
    },
    {
      "cell_type": "markdown",
      "metadata": {
        "id": "-paCV_D_U8Wk"
      },
      "source": [
        "There are also some methods that are unique to strings. The function `upper()` will convert all characters in a string to uppercase, while `lower()` will convert all characters in a string to lowercase!"
      ]
    },
    {
      "cell_type": "code",
      "metadata": {
        "id": "k-_fqG0BU8Wk",
        "colab": {
          "base_uri": "https://localhost:8080/"
        },
        "outputId": "db459728-33a0-49c4-d85f-8860a6f32d0b"
      },
      "source": [
        "my_string = \"I can't hear you\"\n",
        "print(my_string.upper())\n",
        "my_string = \"I said HELLO\"\n",
        "print(my_string.lower())"
      ],
      "execution_count": null,
      "outputs": [
        {
          "output_type": "stream",
          "text": [
            "I CAN'T HEAR YOU\n",
            "i said hello\n"
          ],
          "name": "stdout"
        }
      ]
    },
    {
      "cell_type": "markdown",
      "metadata": {
        "id": "aXN2jrnYALzx"
      },
      "source": [
        "**Mi ejemplo:**"
      ]
    },
    {
      "cell_type": "code",
      "metadata": {
        "colab": {
          "base_uri": "https://localhost:8080/"
        },
        "id": "Db9kYXhPJiqZ",
        "outputId": "a6a4085d-eed7-45b8-c25f-de40cb047002"
      },
      "source": [
        "my_string1 = \"texto en minúsculas\"\n",
        "print(my_string1.upper())\n",
        "my_string1 = \"TEXTO EN MAYÚSCULAS\"\n",
        "print(my_string1.lower())"
      ],
      "execution_count": null,
      "outputs": [
        {
          "output_type": "stream",
          "text": [
            "TEXTO EN MINÚSCULAS\n",
            "texto en mayúsculas\n"
          ],
          "name": "stdout"
        }
      ]
    },
    {
      "cell_type": "markdown",
      "metadata": {
        "id": "OAq2A0h0U8Wl"
      },
      "source": [
        "### String Formatting\n",
        "\n",
        "Using the `format()` method we can add in variable values and generally format our strings."
      ]
    },
    {
      "cell_type": "code",
      "metadata": {
        "id": "QNo0TD97U8Wl",
        "colab": {
          "base_uri": "https://localhost:8080/"
        },
        "outputId": "8f499833-9275-483f-e6a2-2c8f27c3d7ab"
      },
      "source": [
        "my_string = \"{0} {1}\".format('Marco', 'Polo')\n",
        "print(my_string)"
      ],
      "execution_count": null,
      "outputs": [
        {
          "output_type": "stream",
          "text": [
            "Marco Polo\n"
          ],
          "name": "stdout"
        }
      ]
    },
    {
      "cell_type": "markdown",
      "metadata": {
        "id": "E4JFSzG-AOXs"
      },
      "source": [
        "**Mi ejemplo:**"
      ]
    },
    {
      "cell_type": "code",
      "metadata": {
        "id": "jxS7JcgWWD7V"
      },
      "source": [
        "my_string1 = \"{0} {1}\".format('Hola', 'Mundo')\n",
        "print(my_string)"
      ],
      "execution_count": null,
      "outputs": []
    },
    {
      "cell_type": "code",
      "metadata": {
        "id": "6RZrNmdHU8Wm",
        "colab": {
          "base_uri": "https://localhost:8080/"
        },
        "outputId": "743dd211-39c1-4d8f-83e5-7335d793bc81"
      },
      "source": [
        "my_string = \"{1} {0}\".format('Marco', 'Polo')\n",
        "print(my_string)"
      ],
      "execution_count": null,
      "outputs": [
        {
          "output_type": "stream",
          "text": [
            "Polo Marco\n"
          ],
          "name": "stdout"
        }
      ]
    },
    {
      "cell_type": "markdown",
      "metadata": {
        "id": "NEsxS0M-APj4"
      },
      "source": [
        "**Mi ejemplo:**"
      ]
    },
    {
      "cell_type": "code",
      "metadata": {
        "colab": {
          "base_uri": "https://localhost:8080/"
        },
        "id": "DMIwvtlNWPKJ",
        "outputId": "491c0715-86f2-43d4-9702-7c7fe5b1ccb2"
      },
      "source": [
        "my_string = \"{1} {0}\".format('Hola', 'Mundo')\n",
        "print(my_string)"
      ],
      "execution_count": null,
      "outputs": [
        {
          "output_type": "stream",
          "text": [
            "Mundo Hola\n"
          ],
          "name": "stdout"
        }
      ]
    },
    {
      "cell_type": "markdown",
      "metadata": {
        "id": "DI-qSorJU8Wm"
      },
      "source": [
        "We use braces (`{}`) to indicate parts of the string that will be filled in later and we use the arguments of the `format()` function to provide the values to substitute. The numbers within the braces indicate the index of the value in the `format()` arguments."
      ]
    },
    {
      "cell_type": "markdown",
      "metadata": {
        "id": "91fGlMZ5U8Wn"
      },
      "source": [
        "See the `format()` [documentation](https://docs.python.org/2/library/string.html#format-examples) for additional examples."
      ]
    },
    {
      "cell_type": "markdown",
      "metadata": {
        "id": "kGiUYMRPU8Wn"
      },
      "source": [
        "If you need some quick and dirty formatting, you can instead use the `%` symbol, called the string formatting operator. "
      ]
    },
    {
      "cell_type": "code",
      "metadata": {
        "id": "Mp_6JeB0U8Wn",
        "colab": {
          "base_uri": "https://localhost:8080/"
        },
        "outputId": "6dc1436d-6645-4e84-e1d5-e56734054862"
      },
      "source": [
        "print('insert %s here' % 'value')"
      ],
      "execution_count": null,
      "outputs": [
        {
          "output_type": "stream",
          "text": [
            "insert value here\n"
          ],
          "name": "stdout"
        }
      ]
    },
    {
      "cell_type": "markdown",
      "metadata": {
        "id": "dY8DFNwIAQnI"
      },
      "source": [
        "**Mi ejemplo:**"
      ]
    },
    {
      "cell_type": "code",
      "metadata": {
        "colab": {
          "base_uri": "https://localhost:8080/"
        },
        "id": "5X5FOG0JWU3g",
        "outputId": "a14f7852-ecc8-499f-8929-d8ca1fecdaff"
      },
      "source": [
        "print('inserte %s aqui' % 'el valor')"
      ],
      "execution_count": null,
      "outputs": [
        {
          "output_type": "stream",
          "text": [
            "inserte el valor aqui\n"
          ],
          "name": "stdout"
        }
      ]
    },
    {
      "cell_type": "markdown",
      "metadata": {
        "id": "DzzSucJBU8Wq"
      },
      "source": [
        "The `%` symbol basically cues Python to create a placeholder. Whatever character follows the `%` (in the string) indicates what sort of type the value put into the placeholder will have. This character is called a *conversion type*. Once the string has been closed, we need another `%` that will be followed by the values to insert. In the case of one value, you can just put it there. If you are inserting more than one value, they must be enclosed in a tuple."
      ]
    },
    {
      "cell_type": "code",
      "metadata": {
        "id": "kXOYlGcWU8Wr",
        "colab": {
          "base_uri": "https://localhost:8080/"
        },
        "outputId": "c7c91d0c-1051-4807-a28f-6efb490cc740"
      },
      "source": [
        "print('There are %s cats in my %s' % (13, 'apartment'))"
      ],
      "execution_count": null,
      "outputs": [
        {
          "output_type": "stream",
          "text": [
            "There are 13 cats in my apartment\n"
          ],
          "name": "stdout"
        }
      ]
    },
    {
      "cell_type": "markdown",
      "metadata": {
        "id": "hwL_rN8dARd3"
      },
      "source": [
        "**Mi ejemplo:**"
      ]
    },
    {
      "cell_type": "code",
      "metadata": {
        "colab": {
          "base_uri": "https://localhost:8080/"
        },
        "id": "HJQ5Aw4zWrxm",
        "outputId": "e5fc91d3-8d5a-412c-cf65-0c29cb3f2416"
      },
      "source": [
        "print('Hay %s gatos en mi %s' % (13, 'apartmento'))"
      ],
      "execution_count": null,
      "outputs": [
        {
          "output_type": "stream",
          "text": [
            "Hay 13 gatos en mi apartmento\n"
          ],
          "name": "stdout"
        }
      ]
    },
    {
      "cell_type": "markdown",
      "metadata": {
        "id": "tm_h2DKvU8Wt"
      },
      "source": [
        "In these examples, the `%s` indicates that Python should convert the values into strings. There are multiple conversion types that you can use to get more specific with the the formatting. See the string formatting [documentation](https://docs.python.org/2/library/stdtypes.html#string-formatting) for additional examples and more complete details on use."
      ]
    },
    {
      "cell_type": "markdown",
      "metadata": {
        "id": "S1z87zIDU8Ww"
      },
      "source": [
        "## Logical Operators\n",
        "### Basic Logic\n",
        "\n",
        "Logical operators deal with `boolean` values, as we briefly covered before. If you recall, a `bool` takes on one of two values, `True` or `False` (or $1$ or $0$). The basic logical statements that we can make are defined using the built-in comparators. These are `==` (equal), `!=` (not equal), `<` (less than), `>` (greater than), `<=` (less than or equal to), and `>=` (greater than or equal to)."
      ]
    },
    {
      "cell_type": "code",
      "metadata": {
        "id": "-xs35bBuU8Ww",
        "colab": {
          "base_uri": "https://localhost:8080/"
        },
        "outputId": "8bb034f5-9169-4d5a-8c2b-6225695f6fb3"
      },
      "source": [
        "print(5 == 5)"
      ],
      "execution_count": null,
      "outputs": [
        {
          "output_type": "stream",
          "text": [
            "True\n"
          ],
          "name": "stdout"
        }
      ]
    },
    {
      "cell_type": "markdown",
      "metadata": {
        "id": "T-iDOrgeATho"
      },
      "source": [
        "**Mi ejemplo:**"
      ]
    },
    {
      "cell_type": "code",
      "metadata": {
        "colab": {
          "base_uri": "https://localhost:8080/"
        },
        "id": "51Zz3eM54bDj",
        "outputId": "3858731d-f632-4f71-cd9f-595d4187f688"
      },
      "source": [
        "print(7 == 7)"
      ],
      "execution_count": null,
      "outputs": [
        {
          "output_type": "stream",
          "text": [
            "True\n"
          ],
          "name": "stdout"
        }
      ]
    },
    {
      "cell_type": "code",
      "metadata": {
        "id": "9I4tadiJU8Wx",
        "colab": {
          "base_uri": "https://localhost:8080/"
        },
        "outputId": "476e4c9a-9346-4631-ed21-bc2df820e38f"
      },
      "source": [
        "print(5 > 5)"
      ],
      "execution_count": null,
      "outputs": [
        {
          "output_type": "stream",
          "text": [
            "False\n"
          ],
          "name": "stdout"
        }
      ]
    },
    {
      "cell_type": "markdown",
      "metadata": {
        "id": "J1tADuEzAUNw"
      },
      "source": [
        "**Mi ejemplo:**"
      ]
    },
    {
      "cell_type": "code",
      "metadata": {
        "colab": {
          "base_uri": "https://localhost:8080/"
        },
        "id": "s59Skt6v4gDu",
        "outputId": "6d935920-8c9d-429a-8c3b-fb5e93d1a29d"
      },
      "source": [
        "print(4 > 5)"
      ],
      "execution_count": null,
      "outputs": [
        {
          "output_type": "stream",
          "text": [
            "False\n"
          ],
          "name": "stdout"
        }
      ]
    },
    {
      "cell_type": "markdown",
      "metadata": {
        "id": "lsipRI2qU8Wx"
      },
      "source": [
        "These comparators also work in conjunction with variables."
      ]
    },
    {
      "cell_type": "code",
      "metadata": {
        "id": "GXHT_A0pU8Wx",
        "colab": {
          "base_uri": "https://localhost:8080/"
        },
        "outputId": "75ebedbf-454b-4bbc-d101-0402fcb3fa27"
      },
      "source": [
        "m = 2\n",
        "n = 23\n",
        "print(m < n)"
      ],
      "execution_count": null,
      "outputs": [
        {
          "output_type": "stream",
          "text": [
            "True\n"
          ],
          "name": "stdout"
        }
      ]
    },
    {
      "cell_type": "markdown",
      "metadata": {
        "id": "oZSuB7SqAU-X"
      },
      "source": [
        "**Mi ejemplo:**"
      ]
    },
    {
      "cell_type": "code",
      "metadata": {
        "colab": {
          "base_uri": "https://localhost:8080/"
        },
        "id": "D8GcSj4p4wmP",
        "outputId": "2097a9c7-99f4-4bd7-83ce-f0864470fcc1"
      },
      "source": [
        "m = 12\n",
        "n = 20\n",
        "print(m > n)"
      ],
      "execution_count": null,
      "outputs": [
        {
          "output_type": "stream",
          "text": [
            "False\n"
          ],
          "name": "stdout"
        }
      ]
    },
    {
      "cell_type": "markdown",
      "metadata": {
        "id": "S2jHXzDAU8Wy"
      },
      "source": [
        "We can string these comparators together to make more complex logical statements using the logical operators `or`, `and`, and `not`. "
      ]
    },
    {
      "cell_type": "code",
      "metadata": {
        "id": "gwy-ASoDU8Wy",
        "colab": {
          "base_uri": "https://localhost:8080/"
        },
        "outputId": "74bfbba9-c0cc-4177-c077-4549268817be"
      },
      "source": [
        "statement_1 = 10 > 2\n",
        "statement_2 = 4 <= 6\n",
        "print(\"Statement 1 truth value: {0}\".format(statement_1))\n",
        "print(\"Statement 2 truth value: {0}\".format(statement_2))\n",
        "print(\"Statement 1 and Statement 2: {0}\".format(statement_1 and statement_2))"
      ],
      "execution_count": null,
      "outputs": [
        {
          "output_type": "stream",
          "text": [
            "Statement 1 truth value: True\n",
            "Statement 2 truth value: True\n",
            "Statement 1 and Statement 2: True\n"
          ],
          "name": "stdout"
        }
      ]
    },
    {
      "cell_type": "markdown",
      "metadata": {
        "id": "E3uiEKyRAVwk"
      },
      "source": [
        "**Mi ejemplo:**"
      ]
    },
    {
      "cell_type": "code",
      "metadata": {
        "colab": {
          "base_uri": "https://localhost:8080/"
        },
        "id": "XKr-4q5T45rv",
        "outputId": "c331b4d6-149e-4ab5-8375-5b34998992bd"
      },
      "source": [
        "statement_1 = 5 > 4\n",
        "statement_2 = 6 <= 6\n",
        "print(\"Statement 1 truth value: {0}\".format(statement_1))\n",
        "print(\"Statement 2 truth value: {0}\".format(statement_2))\n",
        "print(\"Statement 1 and Statement 2: {0}\".format(statement_1 and statement_2))"
      ],
      "execution_count": null,
      "outputs": [
        {
          "output_type": "stream",
          "text": [
            "Statement 1 truth value: True\n",
            "Statement 2 truth value: True\n",
            "Statement 1 and Statement 2: True\n"
          ],
          "name": "stdout"
        }
      ]
    },
    {
      "cell_type": "markdown",
      "metadata": {
        "id": "GoGjkv4yU8Wz"
      },
      "source": [
        "The `or` operator performs a logical `or` calculation. This is an inclusive `or`, so if either component paired together by `or` is `True`, the whole statement will be `True`. The `and` statement only outputs `True` if all components that are `and`ed together are True. Otherwise it will output `False`. The `not` statement simply inverts the truth value of whichever statement follows it. So a `True` statement will be evaluated as `False` when a `not` is placed in front of it. Similarly, a `False` statement will become `True` when a `not` is in front of it.\n",
        "\n",
        "Say that we have two logical statements, or assertions, $P$ and $Q$. The truth table for the basic logical operators is as follows:\n",
        "\n",
        "|  P  |  Q  | `not` P| P `and` Q | P `or` Q|\n",
        "|:-----:|:-----:|:---:|:---:|:---:|\n",
        "| `True` | `True` | `False` | `True` | `True` |\n",
        "| `False` | `True` | `True` | `False` | `True` |\n",
        "| `True` | `False` | `False` | `False` | `True` |\n",
        "| `False` | `False` | `True` | `False` | `False` |\n",
        "\n",
        "We can string multiple logical statements together using the logical operators."
      ]
    },
    {
      "cell_type": "code",
      "metadata": {
        "id": "3PUc9wbLU8Wz",
        "colab": {
          "base_uri": "https://localhost:8080/"
        },
        "outputId": "fde1cecd-4ca9-42b1-c90d-1ca6c017a61f"
      },
      "source": [
        "print(((2 < 3) and (3 > 0)) or ((5 > 6) and not (4 < 2)))"
      ],
      "execution_count": null,
      "outputs": [
        {
          "output_type": "stream",
          "text": [
            "True\n"
          ],
          "name": "stdout"
        }
      ]
    },
    {
      "cell_type": "markdown",
      "metadata": {
        "id": "qh6IJjWEAXMP"
      },
      "source": [
        "**Mi ejemplo:**"
      ]
    },
    {
      "cell_type": "code",
      "metadata": {
        "colab": {
          "base_uri": "https://localhost:8080/"
        },
        "id": "kmHBJ2cx5j1S",
        "outputId": "28ad0d06-4200-4545-b990-3ab2d41eb642"
      },
      "source": [
        "print(((5 < 6) or (3 > 0)) and not ((7 > 3) or not (7 < 7)))"
      ],
      "execution_count": null,
      "outputs": [
        {
          "output_type": "stream",
          "text": [
            "False\n"
          ],
          "name": "stdout"
        }
      ]
    },
    {
      "cell_type": "markdown",
      "metadata": {
        "id": "aMARtBkDU8W0"
      },
      "source": [
        "Logical statements can be as simple or complex as we like, depending on what we need to express. Evaluating the above logical statement step by step we see that we are evaluating (`True and True`) `or` (`False and not False`). This becomes `True or (False and True`), subsequently becoming `True or False`, ultimately being evaluated as `True`."
      ]
    },
    {
      "cell_type": "markdown",
      "metadata": {
        "id": "fyy7UIDvU8W0"
      },
      "source": [
        "#### Truthiness\n",
        "\n",
        "Data types in Python have a fun characteristic called truthiness. What this means is that most built-in types will evaluate as either `True` or `False` when a boolean value is needed (such as with an if-statement). As a general rule, containers like strings, tuples, dictionaries, lists, and sets, will return `True` if they contain anything at all and `False` if they contain nothing."
      ]
    },
    {
      "cell_type": "code",
      "metadata": {
        "id": "BtICYzXEU8W1",
        "colab": {
          "base_uri": "https://localhost:8080/"
        },
        "outputId": "3cdebc8d-dbe7-465e-ece1-36ec1c782d56"
      },
      "source": [
        "# Similar to how float() and int() work, bool() forces a value to be considered a boolean!\n",
        "print(bool(''))"
      ],
      "execution_count": null,
      "outputs": [
        {
          "output_type": "stream",
          "text": [
            "False\n"
          ],
          "name": "stdout"
        }
      ]
    },
    {
      "cell_type": "markdown",
      "metadata": {
        "id": "uROlqNyoAbuI"
      },
      "source": [
        "**Mi ejemplo:**"
      ]
    },
    {
      "cell_type": "code",
      "metadata": {
        "colab": {
          "base_uri": "https://localhost:8080/"
        },
        "id": "xUpoB1ae55xn",
        "outputId": "a60cd3a8-5ba6-4cff-8838-799d5f962221"
      },
      "source": [
        "print(bool())"
      ],
      "execution_count": null,
      "outputs": [
        {
          "output_type": "stream",
          "text": [
            "False\n"
          ],
          "name": "stdout"
        }
      ]
    },
    {
      "cell_type": "code",
      "metadata": {
        "id": "Ch_P8i8vU8W1",
        "colab": {
          "base_uri": "https://localhost:8080/"
        },
        "outputId": "973cbf29-d6b8-4af8-b4f3-a239aa53e87f"
      },
      "source": [
        "print(bool('I have character!'))"
      ],
      "execution_count": null,
      "outputs": [
        {
          "output_type": "stream",
          "text": [
            "True\n"
          ],
          "name": "stdout"
        }
      ]
    },
    {
      "cell_type": "markdown",
      "metadata": {
        "id": "-qTiW4DjAcmH"
      },
      "source": [
        "**Mi ejemplo:**"
      ]
    },
    {
      "cell_type": "code",
      "metadata": {
        "colab": {
          "base_uri": "https://localhost:8080/"
        },
        "id": "S0obIoOB6GPp",
        "outputId": "d6832075-614c-473b-b2ec-a071e68a029a"
      },
      "source": [
        "print(bool('a'))"
      ],
      "execution_count": null,
      "outputs": [
        {
          "output_type": "stream",
          "text": [
            "True\n"
          ],
          "name": "stdout"
        }
      ]
    },
    {
      "cell_type": "code",
      "metadata": {
        "id": "hMJTbfcOU8W2",
        "colab": {
          "base_uri": "https://localhost:8080/"
        },
        "outputId": "f6bfd2d8-8058-420e-ab2c-50f175bfcc5f"
      },
      "source": [
        "print(bool([]))"
      ],
      "execution_count": null,
      "outputs": [
        {
          "output_type": "stream",
          "text": [
            "False\n"
          ],
          "name": "stdout"
        }
      ]
    },
    {
      "cell_type": "markdown",
      "metadata": {
        "id": "BsB_3L6PAdgp"
      },
      "source": [
        "**Mi ejemplo:**"
      ]
    },
    {
      "cell_type": "code",
      "metadata": {
        "colab": {
          "base_uri": "https://localhost:8080/"
        },
        "id": "W9usn6JV6S1i",
        "outputId": "ae9acd55-18f3-4358-e4d2-c1215e84ff9d"
      },
      "source": [
        "print(bool({}))"
      ],
      "execution_count": null,
      "outputs": [
        {
          "output_type": "stream",
          "text": [
            "False\n"
          ],
          "name": "stdout"
        }
      ]
    },
    {
      "cell_type": "code",
      "metadata": {
        "id": "SSep_obhU8W3",
        "colab": {
          "base_uri": "https://localhost:8080/"
        },
        "outputId": "56ec6886-9b45-48bb-9c85-53b840ab1cf0"
      },
      "source": [
        "print(bool([1, 2, 3]))"
      ],
      "execution_count": null,
      "outputs": [
        {
          "output_type": "stream",
          "text": [
            "True\n"
          ],
          "name": "stdout"
        }
      ]
    },
    {
      "cell_type": "markdown",
      "metadata": {
        "id": "r_Z2Ol0bAeRH"
      },
      "source": [
        "**Mi ejemplo:**"
      ]
    },
    {
      "cell_type": "code",
      "metadata": {
        "colab": {
          "base_uri": "https://localhost:8080/"
        },
        "id": "fIr6U6MI6W4Y",
        "outputId": "4d22906e-02ad-4238-f1f9-996c5c8dc630"
      },
      "source": [
        "print(bool({1, 2, 3}))"
      ],
      "execution_count": null,
      "outputs": [
        {
          "output_type": "stream",
          "text": [
            "True\n"
          ],
          "name": "stdout"
        }
      ]
    },
    {
      "cell_type": "markdown",
      "metadata": {
        "id": "maZ-eirWU8W3"
      },
      "source": [
        "And so on, for the other collections and containers. `None` also evaluates as `False`. The number `1` is equivalent to `True` and the number `0` is equivalent to `False` as well, in a boolean context."
      ]
    },
    {
      "cell_type": "markdown",
      "metadata": {
        "id": "e4mwbpB1U8W3"
      },
      "source": [
        "### If-statements\n",
        "\n",
        "We can create segments of code that only execute if a set of conditions is met. We use if-statements in conjunction with logical statements in order to create branches in our code. \n",
        "\n",
        "An `if` block gets entered when the condition is considered to be `True`. If condition is evaluated as `False`, the `if` block will simply be skipped unless there is an `else` block to accompany it. Conditions are made using either logical operators or by using the truthiness of values in Python. An if-statement is defined with a colon and a block of indented text."
      ]
    },
    {
      "cell_type": "code",
      "metadata": {
        "id": "CwcQeQQnU8W4",
        "colab": {
          "base_uri": "https://localhost:8080/"
        },
        "outputId": "e38ec7cd-3db5-4146-a23c-a3d4c1186918"
      },
      "source": [
        "# This is the basic format of an if statement. This is a vacuous example. \n",
        "# The string \"Condition\" will always evaluated as True because it is a\n",
        "# non-empty string. he purpose of this code is to show the formatting of\n",
        "# an if-statement.\n",
        "if \"Condition\": \n",
        "    # This block of code will execute because the string is non-empty\n",
        "    # Everything on these indented lines\n",
        "    print(True)\n",
        "else:\n",
        "    # So if the condition that we examined with if is in fact False\n",
        "    # This block of code will execute INSTEAD of the first block of code\n",
        "    # Everything on these indented lines\n",
        "    print(False)\n",
        "# The else block here will never execute because \"Condition\" is a non-empty string."
      ],
      "execution_count": null,
      "outputs": [
        {
          "output_type": "stream",
          "text": [
            "True\n"
          ],
          "name": "stdout"
        }
      ]
    },
    {
      "cell_type": "markdown",
      "metadata": {
        "id": "tJ7QrsTtAnfe"
      },
      "source": [
        "**Mi ejemplo:**"
      ]
    },
    {
      "cell_type": "code",
      "metadata": {
        "colab": {
          "base_uri": "https://localhost:8080/"
        },
        "id": "opf3LIdd6luO",
        "outputId": "8c67d2f6-dc89-4c7d-ba04-b4df3a5d08d0"
      },
      "source": [
        "if True:\n",
        "  print(True)\n",
        "else:\n",
        "  print(False)"
      ],
      "execution_count": null,
      "outputs": [
        {
          "output_type": "stream",
          "text": [
            "True\n"
          ],
          "name": "stdout"
        }
      ]
    },
    {
      "cell_type": "code",
      "metadata": {
        "id": "zspwiXNxU8W5"
      },
      "source": [
        "i = 4\n",
        "if i == 5:\n",
        "    print('The variable i has a value of 5')"
      ],
      "execution_count": null,
      "outputs": []
    },
    {
      "cell_type": "markdown",
      "metadata": {
        "id": "L0HOCcqAAoa3"
      },
      "source": [
        "**Mi ejemplo:**"
      ]
    },
    {
      "cell_type": "code",
      "metadata": {
        "colab": {
          "base_uri": "https://localhost:8080/"
        },
        "id": "GRGkQf5N6xJD",
        "outputId": "52a8cd5f-b16b-4010-b7cc-01c3ef887547"
      },
      "source": [
        "i = 6\n",
        "if i == 6:\n",
        "    print('The variable i has a value of 6')"
      ],
      "execution_count": null,
      "outputs": [
        {
          "output_type": "stream",
          "text": [
            "The variable i has a value of 6\n"
          ],
          "name": "stdout"
        }
      ]
    },
    {
      "cell_type": "markdown",
      "metadata": {
        "id": "pUkwiP2IU8W5"
      },
      "source": [
        "Because in this example `i = 4` and the if-statement is only looking for whether `i` is equal to `5`, the print statement will never be executed. We can add in an `else` statement to create a contingency block of code in case the condition in the if-statement is not evaluated as `True`."
      ]
    },
    {
      "cell_type": "code",
      "metadata": {
        "id": "mLx7OVm5U8W6",
        "colab": {
          "base_uri": "https://localhost:8080/"
        },
        "outputId": "8a3bb7ff-ec32-4059-e214-0a1f843b88c1"
      },
      "source": [
        "i = 4\n",
        "if i == 5:\n",
        "    print(\"All lines in this indented block are part of this block\")\n",
        "    print('The variable i has a value of 5')\n",
        "else:\n",
        "    print(\"All lines in this indented block are part of this block\")\n",
        "    print('The variable i is not equal to 5')"
      ],
      "execution_count": null,
      "outputs": [
        {
          "output_type": "stream",
          "text": [
            "All lines in this indented block are part of this block\n",
            "The variable i is not equal to 5\n"
          ],
          "name": "stdout"
        }
      ]
    },
    {
      "cell_type": "markdown",
      "metadata": {
        "id": "C5O62eyqApex"
      },
      "source": [
        "**Mi ejemplo:**"
      ]
    },
    {
      "cell_type": "code",
      "metadata": {
        "colab": {
          "base_uri": "https://localhost:8080/"
        },
        "id": "frLQti7l7LqH",
        "outputId": "90e7a6ef-7491-44ed-fd57-0452872fe608"
      },
      "source": [
        "i = 5\n",
        "if i < 5:\n",
        "    print(\"i es menor que 5\")\n",
        "else:\n",
        "    print(\"i puede ser igual a 5\")\n",
        "    print('i puede ser mayor que 5')"
      ],
      "execution_count": null,
      "outputs": [
        {
          "output_type": "stream",
          "text": [
            "i puede ser igual a 5\n",
            "i puede ser mayor que 5\n"
          ],
          "name": "stdout"
        }
      ]
    },
    {
      "cell_type": "markdown",
      "metadata": {
        "id": "WKwDPUXKU8W7"
      },
      "source": [
        "We can implement other branches off of the same if-statement by using `elif`, an abbreviation of \"else if\". We can include as many `elifs` as we like until we have exhausted all the logical branches of a condition."
      ]
    },
    {
      "cell_type": "code",
      "metadata": {
        "id": "wd9Qf7uTU8W7",
        "colab": {
          "base_uri": "https://localhost:8080/"
        },
        "outputId": "5f95e607-f6a3-48ae-d99a-8156d712a079"
      },
      "source": [
        "i = 1\n",
        "if i == 1:\n",
        "    print('The variable i has a value of 1')\n",
        "elif i == 2:\n",
        "    print('The variable i has a value of 2')\n",
        "elif i == 3:\n",
        "    print('The variable i has a value of 3')\n",
        "else:\n",
        "    print(\"I don't care what i is\")"
      ],
      "execution_count": null,
      "outputs": [
        {
          "output_type": "stream",
          "text": [
            "The variable i has a value of 1\n"
          ],
          "name": "stdout"
        }
      ]
    },
    {
      "cell_type": "markdown",
      "metadata": {
        "id": "wtzBTpjfAqRP"
      },
      "source": [
        "**Mi ejemplo:**"
      ]
    },
    {
      "cell_type": "code",
      "metadata": {
        "colab": {
          "base_uri": "https://localhost:8080/"
        },
        "id": "KgJkr7I2876S",
        "outputId": "708a1020-d868-401a-eae7-e0a7d38d670d"
      },
      "source": [
        "i = 3\n",
        "if i > 3:\n",
        "    print('i > 3')\n",
        "elif i == 3:\n",
        "    print('i = 3')\n",
        "elif i < 3:\n",
        "    print('i < 3')\n",
        "else:\n",
        "    print(\"I don't care what i is\")"
      ],
      "execution_count": null,
      "outputs": [
        {
          "output_type": "stream",
          "text": [
            "i = 3\n"
          ],
          "name": "stdout"
        }
      ]
    },
    {
      "cell_type": "markdown",
      "metadata": {
        "id": "YVAk818IU8W8"
      },
      "source": [
        "You can also nest if-statements within if-statements to check for further conditions."
      ]
    },
    {
      "cell_type": "code",
      "metadata": {
        "id": "dETFjCp2U8W8",
        "colab": {
          "base_uri": "https://localhost:8080/"
        },
        "outputId": "46302fee-d6b0-447e-c2e2-d313fc63f476"
      },
      "source": [
        "i = 10\n",
        "if i % 2 == 0:\n",
        "    if i % 3 == 0:\n",
        "        print('i is divisible by both 2 and 3! Wow!')\n",
        "    elif i % 5 == 0:\n",
        "        print('i is divisible by both 2 and 5! Wow!')\n",
        "    else:\n",
        "        print('i is divisible by 2, but not 3 or 5. Meh.')\n",
        "else:\n",
        "    print('I guess that i is an odd number. Boring.')"
      ],
      "execution_count": null,
      "outputs": [
        {
          "output_type": "stream",
          "text": [
            "i is divisible by both 2 and 5! Wow!\n"
          ],
          "name": "stdout"
        }
      ]
    },
    {
      "cell_type": "markdown",
      "metadata": {
        "id": "udf4413uArGL"
      },
      "source": [
        "**Mi ejemplo:**"
      ]
    },
    {
      "cell_type": "code",
      "metadata": {
        "colab": {
          "base_uri": "https://localhost:8080/"
        },
        "id": "33q-G2Zp9jkZ",
        "outputId": "066fa8df-a0f9-4404-cd89-bdec3911f6ff"
      },
      "source": [
        "a = 3\n",
        "b = 4\n",
        "c = 5\n",
        "if a > b:\n",
        "  if a > c:\n",
        "    print(a, \"es el mayor\")\n",
        "  else:\n",
        "    print(c, \"es el mayor\")\n",
        "else:\n",
        "  if b > c:\n",
        "    print(b, \"es el mayor\")\n",
        "  else:\n",
        "    print(c, \"es el mayor\")"
      ],
      "execution_count": null,
      "outputs": [
        {
          "output_type": "stream",
          "text": [
            "5 es el mayor\n"
          ],
          "name": "stdout"
        }
      ]
    },
    {
      "cell_type": "markdown",
      "metadata": {
        "id": "yaKy-IYgU8W_"
      },
      "source": [
        "Remember that we can group multiple conditions together by using the logical operators!"
      ]
    },
    {
      "cell_type": "code",
      "metadata": {
        "id": "ShK9nz0hU8W_",
        "colab": {
          "base_uri": "https://localhost:8080/"
        },
        "outputId": "6716be77-2b22-4d8d-ced5-ac6a7e5dacd1"
      },
      "source": [
        "i = 5\n",
        "j = 12\n",
        "if i < 10 and j > 11:\n",
        "    print('{0} is less than 10 and {1} is greater than 11! How novel and interesting!'.format(i, j))"
      ],
      "execution_count": null,
      "outputs": [
        {
          "output_type": "stream",
          "text": [
            "5 is less than 10 and 12 is greater than 11! How novel and interesting!\n"
          ],
          "name": "stdout"
        }
      ]
    },
    {
      "cell_type": "markdown",
      "metadata": {
        "id": "QhQ9pgJjAr9n"
      },
      "source": [
        "**Mi ejemplo:**"
      ]
    },
    {
      "cell_type": "code",
      "metadata": {
        "colab": {
          "base_uri": "https://localhost:8080/"
        },
        "id": "3NTSApw-_NVT",
        "outputId": "536c6c95-68d3-4f07-87a3-9795377f3a38"
      },
      "source": [
        "a = 3\n",
        "b = 4\n",
        "c = 5\n",
        "if a > b and a > c:\n",
        "  print(a, \"es el mayor\")\n",
        "elif b > c:\n",
        "  print(b , \"es el mayor\")\n",
        "else:\n",
        "  print(c, \"es el mayor\")"
      ],
      "execution_count": null,
      "outputs": [
        {
          "output_type": "stream",
          "text": [
            "5 es el mayor\n"
          ],
          "name": "stdout"
        }
      ]
    },
    {
      "cell_type": "markdown",
      "metadata": {
        "id": "0JoRXMl7U8XA"
      },
      "source": [
        "You can use the logical comparators to compare strings!"
      ]
    },
    {
      "cell_type": "code",
      "metadata": {
        "id": "gARNhygVU8XA",
        "colab": {
          "base_uri": "https://localhost:8080/"
        },
        "outputId": "8e266396-7f49-4c59-bf77-2b01f29528bb"
      },
      "source": [
        "my_string = \"Carthago delenda est\"\n",
        "if my_string == \"Carthago delenda est\":\n",
        "    print('And so it was! For the glory of Rome!')\n",
        "else:\n",
        "    print('War elephants are TERRIFYING. I am staying home.')"
      ],
      "execution_count": null,
      "outputs": [
        {
          "output_type": "stream",
          "text": [
            "And so it was! For the glory of Rome!\n"
          ],
          "name": "stdout"
        }
      ]
    },
    {
      "cell_type": "markdown",
      "metadata": {
        "id": "71KUUZyhAsn8"
      },
      "source": [
        "**Mi ejemplo:**"
      ]
    },
    {
      "cell_type": "code",
      "metadata": {
        "colab": {
          "base_uri": "https://localhost:8080/"
        },
        "id": "zU0sEEVuA1_w",
        "outputId": "970692df-130c-4feb-86b6-8a4c2f13e900"
      },
      "source": [
        "a = \"hola\"\n",
        "b = \"hello\"\n",
        "if a == b:\n",
        "  print(\"yes\")\n",
        "else:\n",
        "  print(\"yesn´t\")"
      ],
      "execution_count": null,
      "outputs": [
        {
          "output_type": "stream",
          "text": [
            "yesn´t\n"
          ],
          "name": "stdout"
        }
      ]
    },
    {
      "cell_type": "markdown",
      "metadata": {
        "id": "Dcch3lgsU8XB"
      },
      "source": [
        "As with other data types, `==` will check for whether the two things on either side of it have the same value. In this case, we compare whether the value of the strings are the same. Using `>` or `<` or any of the other comparators is not quite so intuitive, however, so we will stay from using comparators with strings in this lecture. Comparators will examine the [lexicographical order](https://en.wikipedia.org/wiki/Lexicographical_order) of the strings, which might be a bit more in-depth than you might like."
      ]
    },
    {
      "cell_type": "markdown",
      "metadata": {
        "id": "FkPfBd_rU8XB"
      },
      "source": [
        "Some built-in functions return a boolean value, so they can be used as conditions in an if-statement. User-defined functions can also be constructed so that they return a boolean value. This will be covered later with function definition!\n",
        "\n",
        "The `in` keyword is generally used to check membership of a value within another value. We can check memebership in the context of an if-statement and use it to output a truth value."
      ]
    },
    {
      "cell_type": "code",
      "metadata": {
        "id": "uSTkHN4YU8XC",
        "colab": {
          "base_uri": "https://localhost:8080/"
        },
        "outputId": "c44f196c-c506-4a4f-9aea-dc6d3da365eb"
      },
      "source": [
        "if 'a' in my_string or 'e' in my_string:\n",
        "    print('Those are my favorite vowels!')"
      ],
      "execution_count": null,
      "outputs": [
        {
          "output_type": "stream",
          "text": [
            "Those are my favorite vowels!\n"
          ],
          "name": "stdout"
        }
      ]
    },
    {
      "cell_type": "markdown",
      "metadata": {
        "id": "SnGZkJM8Atuv"
      },
      "source": [
        "**Mi ejemplo:**"
      ]
    },
    {
      "cell_type": "code",
      "metadata": {
        "colab": {
          "base_uri": "https://localhost:8080/"
        },
        "id": "9LAT53cmBLFl",
        "outputId": "d432313a-7ade-44f8-ff03-c0d14f1c343f"
      },
      "source": [
        "a = [1, 1, 2, 3, 5, 8, 13, 21, 34]\n",
        "i = 6\n",
        "if i in a:\n",
        "  print(True)\n",
        "else:\n",
        "  print(False)"
      ],
      "execution_count": null,
      "outputs": [
        {
          "output_type": "stream",
          "text": [
            "False\n"
          ],
          "name": "stdout"
        }
      ]
    },
    {
      "cell_type": "markdown",
      "metadata": {
        "id": "2kcbERlRU8XD"
      },
      "source": [
        "Here we use `in` to check whether the variable `my_string` contains any particular letters. We will later use `in` to iterate through lists!"
      ]
    },
    {
      "cell_type": "markdown",
      "metadata": {
        "id": "KFzNQ-hRU8XD"
      },
      "source": [
        "## Loop Structures\n",
        "\n",
        "Loop structures are one of the most important parts of programming. The `for` loop and the `while` loop provide a way to repeatedly run a block of code repeatedly. A `while` loop will iterate until a certain condition has been met. If at any point after an iteration that condition is no longer satisfied, the loop terminates. A `for` loop will iterate over a sequence of values and terminate when the sequence has ended. You can instead include conditions within the `for` loop to decide whether it should terminate early or you could simply let it run its course."
      ]
    },
    {
      "cell_type": "code",
      "metadata": {
        "id": "OO0LUCAAU8XE",
        "colab": {
          "base_uri": "https://localhost:8080/"
        },
        "outputId": "77cfc7ed-d247-41fe-cf04-4664a9301028"
      },
      "source": [
        "i = 5\n",
        "while i > 0: # We can write this as 'while i:' because 0 is False!\n",
        "    i -= 1\n",
        "    print('I am looping! {0} more to go!'.format(i))"
      ],
      "execution_count": null,
      "outputs": [
        {
          "output_type": "stream",
          "text": [
            "I am looping! 4 more to go!\n",
            "I am looping! 3 more to go!\n",
            "I am looping! 2 more to go!\n",
            "I am looping! 1 more to go!\n",
            "I am looping! 0 more to go!\n"
          ],
          "name": "stdout"
        }
      ]
    },
    {
      "cell_type": "markdown",
      "metadata": {
        "id": "157NwkdqAy21"
      },
      "source": [
        "**Mi ejemplo:**"
      ]
    },
    {
      "cell_type": "code",
      "metadata": {
        "colab": {
          "base_uri": "https://localhost:8080/"
        },
        "id": "Ur-3bU2CFNBX",
        "outputId": "a87280f0-d4a5-44d8-adfe-9677bf7de5a3"
      },
      "source": [
        "i = 1\n",
        "while i <= 5:\n",
        "    print('contando turno {0}'.format(i))\n",
        "    i += 1"
      ],
      "execution_count": null,
      "outputs": [
        {
          "output_type": "stream",
          "text": [
            "contando turno 1\n",
            "contando turno 2\n",
            "contando turno 3\n",
            "contando turno 4\n",
            "contando turno 5\n"
          ],
          "name": "stdout"
        }
      ]
    },
    {
      "cell_type": "markdown",
      "metadata": {
        "id": "m7C9GDpUU8XE"
      },
      "source": [
        "\n",
        "With `while` loops we need to make sure that something actually changes from iteration to iteration so that that the loop actually terminates. In this case, we use the shorthand `i -= 1` (short for `i = i - 1`) so that the value of `i` gets smaller with each iteration. Eventually `i` will be reduced to `0`, rendering the condition `False` and exiting the loop."
      ]
    },
    {
      "cell_type": "markdown",
      "metadata": {
        "id": "B2l45aBIU8XF"
      },
      "source": [
        "A `for` loop iterates a set number of times, determined when you state the entry into the loop. In this case we are iterating over the list returned from `range()`. The `for` loop selects a value from the list, in order, and temporarily assigns the value of `i` to it so that operations can be performed with the value."
      ]
    },
    {
      "cell_type": "code",
      "metadata": {
        "id": "Q2AZiXvMU8XF",
        "colab": {
          "base_uri": "https://localhost:8080/"
        },
        "outputId": "3f6b85a4-8122-4e6d-bfd4-22c85f011c76"
      },
      "source": [
        "for i in range(5):\n",
        "    print('I am looping! I have looped {0} times!'.format(i + 1))"
      ],
      "execution_count": null,
      "outputs": [
        {
          "output_type": "stream",
          "text": [
            "I am looping! I have looped 1 times!\n",
            "I am looping! I have looped 2 times!\n",
            "I am looping! I have looped 3 times!\n",
            "I am looping! I have looped 4 times!\n",
            "I am looping! I have looped 5 times!\n"
          ],
          "name": "stdout"
        }
      ]
    },
    {
      "cell_type": "markdown",
      "metadata": {
        "id": "NMbC7rsUA0O2"
      },
      "source": [
        "**Mi ejemplo:**"
      ]
    },
    {
      "cell_type": "code",
      "metadata": {
        "colab": {
          "base_uri": "https://localhost:8080/"
        },
        "id": "AmnMK0gEGxEq",
        "outputId": "cf970130-b46e-4dc9-b526-bd892bda78a8"
      },
      "source": [
        "n = 5\n",
        "for i in range(n):\n",
        "    print('soy {0}, aún soy menor que {1}'.format(i, n))"
      ],
      "execution_count": null,
      "outputs": [
        {
          "output_type": "stream",
          "text": [
            "soy 0, aún soy menor que 5\n",
            "soy 1, aún soy menor que 5\n",
            "soy 2, aún soy menor que 5\n",
            "soy 3, aún soy menor que 5\n",
            "soy 4, aún soy menor que 5\n"
          ],
          "name": "stdout"
        }
      ]
    },
    {
      "cell_type": "markdown",
      "metadata": {
        "id": "3rkRcLjnU8XF"
      },
      "source": [
        "Note that in this `for` loop we use the `in` keyword. Use of the `in` keyword is not limited to checking for membership as in the if-statement example. You can iterate over any collection with a `for` loop by using the `in` keyword.\n",
        "\n",
        "In this next example, we will iterate over a `set` because we want to check for containment and add to a new set."
      ]
    },
    {
      "cell_type": "code",
      "metadata": {
        "id": "5A1kRvs6U8XG",
        "colab": {
          "base_uri": "https://localhost:8080/"
        },
        "outputId": "488ee1d9-bd79-4111-e1e8-628fce24cb3e"
      },
      "source": [
        "my_list = {'cats', 'dogs', 'lizards', 'cows', 'bats', 'sponges', 'humans'} # Lists all the animals in the world\n",
        "mammal_list = {'cats', 'dogs', 'cows', 'bats', 'humans'} # Lists all the mammals in the world\n",
        "my_new_list = set()\n",
        "for animal in my_list:\n",
        "    if animal in mammal_list:\n",
        "        # This adds any animal that is both in my_list and mammal_list to my_new_list\n",
        "        my_new_list.add(animal)\n",
        "        \n",
        "print(my_new_list)"
      ],
      "execution_count": null,
      "outputs": [
        {
          "output_type": "stream",
          "text": [
            "{'cows', 'bats', 'humans', 'cats', 'dogs'}\n"
          ],
          "name": "stdout"
        }
      ]
    },
    {
      "cell_type": "markdown",
      "metadata": {
        "id": "M4AdJ1K5A1a5"
      },
      "source": [
        "**Mi ejemplo:**"
      ]
    },
    {
      "cell_type": "code",
      "metadata": {
        "colab": {
          "base_uri": "https://localhost:8080/"
        },
        "id": "2Alj9vVdJTb6",
        "outputId": "6837d922-c8b1-48c5-e80f-2b572944efb0"
      },
      "source": [
        "tabla_del_3 = {3, 6, 9, 12, 15, 18, 21, 24, 27, 30}\n",
        "tabla_del_5 = {5, 10, 15, 20, 25, 30, 35, 40, 45, 50}\n",
        "print(\"valores que están en la tabla del 3 y en la tabla del 5:\")\n",
        "for i in tabla_del_3:\n",
        "  if i in tabla_del_5:\n",
        "    print(i)"
      ],
      "execution_count": null,
      "outputs": [
        {
          "output_type": "stream",
          "text": [
            "valores que están en la tabla del 3 y en la tabla del 5:\n",
            "15\n",
            "30\n"
          ],
          "name": "stdout"
        }
      ]
    },
    {
      "cell_type": "markdown",
      "metadata": {
        "id": "FEf4OBYqU8XG"
      },
      "source": [
        "There are two statements that are very helpful in dealing with both `for` and `while` loops. These are `break` and `continue`. If `break` is encountered at any point while a loop is executing, the loop will immediately end."
      ]
    },
    {
      "cell_type": "code",
      "metadata": {
        "id": "hlKQT6zXU8XH",
        "colab": {
          "base_uri": "https://localhost:8080/"
        },
        "outputId": "44df3cf3-18a9-4118-a6ab-6ece3233f853"
      },
      "source": [
        "i = 10\n",
        "while True:\n",
        "    if i == 14:\n",
        "        break\n",
        "    i += 1 # This is shorthand for i = i + 1. It increments i with each iteration.\n",
        "    print(i)"
      ],
      "execution_count": null,
      "outputs": [
        {
          "output_type": "stream",
          "text": [
            "11\n",
            "12\n",
            "13\n",
            "14\n"
          ],
          "name": "stdout"
        }
      ]
    },
    {
      "cell_type": "markdown",
      "metadata": {
        "id": "EVF_S0LSA2lX"
      },
      "source": [
        "**Mi ejemplo:**"
      ]
    },
    {
      "cell_type": "code",
      "metadata": {
        "colab": {
          "base_uri": "https://localhost:8080/"
        },
        "id": "Q6bkHqj5L9wF",
        "outputId": "afed0157-9c4d-474f-9080-b33a18972847"
      },
      "source": [
        "a = 6\n",
        "b = 7\n",
        "c = b\n",
        "i = 1\n",
        "while True:\n",
        "  if i == a:\n",
        "    print(a, \" * \", b, \" = \", c)\n",
        "    break\n",
        "  c = c + b\n",
        "  i += 1\n",
        "    "
      ],
      "execution_count": null,
      "outputs": [
        {
          "output_type": "stream",
          "text": [
            "6  *  7  =  42\n"
          ],
          "name": "stdout"
        }
      ]
    },
    {
      "cell_type": "code",
      "metadata": {
        "id": "aNNiPbVXU8XH",
        "colab": {
          "base_uri": "https://localhost:8080/"
        },
        "outputId": "9c90bb3a-72d2-4a19-fbdc-0d151ad5dc3e"
      },
      "source": [
        "for i in range(5):\n",
        "    if i == 2:\n",
        "        break\n",
        "    print(i)"
      ],
      "execution_count": null,
      "outputs": [
        {
          "output_type": "stream",
          "text": [
            "0\n",
            "1\n"
          ],
          "name": "stdout"
        }
      ]
    },
    {
      "cell_type": "markdown",
      "metadata": {
        "id": "uHwHQLWMA3SX"
      },
      "source": [
        "**Mi ejemplo:**"
      ]
    },
    {
      "cell_type": "code",
      "metadata": {
        "colab": {
          "base_uri": "https://localhost:8080/"
        },
        "id": "YfQDx9nnNcdR",
        "outputId": "8106ed83-60a8-4cf9-8042-8b0dbf708d57"
      },
      "source": [
        "a = 13\n",
        "b = 3\n",
        "for i in range(a):\n",
        "    if i == 3:\n",
        "        break\n",
        "    print(i)"
      ],
      "execution_count": null,
      "outputs": [
        {
          "output_type": "stream",
          "text": [
            "0\n",
            "1\n",
            "2\n"
          ],
          "name": "stdout"
        }
      ]
    },
    {
      "cell_type": "markdown",
      "metadata": {
        "id": "G0l_wAWtU8XI"
      },
      "source": [
        "The `continue` statement will tell the loop to immediately end this iteration and continue onto the next iteration of the loop."
      ]
    },
    {
      "cell_type": "code",
      "metadata": {
        "id": "FFX5YA5QU8XI",
        "colab": {
          "base_uri": "https://localhost:8080/"
        },
        "outputId": "42b51ae9-e522-43ce-d4df-af8afadae52b"
      },
      "source": [
        "i = 0\n",
        "while i < 5:\n",
        "    i += 1\n",
        "    if i == 3:\n",
        "        continue\n",
        "    print(i)"
      ],
      "execution_count": null,
      "outputs": [
        {
          "output_type": "stream",
          "text": [
            "1\n",
            "2\n",
            "4\n",
            "5\n"
          ],
          "name": "stdout"
        }
      ]
    },
    {
      "cell_type": "markdown",
      "metadata": {
        "id": "cO3T0H2KA4N4"
      },
      "source": [
        "**Mi ejemplo:**"
      ]
    },
    {
      "cell_type": "code",
      "metadata": {
        "colab": {
          "base_uri": "https://localhost:8080/"
        },
        "id": "FTHap0jROESx",
        "outputId": "444a50a4-150e-46f6-922d-e2b235483031"
      },
      "source": [
        "a = 10\n",
        "print('pares entre 0 y {0}:'.format(a))\n",
        "for i in range(a + 1):\n",
        "  if i % 2 != 0:\n",
        "    continue\n",
        "  print(i)"
      ],
      "execution_count": null,
      "outputs": [
        {
          "output_type": "stream",
          "text": [
            "pares entre 0 y 10:\n",
            "0\n",
            "2\n",
            "4\n",
            "6\n",
            "8\n",
            "10\n"
          ],
          "name": "stdout"
        }
      ]
    },
    {
      "cell_type": "markdown",
      "metadata": {
        "id": "nOtq9Bf1U8XI"
      },
      "source": [
        "This loop skips printing the number $3$ because of the `continue` statement that executes when we enter the if-statement. The code never sees the command to print the number $3$ because it has already moved to the next iteration. The `break` and `continue` statements are further tools to help you control the flow of your loops and, as a result, your code."
      ]
    },
    {
      "cell_type": "markdown",
      "metadata": {
        "id": "3NMkl2D-U8XJ"
      },
      "source": [
        "The variable that we use to iterate over a loop will retain its value when the loop exits. Similarly, any variables defined within the context of the loop will continue to exist outside of it."
      ]
    },
    {
      "cell_type": "code",
      "metadata": {
        "id": "Z7gbVChNU8XK",
        "colab": {
          "base_uri": "https://localhost:8080/"
        },
        "outputId": "752e4fc5-1781-4102-ed58-cccb2b220bfa"
      },
      "source": [
        "for i in range(5):\n",
        "    loop_string = 'I transcend the loop!'\n",
        "    print('I am eternal! I am {0} and I exist everywhere!'.format(i))\n",
        "\n",
        "print('I persist! My value is {0}'.format(i))\n",
        "print(loop_string)"
      ],
      "execution_count": null,
      "outputs": [
        {
          "output_type": "stream",
          "text": [
            "I am eternal! I am 0 and I exist everywhere!\n",
            "I am eternal! I am 1 and I exist everywhere!\n",
            "I am eternal! I am 2 and I exist everywhere!\n",
            "I am eternal! I am 3 and I exist everywhere!\n",
            "I am eternal! I am 4 and I exist everywhere!\n",
            "I persist! My value is 4\n",
            "I transcend the loop!\n"
          ],
          "name": "stdout"
        }
      ]
    },
    {
      "cell_type": "markdown",
      "metadata": {
        "id": "wBNM2ixIU8XK"
      },
      "source": [
        "We can also iterate over a dictionary!"
      ]
    },
    {
      "cell_type": "code",
      "metadata": {
        "id": "iQcJhZClU8XL"
      },
      "source": [
        "my_dict = {'firstname' : 'Inigo', 'lastname' : 'Montoya', 'nemesis' : 'Rugen'}"
      ],
      "execution_count": null,
      "outputs": []
    },
    {
      "cell_type": "markdown",
      "metadata": {
        "id": "oNjS1Uz5A6P_"
      },
      "source": [
        "**Mi ejemplo:**"
      ]
    },
    {
      "cell_type": "code",
      "metadata": {
        "id": "xyks5J1OQYt0"
      },
      "source": [
        "my_dict1 = {'Primer Nombre' : 'Nicolás', 'Apellido' : 'Mejía Borda', 'Nemesis' : 'Gustavo Petro'}"
      ],
      "execution_count": null,
      "outputs": []
    },
    {
      "cell_type": "code",
      "metadata": {
        "id": "A39zLk2IU8XM",
        "colab": {
          "base_uri": "https://localhost:8080/"
        },
        "outputId": "18a3cd56-e4db-4f04-c66a-f5d19f5d3ff7"
      },
      "source": [
        "for key in my_dict:\n",
        "    print(key)"
      ],
      "execution_count": null,
      "outputs": [
        {
          "output_type": "stream",
          "text": [
            "firstname\n",
            "lastname\n",
            "nemesis\n"
          ],
          "name": "stdout"
        }
      ]
    },
    {
      "cell_type": "markdown",
      "metadata": {
        "id": "oKSuY1kPA7R3"
      },
      "source": [
        "**Mi ejemplo:**"
      ]
    },
    {
      "cell_type": "code",
      "metadata": {
        "colab": {
          "base_uri": "https://localhost:8080/"
        },
        "id": "jaupjjg0QiG_",
        "outputId": "459aef23-4ee1-41e2-8a4c-ea17c3b4cba3"
      },
      "source": [
        "for key in my_dict1:\n",
        "    print(key)"
      ],
      "execution_count": null,
      "outputs": [
        {
          "output_type": "stream",
          "text": [
            "Primer Nombre\n",
            "Apellido\n",
            "Nemesis\n"
          ],
          "name": "stdout"
        }
      ]
    },
    {
      "cell_type": "markdown",
      "metadata": {
        "id": "5FDGcAyjU8XM"
      },
      "source": [
        "If we just iterate over a dictionary without doing anything else, we will only get the keys. We can either use the keys to get the values, like so:"
      ]
    },
    {
      "cell_type": "code",
      "metadata": {
        "id": "qG-KKc3NU8XM",
        "colab": {
          "base_uri": "https://localhost:8080/"
        },
        "outputId": "957e787b-af2a-474e-a5c4-70132f8e66c6"
      },
      "source": [
        "for key in my_dict:\n",
        "    print(my_dict[key])"
      ],
      "execution_count": null,
      "outputs": [
        {
          "output_type": "stream",
          "text": [
            "Inigo\n",
            "Montoya\n",
            "Rugen\n"
          ],
          "name": "stdout"
        }
      ]
    },
    {
      "cell_type": "markdown",
      "metadata": {
        "id": "afy-cSeyBP4P"
      },
      "source": [
        "**Mi ejemplo:**"
      ]
    },
    {
      "cell_type": "code",
      "metadata": {
        "colab": {
          "base_uri": "https://localhost:8080/"
        },
        "id": "gVbMR_x6QsYU",
        "outputId": "b0181fab-978e-42ad-bedb-0b6e3618cef1"
      },
      "source": [
        "for key in my_dict1:\n",
        "    print(my_dict1[key])"
      ],
      "execution_count": null,
      "outputs": [
        {
          "output_type": "stream",
          "text": [
            "Nicolás\n",
            "Mejía Borda\n",
            "Gustavo Petro\n"
          ],
          "name": "stdout"
        }
      ]
    },
    {
      "cell_type": "markdown",
      "metadata": {
        "id": "nF03ephiU8XN"
      },
      "source": [
        "Or we can use the `items()` function to get both key and value at the same time."
      ]
    },
    {
      "cell_type": "code",
      "metadata": {
        "id": "sPDwSA9NU8XQ",
        "colab": {
          "base_uri": "https://localhost:8080/"
        },
        "outputId": "28d410af-7b3f-48c9-ef60-ea4a283ed7a8"
      },
      "source": [
        "for key, value in my_dict.items():\n",
        "    print(key, ':', value)"
      ],
      "execution_count": null,
      "outputs": [
        {
          "output_type": "stream",
          "text": [
            "firstname : Inigo\n",
            "lastname : Montoya\n",
            "nemesis : Rugen\n"
          ],
          "name": "stdout"
        }
      ]
    },
    {
      "cell_type": "markdown",
      "metadata": {
        "id": "8iR1ner6BR6y"
      },
      "source": [
        "**Mi ejemplo:**"
      ]
    },
    {
      "cell_type": "code",
      "metadata": {
        "colab": {
          "base_uri": "https://localhost:8080/"
        },
        "id": "fa1ikMIvRFZA",
        "outputId": "ed07e99f-67c5-4d23-8b91-01cc9efdfcca"
      },
      "source": [
        "for key, value in my_dict1.items():\n",
        "    print(key, ':', value)"
      ],
      "execution_count": null,
      "outputs": [
        {
          "output_type": "stream",
          "text": [
            "Primer Nombre : Nicolás\n",
            "Apellido : Mejía Borda\n",
            "Nemesis : Gustavo Petro\n"
          ],
          "name": "stdout"
        }
      ]
    },
    {
      "cell_type": "markdown",
      "metadata": {
        "id": "6vTWs9h6U8XQ"
      },
      "source": [
        "The `items()` function creates a tuple of each key-value pair and the for loop unpacks that tuple into `key, value` on each separate execution of the loop!"
      ]
    },
    {
      "cell_type": "markdown",
      "metadata": {
        "id": "PpmGUw8kU8XR"
      },
      "source": [
        "## Functions\n",
        "\n",
        "A function is a reusable block of code that you can call repeatedly to make calculations, output data, or really do anything that you want. This is one of the key aspects of using a programming language. To add to the built-in functions in Python, you can define your own!"
      ]
    },
    {
      "cell_type": "code",
      "metadata": {
        "colab": {
          "base_uri": "https://localhost:8080/"
        },
        "id": "uqmN75OyU8XR",
        "outputId": "1ac38fc7-44e4-48f3-b0dd-ea9bdb8527b6"
      },
      "source": [
        "def hello_world():\n",
        "    \"\"\" Prints Hello, world! \"\"\"\n",
        "    print('Hello, world!')\n",
        "\n",
        "hello_world()"
      ],
      "execution_count": null,
      "outputs": [
        {
          "output_type": "stream",
          "text": [
            "Hello, world!\n"
          ],
          "name": "stdout"
        }
      ]
    },
    {
      "cell_type": "markdown",
      "metadata": {
        "id": "CTkMZEtjBV2Y"
      },
      "source": [
        "**Mi ejemplo:**"
      ]
    },
    {
      "cell_type": "code",
      "metadata": {
        "colab": {
          "base_uri": "https://localhost:8080/"
        },
        "id": "aIB__Y8NUIUW",
        "outputId": "7aa54d9e-7cde-47a6-fc79-92aff99b79ec"
      },
      "source": [
        "def Hola_Mundo():\n",
        "    print('Hola mundo')\n",
        "\n",
        "Hola_Mundo()"
      ],
      "execution_count": null,
      "outputs": [
        {
          "output_type": "stream",
          "text": [
            "Hola mundo\n"
          ],
          "name": "stdout"
        }
      ]
    },
    {
      "cell_type": "code",
      "metadata": {
        "id": "maAWTTytU8XS",
        "colab": {
          "base_uri": "https://localhost:8080/"
        },
        "outputId": "05af1bb2-ee19-4780-a34e-f571f115161c"
      },
      "source": [
        "for i in range(5):\n",
        "    hello_world()"
      ],
      "execution_count": null,
      "outputs": [
        {
          "output_type": "stream",
          "text": [
            "Hello, world!\n",
            "Hello, world!\n",
            "Hello, world!\n",
            "Hello, world!\n",
            "Hello, world!\n"
          ],
          "name": "stdout"
        }
      ]
    },
    {
      "cell_type": "markdown",
      "metadata": {
        "id": "cKIlsOeUBWsf"
      },
      "source": [
        "**Mi ejemplo:**"
      ]
    },
    {
      "cell_type": "code",
      "metadata": {
        "colab": {
          "base_uri": "https://localhost:8080/"
        },
        "id": "ojbKobRHUJI8",
        "outputId": "f8289698-c6c6-4136-a879-a44caeab81a5"
      },
      "source": [
        "for i in range(5):\n",
        "    Hola_Mundo()"
      ],
      "execution_count": null,
      "outputs": [
        {
          "output_type": "stream",
          "text": [
            "Hola mundo\n",
            "Hola mundo\n",
            "Hola mundo\n",
            "Hola mundo\n",
            "Hola mundo\n"
          ],
          "name": "stdout"
        }
      ]
    },
    {
      "cell_type": "markdown",
      "metadata": {
        "id": "Xi3VM4L9U8XS"
      },
      "source": [
        "Functions are defined with `def`, a function name, a list of parameters, and a colon. Everything indented below the colon will be included in the definition of the function.\n",
        "\n",
        "We can have our functions do anything that you can do with a normal block of code. For example, our `hello_world()` function prints a string every time it is called. If we want to keep a value that a function calculates, we can define the function so that it will `return` the value we want. This is a very important feature of functions, as any variable defined purely within a function will not exist outside of it."
      ]
    },
    {
      "cell_type": "code",
      "metadata": {
        "id": "ADfq2rRJU8XS",
        "colab": {
          "base_uri": "https://localhost:8080/"
        },
        "outputId": "2ff6b174-0b2c-4d2b-ad89-746bb390db1c"
      },
      "source": [
        "def see_the_scope():\n",
        "    in_function_string = \"I'm stuck in here!\"\n",
        "    print(in_function_string)\n",
        "\n",
        "see_the_scope()\n",
        "#print(in_function_string)"
      ],
      "execution_count": null,
      "outputs": [
        {
          "output_type": "stream",
          "text": [
            "I'm stuck in here!\n"
          ],
          "name": "stdout"
        }
      ]
    },
    {
      "cell_type": "markdown",
      "metadata": {
        "id": "OzhbNZSTBYYk"
      },
      "source": [
        "**Mi ejemplo:**"
      ]
    },
    {
      "cell_type": "code",
      "metadata": {
        "colab": {
          "base_uri": "https://localhost:8080/"
        },
        "id": "K33FByt4UJ6E",
        "outputId": "14470bc6-e3ca-46e6-bee7-48df28d60d18"
      },
      "source": [
        "def cinco_por_tres():\n",
        "  c = 5 * 3\n",
        "  print(c)\n",
        "cinco_por_tres()\n",
        "#print(c)"
      ],
      "execution_count": null,
      "outputs": [
        {
          "output_type": "stream",
          "text": [
            "15\n"
          ],
          "name": "stdout"
        }
      ]
    },
    {
      "cell_type": "markdown",
      "metadata": {
        "id": "XgZVQMX4U8XT"
      },
      "source": [
        " The **scope** of a variable is the part of a block of code where that variable is tied to a particular value. Functions in Python have an enclosed scope, making it so that variables defined within them can only be accessed directly within them. If we pass those values to a return statement we can get them out of the function. This makes it so that the function call returns values so that you can store them in variables that have a greater scope.\n",
        " \n",
        "In this case specifically, including a return statement allows us to keep the string value that we define in the function."
      ]
    },
    {
      "cell_type": "code",
      "metadata": {
        "id": "6A5LxokmU8XT",
        "colab": {
          "base_uri": "https://localhost:8080/"
        },
        "outputId": "3056c4ef-ed84-45e3-b275-1efa9b92813b"
      },
      "source": [
        "def free_the_scope():\n",
        "    in_function_string = \"Anything you can do I can do better!\"\n",
        "    return in_function_string\n",
        "my_string = free_the_scope()\n",
        "print(my_string)"
      ],
      "execution_count": null,
      "outputs": [
        {
          "output_type": "stream",
          "text": [
            "Anything you can do I can do better!\n"
          ],
          "name": "stdout"
        }
      ]
    },
    {
      "cell_type": "markdown",
      "metadata": {
        "id": "rNHLG5zBBZQc"
      },
      "source": [
        "**Mi ejemplo:**"
      ]
    },
    {
      "cell_type": "code",
      "metadata": {
        "colab": {
          "base_uri": "https://localhost:8080/"
        },
        "id": "4xCZlveJUKnl",
        "outputId": "3d4038de-8fba-489d-cf2d-bad507408a8e"
      },
      "source": [
        "def cinco_por_tres1():\n",
        "  a = 5 * 3\n",
        "  return a\n",
        "c = cinco_por_tres()\n",
        "print(c)"
      ],
      "execution_count": null,
      "outputs": [
        {
          "output_type": "stream",
          "text": [
            "15\n"
          ],
          "name": "stdout"
        }
      ]
    },
    {
      "cell_type": "markdown",
      "metadata": {
        "id": "2bgqfzGgU8XU"
      },
      "source": [
        "Just as we can get values out of a function, we can also put values into a function. We do this by defining our function with parameters."
      ]
    },
    {
      "cell_type": "code",
      "metadata": {
        "id": "8k3XSlODU8XU",
        "colab": {
          "base_uri": "https://localhost:8080/"
        },
        "outputId": "fd23b341-deed-4c9f-bab7-f332c976f9b9"
      },
      "source": [
        "def multiply_by_five(x):\n",
        "    \"\"\" Multiplies an input number by 5 \"\"\"\n",
        "    return x * 5\n",
        "\n",
        "n = 4\n",
        "print(n)\n",
        "print(multiply_by_five(n))"
      ],
      "execution_count": null,
      "outputs": [
        {
          "output_type": "stream",
          "text": [
            "4\n",
            "20\n"
          ],
          "name": "stdout"
        }
      ]
    },
    {
      "cell_type": "markdown",
      "metadata": {
        "id": "_S0zH3zNBaK1"
      },
      "source": [
        "**Mi ejemplo:**"
      ]
    },
    {
      "cell_type": "code",
      "metadata": {
        "colab": {
          "base_uri": "https://localhost:8080/"
        },
        "id": "Td-1po8cULqn",
        "outputId": "ac29f06b-d50f-4980-f81a-c54854927946"
      },
      "source": [
        "def a_por_3(a):\n",
        "  return a * 3\n",
        "print(a_por_3(5))"
      ],
      "execution_count": null,
      "outputs": [
        {
          "output_type": "stream",
          "text": [
            "15\n"
          ],
          "name": "stdout"
        }
      ]
    },
    {
      "cell_type": "markdown",
      "metadata": {
        "id": "UqutmlDjU8XV"
      },
      "source": [
        "In this example we only had one parameter for our function, `x`. We can easily add more parameters, separating everything with a comma."
      ]
    },
    {
      "cell_type": "code",
      "metadata": {
        "id": "uzT9IYfZU8XV"
      },
      "source": [
        "def calculate_area(length, width):\n",
        "    \"\"\" Calculates the area of a rectangle \"\"\"\n",
        "    return length * width"
      ],
      "execution_count": null,
      "outputs": []
    },
    {
      "cell_type": "markdown",
      "metadata": {
        "id": "mTzkJOjSBbB4"
      },
      "source": [
        "**Mi ejemplo:**"
      ]
    },
    {
      "cell_type": "code",
      "metadata": {
        "colab": {
          "base_uri": "https://localhost:8080/"
        },
        "id": "Nsh--brxUMjF",
        "outputId": "5c8f4024-fd2f-4d14-98bf-5a8c754b6ad2"
      },
      "source": [
        "def a_por_b(a, b):\n",
        "  return a * b\n",
        "print(a_por_b(5, 3))"
      ],
      "execution_count": null,
      "outputs": [
        {
          "output_type": "stream",
          "text": [
            "15\n"
          ],
          "name": "stdout"
        }
      ]
    },
    {
      "cell_type": "code",
      "metadata": {
        "id": "ttZmigk9U8XX",
        "colab": {
          "base_uri": "https://localhost:8080/"
        },
        "outputId": "f2f37dea-54ac-4f5c-990a-d54c8238eebb"
      },
      "source": [
        "l = 5\n",
        "w = 10\n",
        "print('Area: ', calculate_area(l, w))\n",
        "print('Length: ', l)\n",
        "print('Width: ', w)"
      ],
      "execution_count": null,
      "outputs": [
        {
          "output_type": "stream",
          "text": [
            "Area:  50\n",
            "Length:  5\n",
            "Width:  10\n"
          ],
          "name": "stdout"
        }
      ]
    },
    {
      "cell_type": "markdown",
      "metadata": {
        "id": "0QpxpEclBcGA"
      },
      "source": [
        "**Mi ejemplo:**"
      ]
    },
    {
      "cell_type": "code",
      "metadata": {
        "colab": {
          "base_uri": "https://localhost:8080/"
        },
        "id": "0EHU3XOXUNOc",
        "outputId": "283eb538-6952-4551-8a39-d582c01125d9"
      },
      "source": [
        "a = 5\n",
        "b = 3\n",
        "print(\"a:\", a)\n",
        "print(\"b:\", b)\n",
        "print(\"a * b:\", a_por_b(a, b))"
      ],
      "execution_count": null,
      "outputs": [
        {
          "output_type": "stream",
          "text": [
            "a: 5\n",
            "b: 3\n",
            "a * b: 15\n"
          ],
          "name": "stdout"
        }
      ]
    },
    {
      "cell_type": "code",
      "metadata": {
        "id": "S_FxIu4FU8XY"
      },
      "source": [
        "def calculate_volume(length, width, depth):\n",
        "    \"\"\" Calculates the volume of a rectangular prism \"\"\"\n",
        "    return length * width * depth"
      ],
      "execution_count": null,
      "outputs": []
    },
    {
      "cell_type": "markdown",
      "metadata": {
        "id": "D1hk3TgEBc2s"
      },
      "source": [
        "**Mi ejemplo:**"
      ]
    },
    {
      "cell_type": "code",
      "metadata": {
        "id": "03FO60azUOki"
      },
      "source": [
        "def a_por_b_menos_c(a, b, c):\n",
        "  return a * b - c"
      ],
      "execution_count": null,
      "outputs": []
    },
    {
      "cell_type": "markdown",
      "metadata": {
        "id": "G-wqNyezU8XZ"
      },
      "source": [
        "If we want to, we can define a function so that it takes an arbitrary number of parameters. We tell Python that we want this by using an asterisk (`*`)."
      ]
    },
    {
      "cell_type": "code",
      "metadata": {
        "id": "n_qzKIN9U8Xa"
      },
      "source": [
        "def sum_values(*args):\n",
        "    sum_val = 0\n",
        "    for i in args:\n",
        "        sum_val += i\n",
        "    return sum_val"
      ],
      "execution_count": null,
      "outputs": []
    },
    {
      "cell_type": "markdown",
      "metadata": {
        "id": "pYNgjw8NBduA"
      },
      "source": [
        "**Mi ejemplo:**"
      ]
    },
    {
      "cell_type": "code",
      "metadata": {
        "id": "o1AnTqUaUP2J"
      },
      "source": [
        "def pares_entre_conjunto(*args):\n",
        "  for i in args:\n",
        "    if i % 2 == 0:\n",
        "      print(i, end = \" \")"
      ],
      "execution_count": null,
      "outputs": []
    },
    {
      "cell_type": "code",
      "metadata": {
        "id": "c5eY_yRsU8Xa",
        "colab": {
          "base_uri": "https://localhost:8080/"
        },
        "outputId": "4e365b5e-0314-4f2e-b01e-03b71f702220"
      },
      "source": [
        "print(sum_values(1, 2, 3))\n",
        "print(sum_values(10, 20, 30, 40, 50))\n",
        "print(sum_values(4, 2, 5, 1, 10, 249, 25, 24, 13, 6, 4))"
      ],
      "execution_count": null,
      "outputs": [
        {
          "output_type": "stream",
          "text": [
            "6\n",
            "150\n",
            "343\n"
          ],
          "name": "stdout"
        }
      ]
    },
    {
      "cell_type": "markdown",
      "metadata": {
        "id": "UR33YiRGBej0"
      },
      "source": [
        "**Mi ejemplo:**"
      ]
    },
    {
      "cell_type": "code",
      "metadata": {
        "colab": {
          "base_uri": "https://localhost:8080/"
        },
        "id": "TtdMCy9jUQ_z",
        "outputId": "c6856f0d-2c21-4ff3-d593-f7fbf38e3c44"
      },
      "source": [
        "pares_entre_conjunto(1, 2, 3)\n",
        "print()\n",
        "pares_entre_conjunto(10, 20, 30, 40, 50)\n",
        "print()\n",
        "pares_entre_conjunto(4, 2, 5, 1, 10, 249, 25, 24, 13, 6, 4)"
      ],
      "execution_count": null,
      "outputs": [
        {
          "output_type": "stream",
          "text": [
            "2 \n",
            "10 20 30 40 50 \n",
            "4 2 10 24 6 4 "
          ],
          "name": "stdout"
        }
      ]
    },
    {
      "cell_type": "markdown",
      "metadata": {
        "id": "KniZGBXvU8Xe"
      },
      "source": [
        "The time to use `*args` as a parameter for your function is when you do not know how many values may be passed to it, as in the case of our sum function. The asterisk in this case is the syntax that tells Python that you are going to pass an arbitrary number of parameters into your function. These parameters are stored in the form of a tuple."
      ]
    },
    {
      "cell_type": "code",
      "metadata": {
        "id": "q0Vw0oBJU8Xf",
        "colab": {
          "base_uri": "https://localhost:8080/"
        },
        "outputId": "da29a7a0-a809-41f9-c102-8fef83aa3c1b"
      },
      "source": [
        "def test_args(*args):\n",
        "    print(type(args))\n",
        "\n",
        "test_args(1, 2, 3, 4, 5, 6)"
      ],
      "execution_count": null,
      "outputs": [
        {
          "output_type": "stream",
          "text": [
            "<class 'tuple'>\n"
          ],
          "name": "stdout"
        }
      ]
    },
    {
      "cell_type": "markdown",
      "metadata": {
        "id": "3NBrj6f-U8Xf"
      },
      "source": [
        "We can put as many elements into the `args` tuple as we want to when we call the function. However, because `args` is a tuple, we cannot modify it after it has been created.\n",
        "\n",
        "The `args` name of the variable is purely by convention. You could just as easily name your parameter `*vars` or `*things`. You can treat the `args` tuple like you would any other tuple, easily accessing `arg`'s values and iterating over it, as in the above `sum_values(*args)` function."
      ]
    },
    {
      "cell_type": "markdown",
      "metadata": {
        "id": "MPYUVB5tU8Xg"
      },
      "source": [
        "Our functions can return any data type. This makes it easy for us to create functions that check for conditions that we might want to monitor.\n",
        "\n",
        "Here we define a function that returns a boolean value. We can easily use this in conjunction with if-statements and  other situations that require a boolean."
      ]
    },
    {
      "cell_type": "code",
      "metadata": {
        "id": "Jl7CubEFU8Xg"
      },
      "source": [
        "def has_a_vowel(word):\n",
        "    \"\"\" \n",
        "    Checks to see whether a word contains a vowel \n",
        "    If it doesn't contain a conventional vowel, it\n",
        "    will check for the presence of 'y' or 'w'. Does\n",
        "    not check to see whether those are in the word\n",
        "    in a vowel context.\n",
        "    \"\"\"\n",
        "    vowel_list = ['a', 'e', 'i', 'o', 'u']\n",
        "    \n",
        "    for vowel in vowel_list:\n",
        "        if vowel in word:\n",
        "            return True\n",
        "    # If there is a vowel in the word, the function returns, preventing anything after this loop from running\n",
        "    return False"
      ],
      "execution_count": null,
      "outputs": []
    },
    {
      "cell_type": "markdown",
      "metadata": {
        "id": "LVLqBXqWBhxc"
      },
      "source": [
        "**Mi ejemplo:**"
      ]
    },
    {
      "cell_type": "code",
      "metadata": {
        "id": "_QGhp4r3USyt"
      },
      "source": [
        "def el_numero_es_par(a):\n",
        "  return a % 2 == 0"
      ],
      "execution_count": null,
      "outputs": []
    },
    {
      "cell_type": "code",
      "metadata": {
        "id": "lQpubo0hU8Xg",
        "colab": {
          "base_uri": "https://localhost:8080/"
        },
        "outputId": "4bdae18d-c9c4-434c-d48b-ff08c67f99fc"
      },
      "source": [
        "my_word = 'catnapping'\n",
        "if has_a_vowel(my_word):\n",
        "    print('How surprising, an english word contains a vowel.')\n",
        "else:\n",
        "    print('This is actually surprising.')"
      ],
      "execution_count": null,
      "outputs": [
        {
          "output_type": "stream",
          "text": [
            "How surprising, an english word contains a vowel.\n"
          ],
          "name": "stdout"
        }
      ]
    },
    {
      "cell_type": "markdown",
      "metadata": {
        "id": "LKAeOH0TBi1N"
      },
      "source": [
        "**Mi ejemplo:**"
      ]
    },
    {
      "cell_type": "code",
      "metadata": {
        "colab": {
          "base_uri": "https://localhost:8080/"
        },
        "id": "mU4LSNNMUTUk",
        "outputId": "4fdd968d-d558-449e-c89b-31d94850b69c"
      },
      "source": [
        "a = 1233254356\n",
        "if el_numero_es_par(a):\n",
        "  print('{0} es par'.format(a))\n",
        "else:\n",
        "  print('{0} es impar'.format(a))"
      ],
      "execution_count": null,
      "outputs": [
        {
          "output_type": "stream",
          "text": [
            "1233254356 es par\n"
          ],
          "name": "stdout"
        }
      ]
    },
    {
      "cell_type": "code",
      "metadata": {
        "id": "DNZJbrSHU8Xh"
      },
      "source": [
        "def point_maker(x, y):\n",
        "    \"\"\" Groups x and y values into a point, technically a tuple \"\"\"\n",
        "    return x, y"
      ],
      "execution_count": null,
      "outputs": []
    },
    {
      "cell_type": "markdown",
      "metadata": {
        "id": "TQDALt5WBjxx"
      },
      "source": [
        "**Mi ejemplo:**"
      ]
    },
    {
      "cell_type": "code",
      "metadata": {
        "id": "3PXBm7diUT-Q"
      },
      "source": [
        "def anterior_y_siguiente(a):\n",
        "  return a-1, a+1"
      ],
      "execution_count": null,
      "outputs": []
    },
    {
      "cell_type": "markdown",
      "metadata": {
        "id": "ummPaIB9U8Xh"
      },
      "source": [
        "This above function returns an ordered pair of the input parameters, stored as a tuple."
      ]
    },
    {
      "cell_type": "code",
      "metadata": {
        "scrolled": true,
        "id": "jqZU_fUGU8Xi",
        "colab": {
          "base_uri": "https://localhost:8080/"
        },
        "outputId": "5747d451-0623-4966-ba95-111e0dcd36db"
      },
      "source": [
        "a = point_maker(0, 10)\n",
        "b = point_maker(5, 3)\n",
        "def calculate_slope(point_a, point_b):\n",
        "    \"\"\" Calculates the linear slope between two points \"\"\"\n",
        "    return (point_b[1] - point_a[1])/(point_b[0] - point_a[0])\n",
        "print(\"The slope between a and b is {0}\".format(calculate_slope(a, b)))"
      ],
      "execution_count": null,
      "outputs": [
        {
          "output_type": "stream",
          "text": [
            "The slope between a and b is -1.4\n"
          ],
          "name": "stdout"
        }
      ]
    },
    {
      "cell_type": "markdown",
      "metadata": {
        "id": "Mz5QyrwOBlG4"
      },
      "source": [
        "**Mi ejemplo:**"
      ]
    },
    {
      "cell_type": "code",
      "metadata": {
        "colab": {
          "base_uri": "https://localhost:8080/"
        },
        "id": "TYTi_HetUUvb",
        "outputId": "a081ef41-511f-43a8-ce10-19f351484b3d"
      },
      "source": [
        "#Calculemos la multiplicación de los numeros anteriores y la suma de los suma de los numeros siguientes a dos numeros\n",
        "a = 4\n",
        "b = 6\n",
        "def m_ant_s_sig(numa, numb):\n",
        "  return anterior_y_siguiente(numa)[0] * anterior_y_siguiente(numb)[0], anterior_y_siguiente(numa)[1] + anterior_y_siguiente(numb)[1]\n",
        "print(m_ant_s_sig(a, b)[0], m_ant_s_sig(a, b)[1])"
      ],
      "execution_count": null,
      "outputs": [
        {
          "output_type": "stream",
          "text": [
            "15 12\n"
          ],
          "name": "stdout"
        }
      ]
    },
    {
      "cell_type": "markdown",
      "metadata": {
        "id": "zv2on1EYU8Xi"
      },
      "source": [
        "And that one calculates the slope between two points!"
      ]
    },
    {
      "cell_type": "code",
      "metadata": {
        "id": "Pb7H00LpU8Xi",
        "colab": {
          "base_uri": "https://localhost:8080/"
        },
        "outputId": "35311e6d-6f19-4cc4-c2aa-fb5c4e087d1b"
      },
      "source": [
        "print(\"The slope-intercept form of the line between a and b, using point a, is: y - {0} = {2}(x - {1})\".format(a[1], a[0], calculate_slope(a, b)))"
      ],
      "execution_count": null,
      "outputs": [
        {
          "output_type": "stream",
          "text": [
            "The slope-intercept form of the line between a and b, using point a, is: y - 10 = -1.4(x - 0)\n"
          ],
          "name": "stdout"
        }
      ]
    },
    {
      "cell_type": "markdown",
      "metadata": {
        "id": "XnVfkcbuBmC-"
      },
      "source": [
        "**Mi ejemplo:**"
      ]
    },
    {
      "cell_type": "code",
      "metadata": {
        "colab": {
          "base_uri": "https://localhost:8080/"
        },
        "id": "tEJzq7VyUWEN",
        "outputId": "2f6f0092-ca49-4361-917b-b8dc7262dd0e"
      },
      "source": [
        "a = 4\n",
        "b = 6\n",
        "print(\"los numeros ateriores a {0} y {1} son {2} y {3} respectivamente, el producto de estos es {4}\".format(a, b, anterior_y_siguiente(a)[0], anterior_y_siguiente(b)[0], m_ant_s_sig(a, b)[0]))\n",
        "print(\"los numeros siguientes a {0} y {1} son {2} y {3} respectivamente, la suma de estos es {4}\".format(a, b, anterior_y_siguiente(a)[1], anterior_y_siguiente(b)[1], m_ant_s_sig(a, b)[1]))"
      ],
      "execution_count": null,
      "outputs": [
        {
          "output_type": "stream",
          "text": [
            "los numeros ateriores a 4 y 6 son 3 y 5 respectivamente, el producto de estos es 15\n",
            "los numeros siguientes a 4 y 6 son 5 y 7 respectivamente, la suma de estos es 12\n"
          ],
          "name": "stdout"
        }
      ]
    },
    {
      "cell_type": "markdown",
      "metadata": {
        "id": "FlLvfyfvU8Xj"
      },
      "source": [
        "With the proper syntax, you can define functions to do whatever calculations you want. This makes them an indispensible part of programming in any language."
      ]
    },
    {
      "cell_type": "markdown",
      "metadata": {
        "id": "Kn6jKtd-U8Xj"
      },
      "source": [
        "## Next Steps\n",
        "\n",
        "This was a lot of material and there is still even more to cover! Make sure you play around with the cells in each notebook to accustom yourself to the syntax featured here and to figure out any limitations. If you want to delve even deeper into the material, the [documentation for Python](https://docs.python.org/2/) is all available online. We are in the process of developing a second part to this Python tutorial, designed to provide you with even more programming knowledge, so keep an eye on the [Quantopian Lectures Page](quantopian.com/lectures) and the [forums](quantopian.com/posts) for any new lectures."
      ]
    },
    {
      "cell_type": "markdown",
      "metadata": {
        "id": "AyOVBPjMU8Xk"
      },
      "source": [
        "*This presentation is for informational purposes only and does not constitute an offer to sell, a solicitation to buy, or a recommendation for any security; nor does it constitute an offer to provide investment advisory or other services by Quantopian, Inc. (\"Quantopian\"). Nothing contained herein constitutes investment advice or offers any opinion with respect to the suitability of any security, and any views expressed herein should not be taken as advice to buy, sell, or hold any security or as an endorsement of any security or company.  In preparing the information contained herein, Quantopian, Inc. has not taken into account the investment needs, objectives, and financial circumstances of any particular investor. Any views expressed and data illustrated herein were prepared based upon information, believed to be reliable, available to Quantopian, Inc. at the time of publication. Quantopian makes no guarantees as to their accuracy or completeness. All information is subject to change and may quickly become unreliable for various reasons, including changes in market conditions or economic circumstances.*"
      ]
    }
  ]
}