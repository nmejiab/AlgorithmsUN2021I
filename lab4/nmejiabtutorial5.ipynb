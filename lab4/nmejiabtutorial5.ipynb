{
  "nbformat": 4,
  "nbformat_minor": 0,
  "metadata": {
    "kernelspec": {
      "display_name": "Python 3",
      "language": "python",
      "name": "python3"
    },
    "language_info": {
      "codemirror_mode": {
        "name": "ipython",
        "version": 3
      },
      "file_extension": ".py",
      "mimetype": "text/x-python",
      "name": "python",
      "nbconvert_exporter": "python",
      "pygments_lexer": "ipython3",
      "version": "3.6.4"
    },
    "colab": {
      "name": "nmejiabtutorial5.ipynb",
      "provenance": [],
      "collapsed_sections": [
        "cHFA31Mqb_LZ",
        "kqd4U0ZcIvz7",
        "jwwSryoqKePj"
      ]
    }
  },
  "cells": [
    {
      "cell_type": "markdown",
      "metadata": {
        "id": "zXE6ZxXkb5XI"
      },
      "source": [
        "# Introduction to Financial Python\n",
        "Pandas-Resampling and DataFrame\n"
      ]
    },
    {
      "cell_type": "markdown",
      "metadata": {
        "id": "cHFA31Mqb_LZ"
      },
      "source": [
        "## Introduction\n",
        "In the last chapter we had a glimpse of Pandas. In this chapter we will learn about resampling methods and the DataFrame object, which is a powerful tool for financial data analysis.\n",
        "## Fetching Data\n",
        "Fetching Data\n",
        "Here we use the Quandl API to retrieve data."
      ]
    },
    {
      "cell_type": "code",
      "metadata": {
        "colab": {
          "base_uri": "https://localhost:8080/"
        },
        "id": "7lVbt9xiH-ps",
        "outputId": "bea72b53-d17f-4693-b424-6c3da7ff6f5f"
      },
      "source": [
        "! pip install quandl"
      ],
      "execution_count": null,
      "outputs": [
        {
          "output_type": "stream",
          "text": [
            "Requirement already satisfied: quandl in /usr/local/lib/python3.7/dist-packages (3.6.1)\n",
            "Requirement already satisfied: numpy>=1.8 in /usr/local/lib/python3.7/dist-packages (from quandl) (1.19.5)\n",
            "Requirement already satisfied: inflection>=0.3.1 in /usr/local/lib/python3.7/dist-packages (from quandl) (0.5.1)\n",
            "Requirement already satisfied: more-itertools in /usr/local/lib/python3.7/dist-packages (from quandl) (8.7.0)\n",
            "Requirement already satisfied: requests>=2.7.0 in /usr/local/lib/python3.7/dist-packages (from quandl) (2.23.0)\n",
            "Requirement already satisfied: python-dateutil in /usr/local/lib/python3.7/dist-packages (from quandl) (2.8.1)\n",
            "Requirement already satisfied: pandas>=0.14 in /usr/local/lib/python3.7/dist-packages (from quandl) (1.1.5)\n",
            "Requirement already satisfied: six in /usr/local/lib/python3.7/dist-packages (from quandl) (1.15.0)\n",
            "Requirement already satisfied: urllib3!=1.25.0,!=1.25.1,<1.26,>=1.21.1 in /usr/local/lib/python3.7/dist-packages (from requests>=2.7.0->quandl) (1.24.3)\n",
            "Requirement already satisfied: idna<3,>=2.5 in /usr/local/lib/python3.7/dist-packages (from requests>=2.7.0->quandl) (2.10)\n",
            "Requirement already satisfied: certifi>=2017.4.17 in /usr/local/lib/python3.7/dist-packages (from requests>=2.7.0->quandl) (2020.12.5)\n",
            "Requirement already satisfied: chardet<4,>=3.0.2 in /usr/local/lib/python3.7/dist-packages (from requests>=2.7.0->quandl) (3.0.4)\n",
            "Requirement already satisfied: pytz>=2017.2 in /usr/local/lib/python3.7/dist-packages (from pandas>=0.14->quandl) (2018.9)\n"
          ],
          "name": "stdout"
        }
      ]
    },
    {
      "cell_type": "code",
      "metadata": {
        "id": "WLjtSQOMboK-"
      },
      "source": [
        "import quandl\n",
        "import numpy as np\n",
        "import pandas as pd"
      ],
      "execution_count": null,
      "outputs": []
    },
    {
      "cell_type": "markdown",
      "metadata": {
        "id": "ywjXiZeNIkVr"
      },
      "source": [
        "We will create a Series named \"aapl\" whose values are Apple's daily closing prices, which are of course indexed by dates:"
      ]
    },
    {
      "cell_type": "code",
      "metadata": {
        "id": "xaEAexCIboLE"
      },
      "source": [
        "quandl.ApiConfig.api_key = 'M3nyR86csNzuacBunen8'\n",
        "aapl_table = quandl.get('WIKI/AAPL')"
      ],
      "execution_count": null,
      "outputs": []
    },
    {
      "cell_type": "markdown",
      "metadata": {
        "id": "W0U3wIyHIl6D"
      },
      "source": [
        "Recall that we can fetch a specific data point using series['yyyy-mm-dd']. We can also fetch the data in a specific month using series['yyyy-mm']."
      ]
    },
    {
      "cell_type": "code",
      "metadata": {
        "id": "ObNiPaxVboLE"
      },
      "source": [
        "aapl = aapl_table['Adj. Close']['2017']"
      ],
      "execution_count": null,
      "outputs": []
    },
    {
      "cell_type": "code",
      "metadata": {
        "id": "LUPymSgtboLE"
      },
      "source": [
        "print(aapl)"
      ],
      "execution_count": null,
      "outputs": []
    },
    {
      "cell_type": "markdown",
      "metadata": {
        "id": "IHA7xBWJIpGS"
      },
      "source": [
        "Or in several consecutive months:"
      ]
    },
    {
      "cell_type": "code",
      "metadata": {
        "id": "UM7E5CaFboLF"
      },
      "source": [
        "print(aapl['2017-3'])"
      ],
      "execution_count": null,
      "outputs": []
    },
    {
      "cell_type": "code",
      "metadata": {
        "id": "bNmn8Go9boLG",
        "colab": {
          "base_uri": "https://localhost:8080/"
        },
        "outputId": "fa410ad5-b948-4449-913d-aea67b762583"
      },
      "source": [
        "aapl['2017-2':'2017-4']"
      ],
      "execution_count": null,
      "outputs": [
        {
          "output_type": "execute_result",
          "data": {
            "text/plain": [
              "Date\n",
              "2017-02-01    127.159749\n",
              "2017-02-02    126.942467\n",
              "2017-02-03    127.485673\n",
              "2017-02-06    128.680728\n",
              "2017-02-07    129.905412\n",
              "                 ...    \n",
              "2017-04-24    142.476496\n",
              "2017-04-25    143.369205\n",
              "2017-04-26    142.487208\n",
              "2017-04-27    142.625281\n",
              "2017-04-28    142.486415\n",
              "Name: Adj. Close, Length: 61, dtype: float64"
            ]
          },
          "metadata": {
            "tags": []
          },
          "execution_count": 24
        }
      ]
    },
    {
      "cell_type": "markdown",
      "metadata": {
        "id": "BqWRX1yBIrwN"
      },
      "source": [
        ".head(N) and .tail(N) are methods for quickly accessing the first or last N elements."
      ]
    },
    {
      "cell_type": "code",
      "metadata": {
        "id": "ZaLTXnw9boLG"
      },
      "source": [
        "print(aapl.head(5))\n",
        "print(aapl.tail(10))"
      ],
      "execution_count": null,
      "outputs": []
    },
    {
      "cell_type": "markdown",
      "metadata": {
        "id": "vRRc7qul0D4y"
      },
      "source": [
        "**Mi ejemplo para esta sección:**"
      ]
    },
    {
      "cell_type": "code",
      "metadata": {
        "id": "1sM7_8Md0HL7"
      },
      "source": [
        "print(\"Primeros 2 valores:\\n\",aapl['2017-3'].head(2))\n",
        "print(\"Últimos 2 valores:\\n\",aapl['2017-3'].tail(2))"
      ],
      "execution_count": null,
      "outputs": []
    },
    {
      "cell_type": "markdown",
      "metadata": {
        "id": "kqd4U0ZcIvz7"
      },
      "source": [
        "## Resampling"
      ]
    },
    {
      "cell_type": "markdown",
      "metadata": {
        "id": "ZgCLUN_8Iudk"
      },
      "source": [
        "\n",
        "series.resample(freq) is a class called \"DatetimeIndexResampler\" which groups data in a Series object into regular time intervals. The argument \"freq\" determines the length of each interval.\n",
        "\n",
        "series.resample.mean() is a complete statement that groups data into intervals, and then compute the mean of each interval. For example, if we want to aggregate the daily data into monthly data by mean:"
      ]
    },
    {
      "cell_type": "code",
      "metadata": {
        "id": "8F1_4gooboLG",
        "colab": {
          "base_uri": "https://localhost:8080/"
        },
        "outputId": "a67787f3-d955-4218-d33d-0ed6ee8f0e19"
      },
      "source": [
        "by_month = aapl.resample('M').mean()\n",
        "print(by_month)"
      ],
      "execution_count": null,
      "outputs": [
        {
          "output_type": "stream",
          "text": [
            "Date\n",
            "2017-01-31    118.093136\n",
            "2017-02-28    132.456268\n",
            "2017-03-31    139.478802\n",
            "2017-04-30    141.728436\n",
            "2017-05-31    151.386305\n",
            "2017-06-30    147.233064\n",
            "2017-07-31    147.706190\n",
            "2017-08-31    158.856375\n",
            "2017-09-30    157.606500\n",
            "2017-10-31    157.811627\n",
            "2017-11-30    172.214500\n",
            "2017-12-31    171.893100\n",
            "Freq: M, Name: Adj. Close, dtype: float64\n"
          ],
          "name": "stdout"
        }
      ]
    },
    {
      "cell_type": "markdown",
      "metadata": {
        "id": "pq4VWG5AIyly"
      },
      "source": [
        "We can also aggregate the data by week:"
      ]
    },
    {
      "cell_type": "code",
      "metadata": {
        "id": "gnlpyrVxboLH",
        "colab": {
          "base_uri": "https://localhost:8080/"
        },
        "outputId": "dd63c1aa-e6d3-4a9b-ea30-14673e57701e"
      },
      "source": [
        "by_week = aapl.resample('W').mean()\n",
        "print(by_week.head())"
      ],
      "execution_count": null,
      "outputs": [
        {
          "output_type": "stream",
          "text": [
            "Date\n",
            "2017-01-08    115.231424\n",
            "2017-01-15    117.755360\n",
            "2017-01-22    118.461035\n",
            "2017-01-29    119.667448\n",
            "2017-02-05    124.313346\n",
            "Freq: W-SUN, Name: Adj. Close, dtype: float64\n"
          ],
          "name": "stdout"
        }
      ]
    },
    {
      "cell_type": "markdown",
      "metadata": {
        "id": "sTtrMgDwI1zE"
      },
      "source": [
        "We can choose almost any frequency by using the format 'nf', where 'n' is an integer and 'f' is M for month, W for week and D for day."
      ]
    },
    {
      "cell_type": "code",
      "metadata": {
        "id": "rCHbMquSboLH",
        "colab": {
          "base_uri": "https://localhost:8080/"
        },
        "outputId": "dae3a18e-7ee2-4632-f447-ccd00fee5f14"
      },
      "source": [
        "aapl.resample('M').max()"
      ],
      "execution_count": null,
      "outputs": [
        {
          "output_type": "execute_result",
          "data": {
            "text/plain": [
              "Date\n",
              "2017-01-31    120.443739\n",
              "2017-02-28    135.999390\n",
              "2017-03-31    142.952608\n",
              "2017-04-30    143.597342\n",
              "2017-05-31    155.469192\n",
              "2017-06-30    154.821818\n",
              "2017-07-31    152.839860\n",
              "2017-08-31    164.000000\n",
              "2017-09-30    164.050000\n",
              "2017-10-31    169.040000\n",
              "2017-11-30    175.880000\n",
              "2017-12-31    176.420000\n",
              "Freq: M, Name: Adj. Close, dtype: float64"
            ]
          },
          "metadata": {
            "tags": []
          },
          "execution_count": 16
        }
      ]
    },
    {
      "cell_type": "code",
      "metadata": {
        "id": "OU3IPfh1boLH"
      },
      "source": [
        "three_day = aapl.resample('3D').mean()\n",
        "two_week = aapl.resample('2W').mean()\n",
        "two_month = aapl.resample('2M').mean()"
      ],
      "execution_count": null,
      "outputs": []
    },
    {
      "cell_type": "markdown",
      "metadata": {
        "id": "aCjmiXoXI5eq"
      },
      "source": [
        "Besides the mean() method, other methods can also be used with the resampler:"
      ]
    },
    {
      "cell_type": "code",
      "metadata": {
        "id": "K9I0CY4HboLH"
      },
      "source": [
        "std = aapl.resample('W').std()\n",
        "max = aapl.resample('W').max()\n",
        "min = aapl.resample('W').min()"
      ],
      "execution_count": null,
      "outputs": []
    },
    {
      "cell_type": "markdown",
      "metadata": {
        "id": "0AliPkSaI6ou"
      },
      "source": [
        "Often we want to calculate monthly returns of a stock, based on prices on the last day of each month. To fetch those prices, we use the series.resample.agg() method:"
      ]
    },
    {
      "cell_type": "code",
      "metadata": {
        "id": "IPwhppPwboLI",
        "colab": {
          "base_uri": "https://localhost:8080/"
        },
        "outputId": "dda6ac06-72c3-4691-87ee-6fd3efd81ff9"
      },
      "source": [
        "last_day = aapl.resample('M').agg(lambda x: x[-1])\n",
        "print(last_day)"
      ],
      "execution_count": null,
      "outputs": [
        {
          "output_type": "stream",
          "text": [
            "Date\n",
            "2017-01-31    119.851150\n",
            "2017-02-28    135.880362\n",
            "2017-03-31    142.496334\n",
            "2017-04-30    142.486415\n",
            "2017-05-31    152.142689\n",
            "2017-06-30    143.438008\n",
            "2017-07-31    148.248489\n",
            "2017-08-31    164.000000\n",
            "2017-09-30    154.120000\n",
            "2017-10-31    169.040000\n",
            "2017-11-30    171.850000\n",
            "2017-12-31    169.230000\n",
            "Freq: M, Name: Adj. Close, dtype: float64\n"
          ],
          "name": "stdout"
        }
      ]
    },
    {
      "cell_type": "markdown",
      "metadata": {
        "id": "luXBflv2I9Wy"
      },
      "source": [
        "Or directly calculate the monthly rates of return using the data for the first day and the last day:\n",
        "\n"
      ]
    },
    {
      "cell_type": "code",
      "metadata": {
        "id": "A6ECL1WdboLI",
        "colab": {
          "base_uri": "https://localhost:8080/"
        },
        "outputId": "9dc95176-d762-4a89-ab7e-5e826c7e088c"
      },
      "source": [
        "monthly_return = aapl.resample('M').agg(lambda x: x[-1]/x[1] - 1)\n",
        "print(monthly_return)"
      ],
      "execution_count": null,
      "outputs": [
        {
          "output_type": "stream",
          "text": [
            "Date\n",
            "2017-01-31    0.045940\n",
            "2017-02-28    0.070409\n",
            "2017-03-31    0.033823\n",
            "2017-04-30   -0.007736\n",
            "2017-05-31    0.039829\n",
            "2017-06-30   -0.073528\n",
            "2017-07-31    0.033035\n",
            "2017-08-31    0.047890\n",
            "2017-09-30   -0.049112\n",
            "2017-10-31    0.094252\n",
            "2017-11-30    0.022247\n",
            "2017-12-31   -0.003357\n",
            "Freq: M, Name: Adj. Close, dtype: float64\n"
          ],
          "name": "stdout"
        }
      ]
    },
    {
      "cell_type": "markdown",
      "metadata": {
        "id": "pPx3mdcLJErx"
      },
      "source": [
        "Series object also provides us some convenient methods to do some quick calculation."
      ]
    },
    {
      "cell_type": "code",
      "metadata": {
        "id": "OSabwv10boLI"
      },
      "source": [
        "by_week = aapl.resample('W').mean()"
      ],
      "execution_count": null,
      "outputs": []
    },
    {
      "cell_type": "code",
      "metadata": {
        "id": "3j-RUP8LboLI",
        "colab": {
          "base_uri": "https://localhost:8080/"
        },
        "outputId": "bfae9012-9724-46eb-bd69-50d21b9b6692"
      },
      "source": [
        "twomon = aapl.resample('2M').std()\n",
        "twomon"
      ],
      "execution_count": null,
      "outputs": [
        {
          "output_type": "execute_result",
          "data": {
            "text/plain": [
              "Date\n",
              "2017-01-31    1.781512\n",
              "2017-03-31    4.323834\n",
              "2017-05-31    5.454495\n",
              "2017-07-31    3.865333\n",
              "2017-09-30    3.634223\n",
              "2017-11-30    8.011704\n",
              "2018-01-31    2.291229\n",
              "Freq: 2M, Name: Adj. Close, dtype: float64"
            ]
          },
          "metadata": {
            "tags": []
          },
          "execution_count": 22
        }
      ]
    },
    {
      "cell_type": "code",
      "metadata": {
        "id": "jQ08u_VeboLJ",
        "colab": {
          "base_uri": "https://localhost:8080/"
        },
        "outputId": "adb864e6-17a1-43b1-954a-aa8bf9b0599d"
      },
      "source": [
        "last_day = aapl.resample('M').agg(lambda x: x[-1])\n",
        "last_day"
      ],
      "execution_count": null,
      "outputs": [
        {
          "output_type": "execute_result",
          "data": {
            "text/plain": [
              "Date\n",
              "2017-01-31    119.851150\n",
              "2017-02-28    135.880362\n",
              "2017-03-31    142.496334\n",
              "2017-04-30    142.486415\n",
              "2017-05-31    152.142689\n",
              "2017-06-30    143.438008\n",
              "2017-07-31    148.248489\n",
              "2017-08-31    164.000000\n",
              "2017-09-30    154.120000\n",
              "2017-10-31    169.040000\n",
              "2017-11-30    171.850000\n",
              "2017-12-31    169.230000\n",
              "Freq: M, Name: Adj. Close, dtype: float64"
            ]
          },
          "metadata": {
            "tags": []
          },
          "execution_count": 23
        }
      ]
    },
    {
      "cell_type": "code",
      "metadata": {
        "id": "CBKm2OFgboLJ",
        "colab": {
          "base_uri": "https://localhost:8080/"
        },
        "outputId": "737f581a-b6ce-4cd0-dae5-4e9fbd6556e5"
      },
      "source": [
        "monthly_return = aapl.resample('M').agg(lambda x: x[-1]/x[1] - 1)\n",
        "monthly_return"
      ],
      "execution_count": null,
      "outputs": [
        {
          "output_type": "execute_result",
          "data": {
            "text/plain": [
              "Date\n",
              "2017-01-31    0.045940\n",
              "2017-02-28    0.070409\n",
              "2017-03-31    0.033823\n",
              "2017-04-30   -0.007736\n",
              "2017-05-31    0.039829\n",
              "2017-06-30   -0.073528\n",
              "2017-07-31    0.033035\n",
              "2017-08-31    0.047890\n",
              "2017-09-30   -0.049112\n",
              "2017-10-31    0.094252\n",
              "2017-11-30    0.022247\n",
              "2017-12-31   -0.003357\n",
              "Freq: M, Name: Adj. Close, dtype: float64"
            ]
          },
          "metadata": {
            "tags": []
          },
          "execution_count": 24
        }
      ]
    },
    {
      "cell_type": "code",
      "metadata": {
        "id": "n-hvdwaoboLJ",
        "colab": {
          "base_uri": "https://localhost:8080/"
        },
        "outputId": "d3cebe82-6a68-4d64-e88d-77e144cff3e3"
      },
      "source": [
        "print(monthly_return.mean())\n",
        "print(monthly_return.std())\n",
        "print(monthly_return.max())"
      ],
      "execution_count": null,
      "outputs": [
        {
          "output_type": "stream",
          "text": [
            "0.02114094011940022\n",
            "0.04775652864223314\n",
            "0.09425168306576914\n"
          ],
          "name": "stdout"
        }
      ]
    },
    {
      "cell_type": "markdown",
      "metadata": {
        "id": "9zf173erJNC1"
      },
      "source": [
        "Another two methods frequently used on Series are .diff() and .pct_change(). The former calculates the difference between consecutive elements, and the latter calculates the percentage change."
      ]
    },
    {
      "cell_type": "code",
      "metadata": {
        "id": "YEpxBNLpboLJ",
        "colab": {
          "base_uri": "https://localhost:8080/"
        },
        "outputId": "afd3056d-272e-4329-941d-7888f4e9f7e7"
      },
      "source": [
        "print(last_day.diff())\n",
        "print(last_day.pct_change())"
      ],
      "execution_count": null,
      "outputs": [
        {
          "output_type": "stream",
          "text": [
            "Date\n",
            "2017-01-31          NaN\n",
            "2017-02-28    16.029211\n",
            "2017-03-31     6.615972\n",
            "2017-04-30    -0.009919\n",
            "2017-05-31     9.656274\n",
            "2017-06-30    -8.704681\n",
            "2017-07-31     4.810482\n",
            "2017-08-31    15.751511\n",
            "2017-09-30    -9.880000\n",
            "2017-10-31    14.920000\n",
            "2017-11-30     2.810000\n",
            "2017-12-31    -2.620000\n",
            "Freq: M, Name: Adj. Close, dtype: float64\n",
            "Date\n",
            "2017-01-31         NaN\n",
            "2017-02-28    0.133743\n",
            "2017-03-31    0.048690\n",
            "2017-04-30   -0.000070\n",
            "2017-05-31    0.067770\n",
            "2017-06-30   -0.057214\n",
            "2017-07-31    0.033537\n",
            "2017-08-31    0.106251\n",
            "2017-09-30   -0.060244\n",
            "2017-10-31    0.096808\n",
            "2017-11-30    0.016623\n",
            "2017-12-31   -0.015246\n",
            "Freq: M, Name: Adj. Close, dtype: float64\n"
          ],
          "name": "stdout"
        }
      ]
    },
    {
      "cell_type": "markdown",
      "metadata": {
        "id": "cd9mzh1zJUDb"
      },
      "source": [
        "Notice that we induced a NaN value while calculating percentage changes i.e. returns.\n",
        "\n",
        "When dealing with NaN values, we usually either removing the data point or fill it with a specific value. Here we fill it with 0:"
      ]
    },
    {
      "cell_type": "code",
      "metadata": {
        "id": "VQmKxGKbboLK",
        "colab": {
          "base_uri": "https://localhost:8080/"
        },
        "outputId": "63614cbb-d64d-48e4-cc61-0a646c614c9f"
      },
      "source": [
        "print(aapl.describe())"
      ],
      "execution_count": null,
      "outputs": [
        {
          "output_type": "stream",
          "text": [
            "count    249.000000\n",
            "mean     149.815713\n",
            "std       15.065681\n",
            "min      114.586983\n",
            "25%      140.651400\n",
            "50%      151.890000\n",
            "75%      159.780000\n",
            "max      176.420000\n",
            "Name: Adj. Close, dtype: float64\n"
          ],
          "name": "stdout"
        }
      ]
    },
    {
      "cell_type": "markdown",
      "metadata": {
        "id": "aVolF6hqJVdi"
      },
      "source": [
        "Alternatively, we can fill a NaN with the next fitted value. This is called 'backward fill', or 'bfill' in short:"
      ]
    },
    {
      "cell_type": "code",
      "metadata": {
        "id": "-Hwgm-GFboLK",
        "colab": {
          "base_uri": "https://localhost:8080/"
        },
        "outputId": "68089c86-ef73-4346-b859-42bf6e0b14a3"
      },
      "source": [
        "daily_return = last_day.pct_change()\n",
        "print(daily_return.fillna(0))"
      ],
      "execution_count": null,
      "outputs": [
        {
          "output_type": "stream",
          "text": [
            "Date\n",
            "2017-01-31    0.000000\n",
            "2017-02-28    0.133743\n",
            "2017-03-31    0.048690\n",
            "2017-04-30   -0.000070\n",
            "2017-05-31    0.067770\n",
            "2017-06-30   -0.057214\n",
            "2017-07-31    0.033537\n",
            "2017-08-31    0.106251\n",
            "2017-09-30   -0.060244\n",
            "2017-10-31    0.096808\n",
            "2017-11-30    0.016623\n",
            "2017-12-31   -0.015246\n",
            "Freq: M, Name: Adj. Close, dtype: float64\n"
          ],
          "name": "stdout"
        }
      ]
    },
    {
      "cell_type": "markdown",
      "metadata": {
        "id": "k6GGxObxJXCk"
      },
      "source": [
        "As expected, since there is a 'backward fill' method, there must be a 'forward fill' method, or 'ffill' in short. However we can't use it here because the NaN is the first value.\n",
        "\n",
        "We can also simply remove NaN values by .dropna()"
      ]
    },
    {
      "cell_type": "code",
      "metadata": {
        "id": "4vSiszmrboLK",
        "colab": {
          "base_uri": "https://localhost:8080/"
        },
        "outputId": "bc6b94a6-41a4-41e9-aea7-8ae60daa4b88"
      },
      "source": [
        "daily_return = last_day.pct_change()\n",
        "print(daily_return.fillna(method = 'bfill'))"
      ],
      "execution_count": null,
      "outputs": [
        {
          "output_type": "stream",
          "text": [
            "Date\n",
            "2017-01-31    0.133743\n",
            "2017-02-28    0.133743\n",
            "2017-03-31    0.048690\n",
            "2017-04-30   -0.000070\n",
            "2017-05-31    0.067770\n",
            "2017-06-30   -0.057214\n",
            "2017-07-31    0.033537\n",
            "2017-08-31    0.106251\n",
            "2017-09-30   -0.060244\n",
            "2017-10-31    0.096808\n",
            "2017-11-30    0.016623\n",
            "2017-12-31   -0.015246\n",
            "Freq: M, Name: Adj. Close, dtype: float64\n"
          ],
          "name": "stdout"
        }
      ]
    },
    {
      "cell_type": "code",
      "metadata": {
        "id": "UWQ1Y7epboLK",
        "colab": {
          "base_uri": "https://localhost:8080/"
        },
        "outputId": "fa70f2b6-f620-4d5d-919e-2c0811def41f"
      },
      "source": [
        "daily_return = last_day.pct_change()\n",
        "daily_return.dropna()"
      ],
      "execution_count": null,
      "outputs": [
        {
          "output_type": "execute_result",
          "data": {
            "text/plain": [
              "Date\n",
              "2017-02-28    0.133743\n",
              "2017-03-31    0.048690\n",
              "2017-04-30   -0.000070\n",
              "2017-05-31    0.067770\n",
              "2017-06-30   -0.057214\n",
              "2017-07-31    0.033537\n",
              "2017-08-31    0.106251\n",
              "2017-09-30   -0.060244\n",
              "2017-10-31    0.096808\n",
              "2017-11-30    0.016623\n",
              "2017-12-31   -0.015246\n",
              "Freq: M, Name: Adj. Close, dtype: float64"
            ]
          },
          "metadata": {
            "tags": []
          },
          "execution_count": 30
        }
      ]
    },
    {
      "cell_type": "markdown",
      "metadata": {
        "id": "QEHN9wzi2FWI"
      },
      "source": [
        "**Mi ejemplo para esta sección:**"
      ]
    },
    {
      "cell_type": "code",
      "metadata": {
        "colab": {
          "base_uri": "https://localhost:8080/"
        },
        "id": "X14iUqrX2IpM",
        "outputId": "f8255306-18a5-44b5-ec1c-e518a44b5d3c"
      },
      "source": [
        "std_by_day = aapl.resample('D').std()\n",
        "print(std_by_day)"
      ],
      "execution_count": null,
      "outputs": [
        {
          "output_type": "stream",
          "text": [
            "Date\n",
            "2017-01-03   NaN\n",
            "2017-01-04   NaN\n",
            "2017-01-05   NaN\n",
            "2017-01-06   NaN\n",
            "2017-01-07   NaN\n",
            "              ..\n",
            "2017-12-25   NaN\n",
            "2017-12-26   NaN\n",
            "2017-12-27   NaN\n",
            "2017-12-28   NaN\n",
            "2017-12-29   NaN\n",
            "Freq: D, Name: Adj. Close, Length: 361, dtype: float64\n"
          ],
          "name": "stdout"
        }
      ]
    },
    {
      "cell_type": "code",
      "metadata": {
        "colab": {
          "base_uri": "https://localhost:8080/"
        },
        "id": "2gnnH1DsG9Wg",
        "outputId": "d8ae65f6-3f48-4970-c4b5-2ef8ec480996"
      },
      "source": [
        "last_month = aapl.resample('Y').agg(lambda x: x[-1])\n",
        "last_month"
      ],
      "execution_count": null,
      "outputs": [
        {
          "output_type": "execute_result",
          "data": {
            "text/plain": [
              "Date\n",
              "2017-12-31    169.23\n",
              "Freq: A-DEC, Name: Adj. Close, dtype: float64"
            ]
          },
          "metadata": {
            "tags": []
          },
          "execution_count": 31
        }
      ]
    },
    {
      "cell_type": "code",
      "metadata": {
        "colab": {
          "base_uri": "https://localhost:8080/"
        },
        "id": "Zcg8FUkyHVA7",
        "outputId": "7ae66d51-67f0-437b-cda1-a368b12a7470"
      },
      "source": [
        "monthly_return = last_month.pct_change()\n",
        "print(monthly_return.fillna(method = 'bfill'))"
      ],
      "execution_count": null,
      "outputs": [
        {
          "output_type": "stream",
          "text": [
            "Date\n",
            "2017-12-31   NaN\n",
            "Freq: A-DEC, Name: Adj. Close, dtype: float64\n"
          ],
          "name": "stdout"
        }
      ]
    },
    {
      "cell_type": "code",
      "metadata": {
        "colab": {
          "base_uri": "https://localhost:8080/"
        },
        "id": "xrOowPMtHJYr",
        "outputId": "e04d0849-3103-4c82-8ad1-c99acf5aa4c5"
      },
      "source": [
        "monthly_return = last_month.pct_change()\n",
        "monthly_return.dropna()"
      ],
      "execution_count": null,
      "outputs": [
        {
          "output_type": "execute_result",
          "data": {
            "text/plain": [
              "Series([], Freq: A-DEC, Name: Adj. Close, dtype: float64)"
            ]
          },
          "metadata": {
            "tags": []
          },
          "execution_count": 33
        }
      ]
    },
    {
      "cell_type": "markdown",
      "metadata": {
        "id": "E2VLk-erJYnY"
      },
      "source": [
        "## DataFrame"
      ]
    },
    {
      "cell_type": "markdown",
      "metadata": {
        "id": "SoygSxyxJaNy"
      },
      "source": [
        "The DataFrame is the most commonly used data structure in Pandas. It is essentially a table, just like an Excel spreadsheet.\n",
        "\n",
        "More precisely, a DataFrame is a collection of Series objects, each of which may contain different data types. A DataFrame can be created from various data types: dictionary, 2-D numpy.ndarray, a Series or another DataFrame.\n",
        "\n",
        "Create DataFrames\n",
        "The most common method of creating a DataFrame is passing a dictionary:"
      ]
    },
    {
      "cell_type": "code",
      "metadata": {
        "id": "ibIT47PCboLL"
      },
      "source": [
        "# aapl.resample('M').agg(lambda x: max(x) - min(x))"
      ],
      "execution_count": null,
      "outputs": []
    },
    {
      "cell_type": "code",
      "metadata": {
        "id": "DM7obcrOboLL",
        "colab": {
          "base_uri": "https://localhost:8080/"
        },
        "outputId": "fb7a3ff7-0325-42e4-a734-d659be48f2ad"
      },
      "source": [
        "dict = {'AAPL': [143.5, 144.09, 142.73, 144.18, 143.77],'GOOG':[898.7, 911.71, 906.69, 918.59, 926.99],\n",
        "        'IBM':[155.58, 153.67, 152.36, 152.94, 153.49]}\n",
        "data_index = pd.date_range('2017-07-03',periods = 5, freq = 'D')\n",
        "df = pd.DataFrame(dict, index = data_index)\n",
        "print(df)"
      ],
      "execution_count": null,
      "outputs": [
        {
          "output_type": "stream",
          "text": [
            "              AAPL    GOOG     IBM\n",
            "2017-07-03  143.50  898.70  155.58\n",
            "2017-07-04  144.09  911.71  153.67\n",
            "2017-07-05  142.73  906.69  152.36\n",
            "2017-07-06  144.18  918.59  152.94\n",
            "2017-07-07  143.77  926.99  153.49\n"
          ],
          "name": "stdout"
        }
      ]
    },
    {
      "cell_type": "code",
      "metadata": {
        "id": "SrKHOZHTboLL",
        "colab": {
          "base_uri": "https://localhost:8080/"
        },
        "outputId": "0979bc73-83a7-4e28-9abb-9bfbd272783b"
      },
      "source": [
        "s1 = pd.Series([143.5, 144.09, 142.73, 144.18, 143.77], name = 'AAPL')\n",
        "s2 = pd.Series([898.7, 911.71, 906.69, 918.59, 926.99], name = 'GOOG')\n",
        "data_frame = pd.concat([s1,s2], axis = 1)\n",
        "print(data_frame)"
      ],
      "execution_count": null,
      "outputs": [
        {
          "output_type": "stream",
          "text": [
            "     AAPL    GOOG\n",
            "0  143.50  898.70\n",
            "1  144.09  911.71\n",
            "2  142.73  906.69\n",
            "3  144.18  918.59\n",
            "4  143.77  926.99\n"
          ],
          "name": "stdout"
        }
      ]
    },
    {
      "cell_type": "code",
      "metadata": {
        "id": "iuau6gb7boLM",
        "colab": {
          "base_uri": "https://localhost:8080/"
        },
        "outputId": "3fc7b55b-985a-4268-a9ee-c34f1f15aa03"
      },
      "source": [
        "print(df.columns)\n",
        "print(df.AAPL)\n",
        "print(df['GOOG'])"
      ],
      "execution_count": null,
      "outputs": [
        {
          "output_type": "stream",
          "text": [
            "Index(['AAPL', 'GOOG', 'IBM'], dtype='object')\n",
            "2017-07-03    143.50\n",
            "2017-07-04    144.09\n",
            "2017-07-05    142.73\n",
            "2017-07-06    144.18\n",
            "2017-07-07    143.77\n",
            "Freq: D, Name: AAPL, dtype: float64\n",
            "2017-07-03    898.70\n",
            "2017-07-04    911.71\n",
            "2017-07-05    906.69\n",
            "2017-07-06    918.59\n",
            "2017-07-07    926.99\n",
            "Freq: D, Name: GOOG, dtype: float64\n"
          ],
          "name": "stdout"
        }
      ]
    },
    {
      "cell_type": "markdown",
      "metadata": {
        "id": "fxypUb02Jhg6"
      },
      "source": [
        "**Manipulating DataFrames**\n",
        "\n",
        "\n",
        "We can fetch values in a DataFrame by columns and index. Each column in a DataFrame is essentially a Pandas Series. We can fetch a column by square brackets: df['column_name']\n",
        "\n",
        "If a column name contains no spaces, then we can also use df.column_name to fetch a column:\n",
        "\n"
      ]
    },
    {
      "cell_type": "code",
      "metadata": {
        "id": "C_PndHHtboLM",
        "colab": {
          "base_uri": "https://localhost:8080/"
        },
        "outputId": "38a4c7e3-9a90-4931-95ec-b8c44d1b6aaa"
      },
      "source": [
        "df = aapl_table\n",
        "print(df.Close.tail(5))\n",
        "print(df['Adj. Volume'].tail(5))"
      ],
      "execution_count": null,
      "outputs": [
        {
          "output_type": "stream",
          "text": [
            "Date\n",
            "2018-03-21    171.270\n",
            "2018-03-22    168.845\n",
            "2018-03-23    164.940\n",
            "2018-03-26    172.770\n",
            "2018-03-27    168.340\n",
            "Name: Close, dtype: float64\n",
            "Date\n",
            "2018-03-21    35247358.0\n",
            "2018-03-22    41051076.0\n",
            "2018-03-23    40248954.0\n",
            "2018-03-26    36272617.0\n",
            "2018-03-27    38962839.0\n",
            "Name: Adj. Volume, dtype: float64\n"
          ],
          "name": "stdout"
        }
      ]
    },
    {
      "cell_type": "markdown",
      "metadata": {
        "id": "DYhnuHjIJxFS"
      },
      "source": [
        "All the methods we applied to a Series index such as iloc[], loc[] and resampling methods, can also be applied to a DataFrame:\n",
        "\n"
      ]
    },
    {
      "cell_type": "code",
      "metadata": {
        "id": "Ab3F6lDoboLM",
        "colab": {
          "base_uri": "https://localhost:8080/"
        },
        "outputId": "44bdd923-82e1-4fa0-d195-562cb4a5b06c"
      },
      "source": [
        "aapl_2016 = df['2016']\n",
        "aapl_month = aapl_2016.resample('M').agg(lambda x: x[-1])\n",
        "print(aapl_month)"
      ],
      "execution_count": null,
      "outputs": [
        {
          "output_type": "stream",
          "text": [
            "              Open      High     Low  ...    Adj. Low  Adj. Close  Adj. Volume\n",
            "Date                                  ...                                     \n",
            "2016-01-31   94.79   97.3400   94.35  ...   91.156128   94.044912   64416504.0\n",
            "2016-02-29   96.86   98.2300   96.65  ...   93.880927   93.919781   35216277.0\n",
            "2016-03-31  109.72  109.9000  108.88  ...  105.760531  105.867380   25888449.0\n",
            "2016-04-30   93.99   94.7200   92.51  ...   89.859540   91.054300   68531478.0\n",
            "2016-05-31   99.60  100.4000   98.82  ...   96.575559   97.591939   42307212.0\n",
            "2016-06-30   94.44   95.7700   94.30  ...   92.158220   93.428693   35836356.0\n",
            "2016-07-31  104.19  104.5500  103.68  ...  101.325177  101.843140   27733688.0\n",
            "2016-08-31  105.66  106.5699  105.64  ...  103.796505  104.248477   29662406.0\n",
            "2016-09-30  112.46  113.3700  111.80  ...  109.849008  111.077195   36379106.0\n",
            "2016-10-31  113.65  114.2300  113.20  ...  111.224577  111.558644   26419398.0\n",
            "2016-11-30  111.56  112.2000  110.27  ...  108.908004  109.154917   36162258.0\n",
            "2016-12-31  116.65  117.2000  115.43  ...  114.004271  114.389454   30586265.0\n",
            "\n",
            "[12 rows x 12 columns]\n"
          ],
          "name": "stdout"
        }
      ]
    },
    {
      "cell_type": "markdown",
      "metadata": {
        "id": "I5-qEVQOJzoC"
      },
      "source": [
        "We may select certain columns of a DataFrame using their names:"
      ]
    },
    {
      "cell_type": "code",
      "metadata": {
        "id": "EPBkpTRAboLM",
        "colab": {
          "base_uri": "https://localhost:8080/"
        },
        "outputId": "aa8479ba-0cc4-4a90-cf60-0c3c4d8462c4"
      },
      "source": [
        "aapl_bar = aapl_month[['Open', 'High', 'Low', 'Close']]\n",
        "print(aapl_bar)"
      ],
      "execution_count": null,
      "outputs": [
        {
          "output_type": "stream",
          "text": [
            "              Open      High     Low   Close\n",
            "Date                                        \n",
            "2016-01-31   94.79   97.3400   94.35   97.34\n",
            "2016-02-29   96.86   98.2300   96.65   96.69\n",
            "2016-03-31  109.72  109.9000  108.88  108.99\n",
            "2016-04-30   93.99   94.7200   92.51   93.74\n",
            "2016-05-31   99.60  100.4000   98.82   99.86\n",
            "2016-06-30   94.44   95.7700   94.30   95.60\n",
            "2016-07-31  104.19  104.5500  103.68  104.21\n",
            "2016-08-31  105.66  106.5699  105.64  106.10\n",
            "2016-09-30  112.46  113.3700  111.80  113.05\n",
            "2016-10-31  113.65  114.2300  113.20  113.54\n",
            "2016-11-30  111.56  112.2000  110.27  110.52\n",
            "2016-12-31  116.65  117.2000  115.43  115.82\n"
          ],
          "name": "stdout"
        }
      ]
    },
    {
      "cell_type": "markdown",
      "metadata": {
        "id": "yyVWxyrBJ05S"
      },
      "source": [
        "We can even specify both rows and columns using loc[]. The row indices and column names are separated by a comma:\n",
        "\n"
      ]
    },
    {
      "cell_type": "code",
      "metadata": {
        "id": "TDFenAEuboLM",
        "colab": {
          "base_uri": "https://localhost:8080/"
        },
        "outputId": "d70e0187-b55d-40b7-b26e-5a6058b547fc"
      },
      "source": [
        "print(aapl_month.loc['2016-03':'2016-06',['Open', 'High', 'Low', 'Close']])"
      ],
      "execution_count": null,
      "outputs": [
        {
          "output_type": "stream",
          "text": [
            "              Open    High     Low   Close\n",
            "Date                                      \n",
            "2016-03-31  109.72  109.90  108.88  108.99\n",
            "2016-04-30   93.99   94.72   92.51   93.74\n",
            "2016-05-31   99.60  100.40   98.82   99.86\n",
            "2016-06-30   94.44   95.77   94.30   95.60\n"
          ],
          "name": "stdout"
        }
      ]
    },
    {
      "cell_type": "markdown",
      "metadata": {
        "id": "sgulpVZTJ27k"
      },
      "source": [
        "The subset methods in DataFrame is quite useful. By writing logical statements in square brackets, we can make customized subsets:"
      ]
    },
    {
      "cell_type": "code",
      "metadata": {
        "id": "5BIUr5utboLN",
        "colab": {
          "base_uri": "https://localhost:8080/"
        },
        "outputId": "bde92e4e-37f5-4fcf-9c73-a6bdf5c2d2c4"
      },
      "source": [
        "above = aapl_bar[aapl_bar.Close > np.mean(aapl_bar.Close)]\n",
        "print(above)"
      ],
      "execution_count": null,
      "outputs": [
        {
          "output_type": "stream",
          "text": [
            "              Open      High     Low   Close\n",
            "Date                                        \n",
            "2016-03-31  109.72  109.9000  108.88  108.99\n",
            "2016-08-31  105.66  106.5699  105.64  106.10\n",
            "2016-09-30  112.46  113.3700  111.80  113.05\n",
            "2016-10-31  113.65  114.2300  113.20  113.54\n",
            "2016-11-30  111.56  112.2000  110.27  110.52\n",
            "2016-12-31  116.65  117.2000  115.43  115.82\n"
          ],
          "name": "stdout"
        }
      ]
    },
    {
      "cell_type": "markdown",
      "metadata": {
        "id": "ZyWPul0uJ5aM"
      },
      "source": [
        "**Data Validation**\n",
        "\n",
        "As mentioned, all methods that apply to a Series can also be applied to a DataFrame. Here we add a new column to an existing DataFrame:"
      ]
    },
    {
      "cell_type": "code",
      "metadata": {
        "id": "WSx3OP5uboLN",
        "colab": {
          "base_uri": "https://localhost:8080/"
        },
        "outputId": "d780024a-07e5-40d4-8c32-8c0fc03f9a6d"
      },
      "source": [
        "aapl_bar['rate_return'] = aapl_bar.Close.pct_change()\n",
        "print(aapl_bar)"
      ],
      "execution_count": null,
      "outputs": [
        {
          "output_type": "stream",
          "text": [
            "              Open      High     Low   Close  rate_return\n",
            "Date                                                     \n",
            "2016-01-31   94.79   97.3400   94.35   97.34          NaN\n",
            "2016-02-29   96.86   98.2300   96.65   96.69    -0.006678\n",
            "2016-03-31  109.72  109.9000  108.88  108.99     0.127211\n",
            "2016-04-30   93.99   94.7200   92.51   93.74    -0.139921\n",
            "2016-05-31   99.60  100.4000   98.82   99.86     0.065287\n",
            "2016-06-30   94.44   95.7700   94.30   95.60    -0.042660\n",
            "2016-07-31  104.19  104.5500  103.68  104.21     0.090063\n",
            "2016-08-31  105.66  106.5699  105.64  106.10     0.018136\n",
            "2016-09-30  112.46  113.3700  111.80  113.05     0.065504\n",
            "2016-10-31  113.65  114.2300  113.20  113.54     0.004334\n",
            "2016-11-30  111.56  112.2000  110.27  110.52    -0.026599\n",
            "2016-12-31  116.65  117.2000  115.43  115.82     0.047955\n"
          ],
          "name": "stdout"
        },
        {
          "output_type": "stream",
          "text": [
            "/usr/local/lib/python3.7/dist-packages/ipykernel_launcher.py:1: SettingWithCopyWarning: \n",
            "A value is trying to be set on a copy of a slice from a DataFrame.\n",
            "Try using .loc[row_indexer,col_indexer] = value instead\n",
            "\n",
            "See the caveats in the documentation: https://pandas.pydata.org/pandas-docs/stable/user_guide/indexing.html#returning-a-view-versus-a-copy\n",
            "  \"\"\"Entry point for launching an IPython kernel.\n"
          ],
          "name": "stderr"
        }
      ]
    },
    {
      "cell_type": "markdown",
      "metadata": {
        "id": "34VJ9I3ZJ8uJ"
      },
      "source": [
        "Here the calculation introduced a NaN value. If the DataFrame is large, we would not be able to observe it. isnull() provides a convenient way to check abnormal values."
      ]
    },
    {
      "cell_type": "code",
      "metadata": {
        "id": "2VSTRhb9boLN",
        "colab": {
          "base_uri": "https://localhost:8080/"
        },
        "outputId": "ad7442d6-6fff-4162-9a24-d0d177b8e638"
      },
      "source": [
        "missing = aapl_bar.isnull()\n",
        "print(missing)\n",
        "print('\\n------------------ separate line -----------------\\n')\n",
        "print(missing.describe())"
      ],
      "execution_count": null,
      "outputs": [
        {
          "output_type": "stream",
          "text": [
            "             Open   High    Low  Close  rate_return\n",
            "Date                                               \n",
            "2016-01-31  False  False  False  False         True\n",
            "2016-02-29  False  False  False  False        False\n",
            "2016-03-31  False  False  False  False        False\n",
            "2016-04-30  False  False  False  False        False\n",
            "2016-05-31  False  False  False  False        False\n",
            "2016-06-30  False  False  False  False        False\n",
            "2016-07-31  False  False  False  False        False\n",
            "2016-08-31  False  False  False  False        False\n",
            "2016-09-30  False  False  False  False        False\n",
            "2016-10-31  False  False  False  False        False\n",
            "2016-11-30  False  False  False  False        False\n",
            "2016-12-31  False  False  False  False        False\n",
            "\n",
            "------------------ separate line -----------------\n",
            "\n",
            "         Open   High    Low  Close rate_return\n",
            "count      12     12     12     12          12\n",
            "unique      1      1      1      1           2\n",
            "top     False  False  False  False       False\n",
            "freq       12     12     12     12          11\n"
          ],
          "name": "stdout"
        }
      ]
    },
    {
      "cell_type": "markdown",
      "metadata": {
        "id": "QSApoReGKFeW"
      },
      "source": [
        "The row labelled \"unique\" indicates the number of unique values in each column. Since the \"rate_return\" column has 2 unique values, it has at least one missing value.\n",
        "\n",
        "We can deduce the number of missing values by comparing \"count\" with \"freq\". There are 12 counts and 11 False values, so there is one True value which corresponds to the missing value.\n",
        "\n",
        "We can also find the rows with missing values easily:"
      ]
    },
    {
      "cell_type": "code",
      "metadata": {
        "id": "HZBH1VFIboLN",
        "colab": {
          "base_uri": "https://localhost:8080/"
        },
        "outputId": "3725baf5-12e9-4a55-8c5d-3033ce898eeb"
      },
      "source": [
        "print(missing[missing.rate_return == True])"
      ],
      "execution_count": null,
      "outputs": [
        {
          "output_type": "stream",
          "text": [
            "             Open   High    Low  Close  rate_return\n",
            "Date                                               \n",
            "2016-01-31  False  False  False  False         True\n"
          ],
          "name": "stdout"
        }
      ]
    },
    {
      "cell_type": "markdown",
      "metadata": {
        "id": "sCS5OfwnKHFF"
      },
      "source": [
        "Usually when dealing with missing data, we either delete the whole row or fill it with some value. As we introduced in the Series chapter, the same method dropna() and fillna() can be applied to a DataFrame.\n",
        "\n"
      ]
    },
    {
      "cell_type": "code",
      "metadata": {
        "id": "jbNswKa5boLO",
        "colab": {
          "base_uri": "https://localhost:8080/"
        },
        "outputId": "17142bf6-bf20-411a-88a6-6508cd7ab664"
      },
      "source": [
        "drop = aapl_bar.dropna()\n",
        "print(drop)\n",
        "print('\\n---------------------- separate line--------------------\\n')\n",
        "fill = aapl_bar.fillna(0)\n",
        "print(fill)"
      ],
      "execution_count": null,
      "outputs": [
        {
          "output_type": "stream",
          "text": [
            "              Open      High     Low   Close  rate_return\n",
            "Date                                                     \n",
            "2016-02-29   96.86   98.2300   96.65   96.69    -0.006678\n",
            "2016-03-31  109.72  109.9000  108.88  108.99     0.127211\n",
            "2016-04-30   93.99   94.7200   92.51   93.74    -0.139921\n",
            "2016-05-31   99.60  100.4000   98.82   99.86     0.065287\n",
            "2016-06-30   94.44   95.7700   94.30   95.60    -0.042660\n",
            "2016-07-31  104.19  104.5500  103.68  104.21     0.090063\n",
            "2016-08-31  105.66  106.5699  105.64  106.10     0.018136\n",
            "2016-09-30  112.46  113.3700  111.80  113.05     0.065504\n",
            "2016-10-31  113.65  114.2300  113.20  113.54     0.004334\n",
            "2016-11-30  111.56  112.2000  110.27  110.52    -0.026599\n",
            "2016-12-31  116.65  117.2000  115.43  115.82     0.047955\n",
            "\n",
            "---------------------- separate line--------------------\n",
            "\n",
            "              Open      High     Low   Close  rate_return\n",
            "Date                                                     \n",
            "2016-01-31   94.79   97.3400   94.35   97.34     0.000000\n",
            "2016-02-29   96.86   98.2300   96.65   96.69    -0.006678\n",
            "2016-03-31  109.72  109.9000  108.88  108.99     0.127211\n",
            "2016-04-30   93.99   94.7200   92.51   93.74    -0.139921\n",
            "2016-05-31   99.60  100.4000   98.82   99.86     0.065287\n",
            "2016-06-30   94.44   95.7700   94.30   95.60    -0.042660\n",
            "2016-07-31  104.19  104.5500  103.68  104.21     0.090063\n",
            "2016-08-31  105.66  106.5699  105.64  106.10     0.018136\n",
            "2016-09-30  112.46  113.3700  111.80  113.05     0.065504\n",
            "2016-10-31  113.65  114.2300  113.20  113.54     0.004334\n",
            "2016-11-30  111.56  112.2000  110.27  110.52    -0.026599\n",
            "2016-12-31  116.65  117.2000  115.43  115.82     0.047955\n"
          ],
          "name": "stdout"
        }
      ]
    },
    {
      "cell_type": "markdown",
      "metadata": {
        "id": "fxr_jlvGKJ46"
      },
      "source": [
        "**DataFrame Concat**\n",
        "\n",
        "We have seen how to extract a Series from a dataFrame. Now we need to consider how to merge a Series or a DataFrame into another one.\n",
        "\n",
        "In Pandas, the function concat() allows us to merge multiple Series into a DataFrame:"
      ]
    },
    {
      "cell_type": "code",
      "metadata": {
        "id": "fdX2V5umboLO",
        "colab": {
          "base_uri": "https://localhost:8080/"
        },
        "outputId": "b164dc73-0c60-46ad-b636-6027fa2ee354"
      },
      "source": [
        "s1 = pd.Series([143.5, 144.09, 142.73, 144.18, 143.77], name = 'AAPL')\n",
        "s2 = pd.Series([898.7, 911.71, 906.69, 918.59, 926.99], name = 'GOOG')\n",
        "data_frame = pd.concat([s1,s2], axis = 1)\n",
        "print(data_frame)"
      ],
      "execution_count": null,
      "outputs": [
        {
          "output_type": "stream",
          "text": [
            "     AAPL    GOOG\n",
            "0  143.50  898.70\n",
            "1  144.09  911.71\n",
            "2  142.73  906.69\n",
            "3  144.18  918.59\n",
            "4  143.77  926.99\n"
          ],
          "name": "stdout"
        }
      ]
    },
    {
      "cell_type": "markdown",
      "metadata": {
        "id": "XJKjwrk5KMqS"
      },
      "source": [
        "The \"axis = 1\" parameter will join two DataFrames by columns:"
      ]
    },
    {
      "cell_type": "code",
      "metadata": {
        "id": "hfhS2wttboLO",
        "colab": {
          "base_uri": "https://localhost:8080/"
        },
        "outputId": "de846b4b-8c8f-4786-df6b-74fb2fded105"
      },
      "source": [
        "log_price = np.log(aapl_bar.Close)\n",
        "log_price.name = 'log_price'\n",
        "print(log_price)\n",
        "print('\\n---------------------- separate line--------------------\\n')\n",
        "concat = pd.concat([aapl_bar, log_price], axis = 1)\n",
        "print(concat)"
      ],
      "execution_count": null,
      "outputs": [
        {
          "output_type": "stream",
          "text": [
            "Date\n",
            "2016-01-31    4.578210\n",
            "2016-02-29    4.571510\n",
            "2016-03-31    4.691256\n",
            "2016-04-30    4.540525\n",
            "2016-05-31    4.603769\n",
            "2016-06-30    4.560173\n",
            "2016-07-31    4.646408\n",
            "2016-08-31    4.664382\n",
            "2016-09-30    4.727830\n",
            "2016-10-31    4.732155\n",
            "2016-11-30    4.705197\n",
            "2016-12-31    4.752037\n",
            "Freq: M, Name: log_price, dtype: float64\n",
            "\n",
            "---------------------- separate line--------------------\n",
            "\n",
            "              Open      High     Low   Close  rate_return  log_price\n",
            "Date                                                                \n",
            "2016-01-31   94.79   97.3400   94.35   97.34          NaN   4.578210\n",
            "2016-02-29   96.86   98.2300   96.65   96.69    -0.006678   4.571510\n",
            "2016-03-31  109.72  109.9000  108.88  108.99     0.127211   4.691256\n",
            "2016-04-30   93.99   94.7200   92.51   93.74    -0.139921   4.540525\n",
            "2016-05-31   99.60  100.4000   98.82   99.86     0.065287   4.603769\n",
            "2016-06-30   94.44   95.7700   94.30   95.60    -0.042660   4.560173\n",
            "2016-07-31  104.19  104.5500  103.68  104.21     0.090063   4.646408\n",
            "2016-08-31  105.66  106.5699  105.64  106.10     0.018136   4.664382\n",
            "2016-09-30  112.46  113.3700  111.80  113.05     0.065504   4.727830\n",
            "2016-10-31  113.65  114.2300  113.20  113.54     0.004334   4.732155\n",
            "2016-11-30  111.56  112.2000  110.27  110.52    -0.026599   4.705197\n",
            "2016-12-31  116.65  117.2000  115.43  115.82     0.047955   4.752037\n"
          ],
          "name": "stdout"
        }
      ]
    },
    {
      "cell_type": "markdown",
      "metadata": {
        "id": "EiAphL0kKO8x"
      },
      "source": [
        "We can also join two DataFrames by rows. Consider these two DataFrames:"
      ]
    },
    {
      "cell_type": "code",
      "metadata": {
        "id": "L1mf5-qBboLO",
        "colab": {
          "base_uri": "https://localhost:8080/"
        },
        "outputId": "4132561d-7e7f-480f-cd64-5a27b0acf54e"
      },
      "source": [
        "df_volume = aapl_table.loc['2016-10':'2017-04',['Volume', 'Split Ratio']].resample('M').agg(lambda x: x[-1])\n",
        "print(df_volume)\n",
        "print('\\n---------------------- separate line--------------------\\n')\n",
        "df_2017 = aapl_table.loc['2016-10':'2017-04',['Open', 'High', 'Low', 'Close']].resample('M').agg(lambda x: x[-1])\n",
        "print(df_2017)"
      ],
      "execution_count": null,
      "outputs": [
        {
          "output_type": "stream",
          "text": [
            "                Volume  Split Ratio\n",
            "Date                               \n",
            "2016-10-31  26419398.0          1.0\n",
            "2016-11-30  36162258.0          1.0\n",
            "2016-12-31  30586265.0          1.0\n",
            "2017-01-31  49200993.0          1.0\n",
            "2017-02-28  23482860.0          1.0\n",
            "2017-03-31  19661651.0          1.0\n",
            "2017-04-30  20247187.0          1.0\n",
            "\n",
            "---------------------- separate line--------------------\n",
            "\n",
            "              Open     High     Low   Close\n",
            "Date                                       \n",
            "2016-10-31  113.65  114.230  113.20  113.54\n",
            "2016-11-30  111.56  112.200  110.27  110.52\n",
            "2016-12-31  116.65  117.200  115.43  115.82\n",
            "2017-01-31  121.15  121.390  120.62  121.35\n",
            "2017-02-28  137.08  137.435  136.70  136.99\n",
            "2017-03-31  143.72  144.270  143.01  143.66\n",
            "2017-04-30  144.09  144.300  143.27  143.65\n"
          ],
          "name": "stdout"
        }
      ]
    },
    {
      "cell_type": "markdown",
      "metadata": {
        "id": "SNui3HkAKQxA"
      },
      "source": [
        "Now we merge the DataFrames with our DataFrame 'aapl_bar'"
      ]
    },
    {
      "cell_type": "code",
      "metadata": {
        "id": "rPBe1QRcboLP",
        "colab": {
          "base_uri": "https://localhost:8080/"
        },
        "outputId": "94bdcdf8-638b-4796-d731-738562a0f597"
      },
      "source": [
        "concat = pd.concat([aapl_bar,df_volume],axis = 1)\n",
        "print(concat)"
      ],
      "execution_count": null,
      "outputs": [
        {
          "output_type": "stream",
          "text": [
            "              Open      High     Low  ...  rate_return      Volume  Split Ratio\n",
            "Date                                  ...                                      \n",
            "2016-01-31   94.79   97.3400   94.35  ...          NaN         NaN          NaN\n",
            "2016-02-29   96.86   98.2300   96.65  ...    -0.006678         NaN          NaN\n",
            "2016-03-31  109.72  109.9000  108.88  ...     0.127211         NaN          NaN\n",
            "2016-04-30   93.99   94.7200   92.51  ...    -0.139921         NaN          NaN\n",
            "2016-05-31   99.60  100.4000   98.82  ...     0.065287         NaN          NaN\n",
            "2016-06-30   94.44   95.7700   94.30  ...    -0.042660         NaN          NaN\n",
            "2016-07-31  104.19  104.5500  103.68  ...     0.090063         NaN          NaN\n",
            "2016-08-31  105.66  106.5699  105.64  ...     0.018136         NaN          NaN\n",
            "2016-09-30  112.46  113.3700  111.80  ...     0.065504         NaN          NaN\n",
            "2016-10-31  113.65  114.2300  113.20  ...     0.004334  26419398.0          1.0\n",
            "2016-11-30  111.56  112.2000  110.27  ...    -0.026599  36162258.0          1.0\n",
            "2016-12-31  116.65  117.2000  115.43  ...     0.047955  30586265.0          1.0\n",
            "2017-01-31     NaN       NaN     NaN  ...          NaN  49200993.0          1.0\n",
            "2017-02-28     NaN       NaN     NaN  ...          NaN  23482860.0          1.0\n",
            "2017-03-31     NaN       NaN     NaN  ...          NaN  19661651.0          1.0\n",
            "2017-04-30     NaN       NaN     NaN  ...          NaN  20247187.0          1.0\n",
            "\n",
            "[16 rows x 7 columns]\n"
          ],
          "name": "stdout"
        }
      ]
    },
    {
      "cell_type": "markdown",
      "metadata": {
        "id": "JCjIWC8AKWDF"
      },
      "source": [
        "By default the DataFrame are joined with all of the data. This default options results in zero information loss. We can also merge them by intersection, this is called 'inner join':"
      ]
    },
    {
      "cell_type": "code",
      "metadata": {
        "id": "UyA5rhzEboLP",
        "colab": {
          "base_uri": "https://localhost:8080/"
        },
        "outputId": "87b1e3c7-9296-4ff5-918a-4bdf7be32ef4"
      },
      "source": [
        "concat = pd.concat([aapl_bar,df_volume],axis = 1, join = 'inner')\n",
        "print(concat)"
      ],
      "execution_count": null,
      "outputs": [
        {
          "output_type": "stream",
          "text": [
            "              Open    High     Low  ...  rate_return      Volume  Split Ratio\n",
            "Date                                ...                                      \n",
            "2016-10-31  113.65  114.23  113.20  ...     0.004334  26419398.0          1.0\n",
            "2016-11-30  111.56  112.20  110.27  ...    -0.026599  36162258.0          1.0\n",
            "2016-12-31  116.65  117.20  115.43  ...     0.047955  30586265.0          1.0\n",
            "\n",
            "[3 rows x 7 columns]\n"
          ],
          "name": "stdout"
        }
      ]
    },
    {
      "cell_type": "markdown",
      "metadata": {
        "id": "eiik-gunKXXR"
      },
      "source": [
        "Only the intersection part was left if use 'inner join' method. Now let's try to append a DataFrame to another one:"
      ]
    },
    {
      "cell_type": "code",
      "metadata": {
        "id": "LMpBnTnMboLP",
        "colab": {
          "base_uri": "https://localhost:8080/"
        },
        "outputId": "e7b3bff9-6423-4805-82bf-f951e41f9596"
      },
      "source": [
        "append = aapl_bar.append(df_2017)\n",
        "print(append)"
      ],
      "execution_count": null,
      "outputs": [
        {
          "output_type": "stream",
          "text": [
            "              Open      High     Low   Close  rate_return\n",
            "Date                                                     \n",
            "2016-01-31   94.79   97.3400   94.35   97.34          NaN\n",
            "2016-02-29   96.86   98.2300   96.65   96.69    -0.006678\n",
            "2016-03-31  109.72  109.9000  108.88  108.99     0.127211\n",
            "2016-04-30   93.99   94.7200   92.51   93.74    -0.139921\n",
            "2016-05-31   99.60  100.4000   98.82   99.86     0.065287\n",
            "2016-06-30   94.44   95.7700   94.30   95.60    -0.042660\n",
            "2016-07-31  104.19  104.5500  103.68  104.21     0.090063\n",
            "2016-08-31  105.66  106.5699  105.64  106.10     0.018136\n",
            "2016-09-30  112.46  113.3700  111.80  113.05     0.065504\n",
            "2016-10-31  113.65  114.2300  113.20  113.54     0.004334\n",
            "2016-11-30  111.56  112.2000  110.27  110.52    -0.026599\n",
            "2016-12-31  116.65  117.2000  115.43  115.82     0.047955\n",
            "2016-10-31  113.65  114.2300  113.20  113.54          NaN\n",
            "2016-11-30  111.56  112.2000  110.27  110.52          NaN\n",
            "2016-12-31  116.65  117.2000  115.43  115.82          NaN\n",
            "2017-01-31  121.15  121.3900  120.62  121.35          NaN\n",
            "2017-02-28  137.08  137.4350  136.70  136.99          NaN\n",
            "2017-03-31  143.72  144.2700  143.01  143.66          NaN\n",
            "2017-04-30  144.09  144.3000  143.27  143.65          NaN\n"
          ],
          "name": "stdout"
        }
      ]
    },
    {
      "cell_type": "markdown",
      "metadata": {
        "id": "uQvWzVepKZAn"
      },
      "source": [
        "'Append' is essentially to concat two DataFrames by axis = 0, thus here is an alternative way to append:"
      ]
    },
    {
      "cell_type": "code",
      "metadata": {
        "id": "3U5sxyZoboLP",
        "colab": {
          "base_uri": "https://localhost:8080/"
        },
        "outputId": "9d7c1e2a-f250-41ab-f2ee-e3710fea7f15"
      },
      "source": [
        "concat = pd.concat([aapl_bar, df_2017], axis = 0)\n",
        "print(concat)"
      ],
      "execution_count": null,
      "outputs": [
        {
          "output_type": "stream",
          "text": [
            "              Open      High     Low   Close  rate_return\n",
            "Date                                                     \n",
            "2016-01-31   94.79   97.3400   94.35   97.34          NaN\n",
            "2016-02-29   96.86   98.2300   96.65   96.69    -0.006678\n",
            "2016-03-31  109.72  109.9000  108.88  108.99     0.127211\n",
            "2016-04-30   93.99   94.7200   92.51   93.74    -0.139921\n",
            "2016-05-31   99.60  100.4000   98.82   99.86     0.065287\n",
            "2016-06-30   94.44   95.7700   94.30   95.60    -0.042660\n",
            "2016-07-31  104.19  104.5500  103.68  104.21     0.090063\n",
            "2016-08-31  105.66  106.5699  105.64  106.10     0.018136\n",
            "2016-09-30  112.46  113.3700  111.80  113.05     0.065504\n",
            "2016-10-31  113.65  114.2300  113.20  113.54     0.004334\n",
            "2016-11-30  111.56  112.2000  110.27  110.52    -0.026599\n",
            "2016-12-31  116.65  117.2000  115.43  115.82     0.047955\n",
            "2016-10-31  113.65  114.2300  113.20  113.54          NaN\n",
            "2016-11-30  111.56  112.2000  110.27  110.52          NaN\n",
            "2016-12-31  116.65  117.2000  115.43  115.82          NaN\n",
            "2017-01-31  121.15  121.3900  120.62  121.35          NaN\n",
            "2017-02-28  137.08  137.4350  136.70  136.99          NaN\n",
            "2017-03-31  143.72  144.2700  143.01  143.66          NaN\n",
            "2017-04-30  144.09  144.3000  143.27  143.65          NaN\n"
          ],
          "name": "stdout"
        }
      ]
    },
    {
      "cell_type": "markdown",
      "metadata": {
        "id": "DxZFmlkSKafj"
      },
      "source": [
        "Please note that if the two DataFrame have some columns with the same column names, these columns are considered to be the same and will be merged. It's very important to have the right column names. If we change a column names here:"
      ]
    },
    {
      "cell_type": "code",
      "metadata": {
        "id": "4L5AI8-HboLQ",
        "colab": {
          "base_uri": "https://localhost:8080/"
        },
        "outputId": "c628ebb6-f8dc-40b7-a60d-92874c812916"
      },
      "source": [
        "df_2017.columns = ['Change', 'High','Low','Close']\n",
        "concat = pd.concat([aapl_bar, df_2017], axis = 0)\n",
        "print(concat)"
      ],
      "execution_count": null,
      "outputs": [
        {
          "output_type": "stream",
          "text": [
            "              Open      High     Low   Close  rate_return  Change\n",
            "Date                                                             \n",
            "2016-01-31   94.79   97.3400   94.35   97.34          NaN     NaN\n",
            "2016-02-29   96.86   98.2300   96.65   96.69    -0.006678     NaN\n",
            "2016-03-31  109.72  109.9000  108.88  108.99     0.127211     NaN\n",
            "2016-04-30   93.99   94.7200   92.51   93.74    -0.139921     NaN\n",
            "2016-05-31   99.60  100.4000   98.82   99.86     0.065287     NaN\n",
            "2016-06-30   94.44   95.7700   94.30   95.60    -0.042660     NaN\n",
            "2016-07-31  104.19  104.5500  103.68  104.21     0.090063     NaN\n",
            "2016-08-31  105.66  106.5699  105.64  106.10     0.018136     NaN\n",
            "2016-09-30  112.46  113.3700  111.80  113.05     0.065504     NaN\n",
            "2016-10-31  113.65  114.2300  113.20  113.54     0.004334     NaN\n",
            "2016-11-30  111.56  112.2000  110.27  110.52    -0.026599     NaN\n",
            "2016-12-31  116.65  117.2000  115.43  115.82     0.047955     NaN\n",
            "2016-10-31     NaN  114.2300  113.20  113.54          NaN  113.65\n",
            "2016-11-30     NaN  112.2000  110.27  110.52          NaN  111.56\n",
            "2016-12-31     NaN  117.2000  115.43  115.82          NaN  116.65\n",
            "2017-01-31     NaN  121.3900  120.62  121.35          NaN  121.15\n",
            "2017-02-28     NaN  137.4350  136.70  136.99          NaN  137.08\n",
            "2017-03-31     NaN  144.2700  143.01  143.66          NaN  143.72\n",
            "2017-04-30     NaN  144.3000  143.27  143.65          NaN  144.09\n"
          ],
          "name": "stdout"
        }
      ]
    },
    {
      "cell_type": "code",
      "metadata": {
        "id": "yvZUzSfsboLQ",
        "colab": {
          "base_uri": "https://localhost:8080/"
        },
        "outputId": "2312f2da-32fc-4537-9639-11db225a7576"
      },
      "source": [
        "concat = pd.concat([aapl_bar, df_2017], axis = 0)\n",
        "print(concat)"
      ],
      "execution_count": null,
      "outputs": [
        {
          "output_type": "stream",
          "text": [
            "              Open      High     Low   Close  rate_return  Change\n",
            "Date                                                             \n",
            "2016-01-31   94.79   97.3400   94.35   97.34          NaN     NaN\n",
            "2016-02-29   96.86   98.2300   96.65   96.69    -0.006678     NaN\n",
            "2016-03-31  109.72  109.9000  108.88  108.99     0.127211     NaN\n",
            "2016-04-30   93.99   94.7200   92.51   93.74    -0.139921     NaN\n",
            "2016-05-31   99.60  100.4000   98.82   99.86     0.065287     NaN\n",
            "2016-06-30   94.44   95.7700   94.30   95.60    -0.042660     NaN\n",
            "2016-07-31  104.19  104.5500  103.68  104.21     0.090063     NaN\n",
            "2016-08-31  105.66  106.5699  105.64  106.10     0.018136     NaN\n",
            "2016-09-30  112.46  113.3700  111.80  113.05     0.065504     NaN\n",
            "2016-10-31  113.65  114.2300  113.20  113.54     0.004334     NaN\n",
            "2016-11-30  111.56  112.2000  110.27  110.52    -0.026599     NaN\n",
            "2016-12-31  116.65  117.2000  115.43  115.82     0.047955     NaN\n",
            "2016-10-31     NaN  114.2300  113.20  113.54          NaN  113.65\n",
            "2016-11-30     NaN  112.2000  110.27  110.52          NaN  111.56\n",
            "2016-12-31     NaN  117.2000  115.43  115.82          NaN  116.65\n",
            "2017-01-31     NaN  121.3900  120.62  121.35          NaN  121.15\n",
            "2017-02-28     NaN  137.4350  136.70  136.99          NaN  137.08\n",
            "2017-03-31     NaN  144.2700  143.01  143.66          NaN  143.72\n",
            "2017-04-30     NaN  144.3000  143.27  143.65          NaN  144.09\n"
          ],
          "name": "stdout"
        }
      ]
    },
    {
      "cell_type": "markdown",
      "metadata": {
        "id": "rFY9ToeJKcxC"
      },
      "source": [
        "Since the column name of 'Open' has been changed, the new DataFrame has an new column named 'Change'."
      ]
    },
    {
      "cell_type": "markdown",
      "metadata": {
        "id": "1_IcRen7H4Uz"
      },
      "source": [
        "**Mi ejemplo para esta sección:**"
      ]
    },
    {
      "cell_type": "code",
      "metadata": {
        "id": "dGQ0MKTeH8Mz"
      },
      "source": [
        "#Data Frame de las tablas de multiplicar:\n",
        "dict_Tablas = {\n",
        "    1 : [1, 2, 3, 4, 5, 6, 7, 8, 9, 10],\n",
        "    2 : [2, 4, 6, 8, 10, 12, 14, 16, 18, 20],\n",
        "    3 : [3, 6, 9, 12, 15, 18, 21, 24, 27, 30],\n",
        "    4 : [4, 8, 12, 16, 20, 24, 28, 32, 36, 40],\n",
        "    5 : [5, 10, 15, 20, 25, 30, 35, 40, 45, 50],\n",
        "    6 : [6, 12, 18, 24, 30, 36, 42, 48, 54, 60],\n",
        "    7 : [7, 14, 21, 28, 35, 42, 49, 56, 63, 70],\n",
        "    8 : [8, 16, 24, 32, 40, 48, 56, 64, 72, 80],\n",
        "    9 : [9, 18, 27, 36, 45, 54, 63, 72, 81, 90],\n",
        "    10 : [10, 20, 30, 40, 50, 60, 70, 80, 90, 100]\n",
        "}\n",
        "frame_data_T = pd.DataFrame(dict_Tablas, pd.RangeIndex(1, 11,1))\n",
        "print(frame_data_T, frame_data_T.index, type(frame_data_T.index))\n",
        "frame_data_T.index = ['1 x', '2 x', '3 x', '4 x', '5 x', '6 x', '7 x', '8 x', '9 x', '10 x']\n",
        "print(frame_data_T, frame_data_T.index, type(frame_data_T.index))"
      ],
      "execution_count": null,
      "outputs": []
    },
    {
      "cell_type": "markdown",
      "metadata": {
        "id": "jwwSryoqKePj"
      },
      "source": [
        "## Summary\n"
      ]
    },
    {
      "cell_type": "markdown",
      "metadata": {
        "id": "af1ZU2lZKjsC"
      },
      "source": [
        "\n",
        "Hereby we introduced the most import part of python: resampling and DataFrame manipulation. We only introduced the most commonly used method in Financial data analysis. There are also many methods used in data mining, which are also beneficial. You can always check the Pandas official documentations for help."
      ]
    }
  ]
}